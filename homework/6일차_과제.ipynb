{
 "cells": [
  {
   "cell_type": "markdown",
   "id": "6d790207",
   "metadata": {},
   "source": [
    "현대 자동차 데이터를 이용\n",
    "가격:1135 \n",
    "년식:2015\n",
    "연비: 15\n",
    "마력:100\n",
    "토크:13.6\n",
    "연료:가솔린\n",
    "하이브리드:0\n",
    "배기량:1368\n",
    "중량:1035\n",
    "변속기:수동\n",
    "\n",
    "인경우 종류( 준중형, 소형, 대형)\n",
    "를 예측하시요.\n",
    " KNN, decision tree, naive_bayes, svc \n",
    "각각의 모델에 대해 \n",
    "\n",
    "0. 각모델별 예측값 구하시요.\n",
    "1. f1 score(train, test) , confusion matrix,\n",
    "를 구하시요\n",
    "\n",
    "2. 각모델별 train ,test f1 를  bar 그래프로 그리고\n",
    "가장높은 f1 score 의 모델을 확인하시요.\n"
   ]
  },
  {
   "cell_type": "markdown",
   "id": "77298cb0",
   "metadata": {},
   "source": [
    "## 라이브러리 불러오기"
   ]
  },
  {
   "cell_type": "code",
   "execution_count": 1,
   "id": "28f6efaf",
   "metadata": {
    "ExecuteTime": {
     "end_time": "2021-07-26T17:14:03.911943Z",
     "start_time": "2021-07-26T17:14:02.339170Z"
    }
   },
   "outputs": [],
   "source": [
    "import pandas as pd\n",
    "import numpy as np\n",
    "import matplotlib.pyplot as plt\n",
    "import matplotlib\n",
    "import seaborn as sns\n",
    "\n",
    "from sklearn.model_selection import train_test_split, GridSearchCV\n",
    "from sklearn.pipeline import make_pipeline\n",
    "from sklearn.metrics import f1_score, confusion_matrix\n",
    "from sklearn.compose import make_column_transformer\n",
    "\n",
    "\n",
    "from sklearn.preprocessing import StandardScaler, MinMaxScaler\n",
    "from sklearn.preprocessing import OneHotEncoder, LabelEncoder, OrdinalEncoder\n",
    "\n",
    "from sklearn.svm import SVC\n",
    "from sklearn.neighbors import KNeighborsClassifier\n",
    "from sklearn.tree import DecisionTreeClassifier\n",
    "from sklearn.naive_bayes import GaussianNB #, GaussianNB, BernoulliNB,\n",
    "\n",
    "\n",
    "import warnings\n",
    "warnings.simplefilter('ignore')\n",
    "\n",
    "matplotlib.rcParams['font.family']='Malgun Gothic'\n",
    "matplotlib.rcParams['axes.unicode_minus'] = False"
   ]
  },
  {
   "cell_type": "markdown",
   "id": "b7a51bbd",
   "metadata": {},
   "source": [
    "## 데이터 로드 및 분리"
   ]
  },
  {
   "cell_type": "code",
   "execution_count": 2,
   "id": "c0f6bd18",
   "metadata": {
    "ExecuteTime": {
     "end_time": "2021-07-26T17:14:04.288769Z",
     "start_time": "2021-07-26T17:14:03.913942Z"
    }
   },
   "outputs": [
    {
     "data": {
      "text/html": [
       "<div>\n",
       "<style scoped>\n",
       "    .dataframe tbody tr th:only-of-type {\n",
       "        vertical-align: middle;\n",
       "    }\n",
       "\n",
       "    .dataframe tbody tr th {\n",
       "        vertical-align: top;\n",
       "    }\n",
       "\n",
       "    .dataframe thead th {\n",
       "        text-align: right;\n",
       "    }\n",
       "</style>\n",
       "<table border=\"1\" class=\"dataframe\">\n",
       "  <thead>\n",
       "    <tr style=\"text-align: right;\">\n",
       "      <th></th>\n",
       "      <th>가격</th>\n",
       "      <th>년식</th>\n",
       "      <th>종류</th>\n",
       "      <th>연비</th>\n",
       "      <th>마력</th>\n",
       "      <th>토크</th>\n",
       "      <th>연료</th>\n",
       "      <th>하이브리드</th>\n",
       "      <th>배기량</th>\n",
       "      <th>중량</th>\n",
       "      <th>변속기</th>\n",
       "    </tr>\n",
       "  </thead>\n",
       "  <tbody>\n",
       "    <tr>\n",
       "      <th>0</th>\n",
       "      <td>1885</td>\n",
       "      <td>2015</td>\n",
       "      <td>준중형</td>\n",
       "      <td>11.8</td>\n",
       "      <td>172</td>\n",
       "      <td>21.0</td>\n",
       "      <td>가솔린</td>\n",
       "      <td>0</td>\n",
       "      <td>1999</td>\n",
       "      <td>1300</td>\n",
       "      <td>자동</td>\n",
       "    </tr>\n",
       "    <tr>\n",
       "      <th>1</th>\n",
       "      <td>2190</td>\n",
       "      <td>2015</td>\n",
       "      <td>준중형</td>\n",
       "      <td>12.3</td>\n",
       "      <td>204</td>\n",
       "      <td>27.0</td>\n",
       "      <td>가솔린</td>\n",
       "      <td>0</td>\n",
       "      <td>1591</td>\n",
       "      <td>1300</td>\n",
       "      <td>자동</td>\n",
       "    </tr>\n",
       "    <tr>\n",
       "      <th>2</th>\n",
       "      <td>1135</td>\n",
       "      <td>2015</td>\n",
       "      <td>소형</td>\n",
       "      <td>15.0</td>\n",
       "      <td>100</td>\n",
       "      <td>13.6</td>\n",
       "      <td>가솔린</td>\n",
       "      <td>0</td>\n",
       "      <td>1368</td>\n",
       "      <td>1035</td>\n",
       "      <td>수동</td>\n",
       "    </tr>\n",
       "    <tr>\n",
       "      <th>3</th>\n",
       "      <td>1645</td>\n",
       "      <td>2014</td>\n",
       "      <td>소형</td>\n",
       "      <td>14.0</td>\n",
       "      <td>140</td>\n",
       "      <td>17.0</td>\n",
       "      <td>가솔린</td>\n",
       "      <td>0</td>\n",
       "      <td>1591</td>\n",
       "      <td>1090</td>\n",
       "      <td>자동</td>\n",
       "    </tr>\n",
       "    <tr>\n",
       "      <th>4</th>\n",
       "      <td>1960</td>\n",
       "      <td>2015</td>\n",
       "      <td>대형</td>\n",
       "      <td>9.6</td>\n",
       "      <td>175</td>\n",
       "      <td>46.0</td>\n",
       "      <td>디젤</td>\n",
       "      <td>0</td>\n",
       "      <td>2497</td>\n",
       "      <td>1990</td>\n",
       "      <td>자동</td>\n",
       "    </tr>\n",
       "  </tbody>\n",
       "</table>\n",
       "</div>"
      ],
      "text/plain": [
       "     가격    년식   종류    연비   마력    토크   연료  하이브리드   배기량    중량 변속기\n",
       "0  1885  2015  준중형  11.8  172  21.0  가솔린      0  1999  1300  자동\n",
       "1  2190  2015  준중형  12.3  204  27.0  가솔린      0  1591  1300  자동\n",
       "2  1135  2015   소형  15.0  100  13.6  가솔린      0  1368  1035  수동\n",
       "3  1645  2014   소형  14.0  140  17.0  가솔린      0  1591  1090  자동\n",
       "4  1960  2015   대형   9.6  175  46.0   디젤      0  2497  1990  자동"
      ]
     },
     "execution_count": 2,
     "metadata": {},
     "output_type": "execute_result"
    }
   ],
   "source": [
    "df = pd.read_excel('./data5/hyundaiCar.xlsx')\n",
    "df.head()"
   ]
  },
  {
   "cell_type": "code",
   "execution_count": 3,
   "id": "9b7ff9e7",
   "metadata": {
    "ExecuteTime": {
     "end_time": "2021-07-26T17:14:04.303535Z",
     "start_time": "2021-07-26T17:14:04.290733Z"
    }
   },
   "outputs": [
    {
     "data": {
      "text/plain": [
       "가격       57\n",
       "년식        5\n",
       "종류        4\n",
       "연비       44\n",
       "마력       28\n",
       "토크       28\n",
       "연료        3\n",
       "하이브리드     2\n",
       "배기량      16\n",
       "중량       48\n",
       "변속기       2\n",
       "dtype: int64"
      ]
     },
     "execution_count": 3,
     "metadata": {},
     "output_type": "execute_result"
    }
   ],
   "source": [
    "df.nunique()"
   ]
  },
  {
   "cell_type": "code",
   "execution_count": 4,
   "id": "2e73757d",
   "metadata": {
    "ExecuteTime": {
     "end_time": "2021-07-26T17:14:04.318525Z",
     "start_time": "2021-07-26T17:14:04.304532Z"
    }
   },
   "outputs": [
    {
     "data": {
      "text/plain": [
       "Index(['가격', '년식', '종류', '연비', '마력', '토크', '연료', '하이브리드', '배기량', '중량', '변속기'], dtype='object')"
      ]
     },
     "execution_count": 4,
     "metadata": {},
     "output_type": "execute_result"
    }
   ],
   "source": [
    "df.columns"
   ]
  },
  {
   "cell_type": "code",
   "execution_count": 5,
   "id": "2ee57b08",
   "metadata": {
    "ExecuteTime": {
     "end_time": "2021-07-26T17:14:04.333455Z",
     "start_time": "2021-07-26T17:14:04.319493Z"
    }
   },
   "outputs": [],
   "source": [
    "x_data = df[['가격', '년식', '연비', '마력', '토크', '연료', '하이브리드', '배기량', '중량', '변속기']]\n",
    "y_data = df[['종류']]"
   ]
  },
  {
   "cell_type": "code",
   "execution_count": 6,
   "id": "db4e78b0",
   "metadata": {
    "ExecuteTime": {
     "end_time": "2021-07-26T17:14:04.348970Z",
     "start_time": "2021-07-26T17:14:04.334452Z"
    }
   },
   "outputs": [],
   "source": [
    "x_train, x_test, y_train, y_test = train_test_split(x_data, y_data, random_state=1, stratify=y_data, test_size=0.2)"
   ]
  },
  {
   "cell_type": "code",
   "execution_count": 7,
   "id": "0cf44554",
   "metadata": {
    "ExecuteTime": {
     "end_time": "2021-07-26T17:14:04.363928Z",
     "start_time": "2021-07-26T17:14:04.350927Z"
    }
   },
   "outputs": [
    {
     "data": {
      "text/html": [
       "<div>\n",
       "<style scoped>\n",
       "    .dataframe tbody tr th:only-of-type {\n",
       "        vertical-align: middle;\n",
       "    }\n",
       "\n",
       "    .dataframe tbody tr th {\n",
       "        vertical-align: top;\n",
       "    }\n",
       "\n",
       "    .dataframe thead th {\n",
       "        text-align: right;\n",
       "    }\n",
       "</style>\n",
       "<table border=\"1\" class=\"dataframe\">\n",
       "  <thead>\n",
       "    <tr style=\"text-align: right;\">\n",
       "      <th></th>\n",
       "      <th>가격</th>\n",
       "      <th>년식</th>\n",
       "      <th>연비</th>\n",
       "      <th>마력</th>\n",
       "      <th>토크</th>\n",
       "      <th>연료</th>\n",
       "      <th>하이브리드</th>\n",
       "      <th>배기량</th>\n",
       "      <th>중량</th>\n",
       "      <th>변속기</th>\n",
       "    </tr>\n",
       "  </thead>\n",
       "  <tbody>\n",
       "    <tr>\n",
       "      <th>0</th>\n",
       "      <td>1135</td>\n",
       "      <td>2015</td>\n",
       "      <td>15</td>\n",
       "      <td>100</td>\n",
       "      <td>13.6</td>\n",
       "      <td>가솔린</td>\n",
       "      <td>0</td>\n",
       "      <td>1368</td>\n",
       "      <td>1035</td>\n",
       "      <td>수동</td>\n",
       "    </tr>\n",
       "  </tbody>\n",
       "</table>\n",
       "</div>"
      ],
      "text/plain": [
       "     가격    년식  연비   마력    토크   연료  하이브리드   배기량    중량 변속기\n",
       "0  1135  2015  15  100  13.6  가솔린      0  1368  1035  수동"
      ]
     },
     "execution_count": 7,
     "metadata": {},
     "output_type": "execute_result"
    }
   ],
   "source": [
    "# 예측 데이터\n",
    "xd = pd.DataFrame([[1135, 2015, 15, 100, 13.6, '가솔린', 0, 1368, 1035, '수동']], columns=x_data.columns)\n",
    "xd"
   ]
  },
  {
   "cell_type": "markdown",
   "id": "2ff02e84",
   "metadata": {},
   "source": [
    "# 문제 풀이"
   ]
  },
  {
   "cell_type": "markdown",
   "id": "34d7b6e2",
   "metadata": {
    "ExecuteTime": {
     "end_time": "2021-07-26T08:09:58.717265Z",
     "start_time": "2021-07-26T08:09:58.713306Z"
    }
   },
   "source": [
    "## 1. KNN"
   ]
  },
  {
   "cell_type": "markdown",
   "id": "a0354456",
   "metadata": {},
   "source": [
    "### 1.1 모델 생성 및 학습"
   ]
  },
  {
   "cell_type": "code",
   "execution_count": 8,
   "id": "0d1b964a",
   "metadata": {
    "ExecuteTime": {
     "end_time": "2021-07-26T17:14:04.903624Z",
     "start_time": "2021-07-26T17:14:04.364889Z"
    }
   },
   "outputs": [
    {
     "data": {
      "text/plain": [
       "GridSearchCV(estimator=Pipeline(steps=[('columntransformer',\n",
       "                                        ColumnTransformer(transformers=[('onehotencoder',\n",
       "                                                                         OneHotEncoder(),\n",
       "                                                                         ['연료',\n",
       "                                                                          '변속기']),\n",
       "                                                                        ('standardscaler',\n",
       "                                                                         StandardScaler(),\n",
       "                                                                         ['가격',\n",
       "                                                                          '년식',\n",
       "                                                                          '연비',\n",
       "                                                                          '마력',\n",
       "                                                                          '토크',\n",
       "                                                                          '하이브리드',\n",
       "                                                                          '배기량',\n",
       "                                                                          '중량'])])),\n",
       "                                       ('kneighborsclassifier',\n",
       "                                        KNeighborsClassifier())]),\n",
       "             param_grid={'kneighborsclassifier__n_neighbors': [1, 2, 3, 4, 5, 6,\n",
       "                                                               7, 8]},\n",
       "             scoring='f1_macro')"
      ]
     },
     "execution_count": 8,
     "metadata": {},
     "output_type": "execute_result"
    }
   ],
   "source": [
    "# 모델 생성 및 학습\n",
    "ct = make_column_transformer((OneHotEncoder(),['연료', '변속기']),\n",
    "                             (StandardScaler(), ['가격', '년식', '연비', '마력', '토크', '하이브리드', '배기량', '중량']))\n",
    "pipe = make_pipeline(ct, KNeighborsClassifier())\n",
    "param_grid = {'kneighborsclassifier__n_neighbors':[1, 2, 3, 4, 5, 6, 7, 8]}\n",
    "grid_knn = GridSearchCV(pipe, param_grid=param_grid, scoring='f1_macro')\n",
    "grid_knn.fit(x_train, y_train)\n"
   ]
  },
  {
   "cell_type": "markdown",
   "id": "dc288965",
   "metadata": {
    "ExecuteTime": {
     "end_time": "2021-07-26T16:48:40.350729Z",
     "start_time": "2021-07-26T16:48:40.334738Z"
    }
   },
   "source": [
    "### 1.2 best score 및 파라미터"
   ]
  },
  {
   "cell_type": "code",
   "execution_count": 9,
   "id": "0914f6fa",
   "metadata": {
    "ExecuteTime": {
     "end_time": "2021-07-26T17:14:04.919055Z",
     "start_time": "2021-07-26T17:14:04.904530Z"
    }
   },
   "outputs": [
    {
     "name": "stdout",
     "output_type": "stream",
     "text": [
      "{'kneighborsclassifier__n_neighbors': 6}\n",
      "0.746547619047619\n"
     ]
    }
   ],
   "source": [
    "print(grid_knn.best_params_)\n",
    "print(grid_knn.best_score_)"
   ]
  },
  {
   "cell_type": "markdown",
   "id": "587bb10d",
   "metadata": {},
   "source": [
    "### 1.3 예측문제 결과"
   ]
  },
  {
   "cell_type": "code",
   "execution_count": 10,
   "id": "c1920124",
   "metadata": {
    "ExecuteTime": {
     "end_time": "2021-07-26T17:14:04.934038Z",
     "start_time": "2021-07-26T17:14:04.920054Z"
    }
   },
   "outputs": [
    {
     "name": "stdout",
     "output_type": "stream",
     "text": [
      "예측 레이블: 소형\n"
     ]
    }
   ],
   "source": [
    "res = grid_knn.best_estimator_.predict(xd)\n",
    "print('예측 레이블:',res[0])"
   ]
  },
  {
   "cell_type": "markdown",
   "id": "4fa90bfd",
   "metadata": {},
   "source": [
    "### 1.4 f1-score 및 confusion matrix"
   ]
  },
  {
   "cell_type": "code",
   "execution_count": 11,
   "id": "879bfd91",
   "metadata": {
    "ExecuteTime": {
     "end_time": "2021-07-26T17:14:04.963963Z",
     "start_time": "2021-07-26T17:14:04.936003Z"
    }
   },
   "outputs": [
    {
     "name": "stdout",
     "output_type": "stream",
     "text": [
      "train f1-score: 0.800054945054945\n",
      "test f1-score: 0.8582251082251082\n"
     ]
    }
   ],
   "source": [
    "# f1-score\n",
    "y_train_pred = grid_knn.best_estimator_.predict(x_train)\n",
    "f1_knn_train = f1_score(y_train, y_train_pred, average='macro')\n",
    "print('train f1-score:', f1_knn_train)\n",
    "\n",
    "\n",
    "y_test_pred = grid_knn.best_estimator_.predict(x_test)\n",
    "f1_knn_test = f1_score(y_test, y_test_pred, average='macro')\n",
    "print('test f1-score:', f1_knn_test)\n"
   ]
  },
  {
   "cell_type": "code",
   "execution_count": 12,
   "id": "9d9042f2",
   "metadata": {
    "ExecuteTime": {
     "end_time": "2021-07-26T17:14:04.978887Z",
     "start_time": "2021-07-26T17:14:04.964924Z"
    }
   },
   "outputs": [
    {
     "data": {
      "text/plain": [
       "array(['대형', '소형', '준중형', '중형'], dtype=object)"
      ]
     },
     "execution_count": 12,
     "metadata": {},
     "output_type": "execute_result"
    }
   ],
   "source": [
    "grid_knn.classes_"
   ]
  },
  {
   "cell_type": "code",
   "execution_count": 13,
   "id": "1384028f",
   "metadata": {
    "ExecuteTime": {
     "end_time": "2021-07-26T17:14:05.279245Z",
     "start_time": "2021-07-26T17:14:04.979887Z"
    }
   },
   "outputs": [
    {
     "data": {
      "image/png": "[encoded data removed]",
      "text/plain": [
       "<Figure size 432x288 with 2 Axes>"
      ]
     },
     "metadata": {
      "needs_background": "light"
     },
     "output_type": "display_data"
    }
   ],
   "source": [
    "cm = confusion_matrix(y_train, y_train_pred)\n",
    "\n",
    "sns.heatmap(cm, annot=True, cmap='Reds', \n",
    "            xticklabels=['대형예측', '소형예측', '준중형예측', '중형예측'],\n",
    "            yticklabels=grid_knn.classes_, fmt='d')\n",
    "plt.show()"
   ]
  },
  {
   "cell_type": "markdown",
   "id": "c262babb",
   "metadata": {},
   "source": [
    "## 2. Decision Tree"
   ]
  },
  {
   "cell_type": "markdown",
   "id": "244ec4da",
   "metadata": {},
   "source": [
    "### 2.1 모델 생성 및 학습"
   ]
  },
  {
   "cell_type": "code",
   "execution_count": 14,
   "id": "c69140eb",
   "metadata": {
    "ExecuteTime": {
     "end_time": "2021-07-26T17:14:05.818770Z",
     "start_time": "2021-07-26T17:14:05.280243Z"
    }
   },
   "outputs": [
    {
     "data": {
      "text/plain": [
       "GridSearchCV(cv=5,\n",
       "             estimator=Pipeline(steps=[('columntransformer',\n",
       "                                        ColumnTransformer(remainder='passthrough',\n",
       "                                                          transformers=[('ordinalencoder',\n",
       "                                                                         OrdinalEncoder(),\n",
       "                                                                         ['연료',\n",
       "                                                                          '변속기'])])),\n",
       "                                       ('decisiontreeclassifier',\n",
       "                                        DecisionTreeClassifier())]),\n",
       "             param_grid={'decisiontreeclassifier__max_depth': [2, 3, 4, 5, 6, 7,\n",
       "                                                               8, 9, 10, 11, 12,\n",
       "                                                               13, 14]},\n",
       "             scoring='f1_macro')"
      ]
     },
     "execution_count": 14,
     "metadata": {},
     "output_type": "execute_result"
    }
   ],
   "source": [
    "ct = make_column_transformer((OrdinalEncoder(),['연료', '변속기']), remainder='passthrough')\n",
    "pipe = make_pipeline(ct, DecisionTreeClassifier())\n",
    "\n",
    "param_grid = {'decisiontreeclassifier__max_depth':[2, 3, 4, 5, 6, 7, 8, 9, 10, 11, 12, 13, 14]}\n",
    "grid_tree = GridSearchCV(pipe, param_grid=param_grid, cv=5, scoring='f1_macro')\n",
    "grid_tree.fit(x_train, y_train)\n"
   ]
  },
  {
   "cell_type": "markdown",
   "id": "e831e071",
   "metadata": {},
   "source": [
    "### 2.2 best score 및 파라미터\n"
   ]
  },
  {
   "cell_type": "code",
   "execution_count": 15,
   "id": "fba10d4c",
   "metadata": {
    "ExecuteTime": {
     "end_time": "2021-07-26T17:14:05.834668Z",
     "start_time": "2021-07-26T17:14:05.819769Z"
    }
   },
   "outputs": [
    {
     "name": "stdout",
     "output_type": "stream",
     "text": [
      "{'decisiontreeclassifier__max_depth': 3}\n",
      "0.8866666666666667\n"
     ]
    }
   ],
   "source": [
    "print(grid_tree.best_params_)\n",
    "print(grid_tree.best_score_)"
   ]
  },
  {
   "cell_type": "markdown",
   "id": "d080601d",
   "metadata": {},
   "source": [
    "### 2.3 예측문제 결과"
   ]
  },
  {
   "cell_type": "code",
   "execution_count": 16,
   "id": "de78383a",
   "metadata": {
    "ExecuteTime": {
     "end_time": "2021-07-26T17:14:05.850346Z",
     "start_time": "2021-07-26T17:14:05.836359Z"
    }
   },
   "outputs": [
    {
     "name": "stdout",
     "output_type": "stream",
     "text": [
      "예측 레이블: 소형\n"
     ]
    }
   ],
   "source": [
    "res = grid_tree.best_estimator_.predict(xd)\n",
    "print('예측 레이블:',res[0])"
   ]
  },
  {
   "cell_type": "markdown",
   "id": "1f932c9f",
   "metadata": {},
   "source": [
    "### 2.4 f1-score 및 confusion matrix"
   ]
  },
  {
   "cell_type": "code",
   "execution_count": 17,
   "id": "755c7e60",
   "metadata": {
    "ExecuteTime": {
     "end_time": "2021-07-26T17:14:05.880241Z",
     "start_time": "2021-07-26T17:14:05.852316Z"
    }
   },
   "outputs": [
    {
     "name": "stdout",
     "output_type": "stream",
     "text": [
      "train f1-score: 0.9647727272727273\n",
      "test f1-score: 0.9415584415584416\n"
     ]
    }
   ],
   "source": [
    "# f1-score\n",
    "y_train_pred = grid_tree.best_estimator_.predict(x_train)\n",
    "f1_tree_train =  f1_score(y_train, y_train_pred, average='macro')\n",
    "print('train f1-score:', f1_tree_train)\n",
    "\n",
    "\n",
    "y_test_pred = grid_tree.best_estimator_.predict(x_test)\n",
    "f1_tree_test = f1_score(y_test, y_test_pred, average='macro')\n",
    "print('test f1-score:', f1_tree_test)\n"
   ]
  },
  {
   "cell_type": "code",
   "execution_count": 18,
   "id": "f68d320f",
   "metadata": {
    "ExecuteTime": {
     "end_time": "2021-07-26T17:14:05.895210Z",
     "start_time": "2021-07-26T17:14:05.881239Z"
    }
   },
   "outputs": [
    {
     "data": {
      "text/plain": [
       "array(['대형', '소형', '준중형', '중형'], dtype=object)"
      ]
     },
     "execution_count": 18,
     "metadata": {},
     "output_type": "execute_result"
    }
   ],
   "source": [
    "grid_tree.classes_"
   ]
  },
  {
   "cell_type": "code",
   "execution_count": 19,
   "id": "fd5d5cca",
   "metadata": {
    "ExecuteTime": {
     "end_time": "2021-07-26T17:14:06.120087Z",
     "start_time": "2021-07-26T17:14:05.896925Z"
    }
   },
   "outputs": [
    {
     "data": {
      "image/png": "[encoded data removed]",
      "text/plain": [
       "<Figure size 432x288 with 2 Axes>"
      ]
     },
     "metadata": {
      "needs_background": "light"
     },
     "output_type": "display_data"
    }
   ],
   "source": [
    "cm = confusion_matrix(y_train, y_train_pred)\n",
    "\n",
    "sns.heatmap(cm, annot=True, cmap='Reds', \n",
    "            xticklabels=['대형예측', '소형예측', '준중형예측', '중형예측'],\n",
    "            yticklabels=grid_tree.classes_, fmt='d')\n",
    "plt.show()"
   ]
  },
  {
   "cell_type": "markdown",
   "id": "c1db4a6f",
   "metadata": {},
   "source": [
    "## 3. naive bayes"
   ]
  },
  {
   "cell_type": "markdown",
   "id": "a33d1d63",
   "metadata": {},
   "source": [
    "### 3.1 모델 생성 및 학습"
   ]
  },
  {
   "cell_type": "code",
   "execution_count": 20,
   "id": "1d742ad0",
   "metadata": {
    "ExecuteTime": {
     "end_time": "2021-07-26T17:14:06.181431Z",
     "start_time": "2021-07-26T17:14:06.121119Z"
    }
   },
   "outputs": [
    {
     "data": {
      "text/plain": [
       "GridSearchCV(cv=5,\n",
       "             estimator=Pipeline(steps=[('columntransformer',\n",
       "                                        ColumnTransformer(remainder='passthrough',\n",
       "                                                          transformers=[('ordinalencoder',\n",
       "                                                                         OrdinalEncoder(),\n",
       "                                                                         ['연료',\n",
       "                                                                          '변속기'])])),\n",
       "                                       ('gaussiannb', GaussianNB())]),\n",
       "             param_grid={}, scoring='f1_macro')"
      ]
     },
     "execution_count": 20,
     "metadata": {},
     "output_type": "execute_result"
    }
   ],
   "source": [
    "ct = make_column_transformer((OrdinalEncoder(),['연료', '변속기']), remainder='passthrough')\n",
    "pipe = make_pipeline(ct, GaussianNB())\n",
    "param_grid = {}\n",
    "grid_bayes = GridSearchCV(pipe, param_grid=param_grid, cv=5, scoring='f1_macro')\n",
    "grid_bayes.fit(x_train, y_train)"
   ]
  },
  {
   "cell_type": "markdown",
   "id": "77504371",
   "metadata": {},
   "source": [
    "### 3.2 best score 및 파라미터"
   ]
  },
  {
   "cell_type": "code",
   "execution_count": 21,
   "id": "88ec9d91",
   "metadata": {
    "ExecuteTime": {
     "end_time": "2021-07-26T17:14:06.196233Z",
     "start_time": "2021-07-26T17:14:06.182270Z"
    }
   },
   "outputs": [
    {
     "name": "stdout",
     "output_type": "stream",
     "text": [
      "0.6666269841269841\n"
     ]
    }
   ],
   "source": [
    "print(grid_bayes.best_score_)"
   ]
  },
  {
   "cell_type": "markdown",
   "id": "ff484150",
   "metadata": {},
   "source": [
    "### 3.3 예측문제 결과"
   ]
  },
  {
   "cell_type": "code",
   "execution_count": 22,
   "id": "f0ddcd63",
   "metadata": {
    "ExecuteTime": {
     "end_time": "2021-07-26T17:14:06.211077Z",
     "start_time": "2021-07-26T17:14:06.200107Z"
    }
   },
   "outputs": [
    {
     "name": "stdout",
     "output_type": "stream",
     "text": [
      "예측 레이블: 소형\n"
     ]
    }
   ],
   "source": [
    "res = grid_bayes.best_estimator_.predict(xd)\n",
    "print('예측 레이블:',res[0])"
   ]
  },
  {
   "cell_type": "markdown",
   "id": "a95f4294",
   "metadata": {
    "ExecuteTime": {
     "end_time": "2021-07-26T16:57:31.954958Z",
     "start_time": "2021-07-26T16:57:31.940654Z"
    }
   },
   "source": [
    "### 3.4  f1-score 및 confusion matrix"
   ]
  },
  {
   "cell_type": "code",
   "execution_count": 23,
   "id": "a2661868",
   "metadata": {
    "ExecuteTime": {
     "end_time": "2021-07-26T17:14:06.226038Z",
     "start_time": "2021-07-26T17:14:06.213074Z"
    }
   },
   "outputs": [
    {
     "name": "stdout",
     "output_type": "stream",
     "text": [
      "train f1-score: 0.8534148502569555\n",
      "test f1-score: 0.8647727272727272\n"
     ]
    }
   ],
   "source": [
    "# f1-score\n",
    "y_train_pred = grid_bayes.best_estimator_.predict(x_train)\n",
    "f1_bayes_train = f1_score(y_train, y_train_pred, average='macro')\n",
    "print('train f1-score:', f1_bayes_train)\n",
    "\n",
    "\n",
    "y_test_pred = grid_bayes.best_estimator_.predict(x_test)\n",
    "f1_bayes_test =  f1_score(y_test, y_test_pred, average='macro')\n",
    "print('test f1-score:', f1_bayes_test)"
   ]
  },
  {
   "cell_type": "code",
   "execution_count": 24,
   "id": "3915c2ba",
   "metadata": {
    "ExecuteTime": {
     "end_time": "2021-07-26T17:14:06.240996Z",
     "start_time": "2021-07-26T17:14:06.228032Z"
    }
   },
   "outputs": [
    {
     "data": {
      "text/plain": [
       "array(['대형', '소형', '준중형', '중형'], dtype='<U3')"
      ]
     },
     "execution_count": 24,
     "metadata": {},
     "output_type": "execute_result"
    }
   ],
   "source": [
    "grid_bayes.classes_"
   ]
  },
  {
   "cell_type": "code",
   "execution_count": 25,
   "id": "817d1758",
   "metadata": {
    "ExecuteTime": {
     "end_time": "2021-07-26T17:14:06.496022Z",
     "start_time": "2021-07-26T17:14:06.243990Z"
    }
   },
   "outputs": [
    {
     "data": {
      "image/png": "[encoded data removed]",
      "text/plain": [
       "<Figure size 432x288 with 2 Axes>"
      ]
     },
     "metadata": {
      "needs_background": "light"
     },
     "output_type": "display_data"
    }
   ],
   "source": [
    "cm = confusion_matrix(y_train, y_train_pred)\n",
    "\n",
    "sns.heatmap(cm, annot=True, cmap='Reds', \n",
    "            xticklabels=['대형예측', '소형예측', '준중형예측', '중형예측'],\n",
    "            yticklabels=grid_bayes.classes_, fmt='d')\n",
    "plt.show()"
   ]
  },
  {
   "cell_type": "markdown",
   "id": "f2b584d5",
   "metadata": {},
   "source": [
    "## 4. SVM"
   ]
  },
  {
   "cell_type": "markdown",
   "id": "9456c5fb",
   "metadata": {},
   "source": [
    "### 4.1 모델 생성 및 학습"
   ]
  },
  {
   "cell_type": "code",
   "execution_count": 26,
   "id": "56f27907",
   "metadata": {
    "ExecuteTime": {
     "end_time": "2021-07-26T17:14:08.433958Z",
     "start_time": "2021-07-26T17:14:06.496993Z"
    }
   },
   "outputs": [
    {
     "data": {
      "text/plain": [
       "GridSearchCV(cv=5,\n",
       "             estimator=Pipeline(steps=[('columntransformer',\n",
       "                                        ColumnTransformer(remainder='passthrough',\n",
       "                                                          transformers=[('onehotencoder',\n",
       "                                                                         OneHotEncoder(),\n",
       "                                                                         ['연료',\n",
       "                                                                          '변속기'])])),\n",
       "                                       ('svc', SVC())]),\n",
       "             param_grid={'svc__C': [0, 0.25, 0.5, 1, 3, 5, 10, 20, 50, 100],\n",
       "                         'svc__gamma': ['scale', 'auto'],\n",
       "                         'svc__kernel': ['poly', 'rbf', 'precomputed']},\n",
       "             scoring='f1_macro')"
      ]
     },
     "execution_count": 26,
     "metadata": {},
     "output_type": "execute_result"
    }
   ],
   "source": [
    "ct = make_column_transformer((OneHotEncoder(),['연료', '변속기']), remainder='passthrough')\n",
    "pipe = make_pipeline(ct, SVC())\n",
    "param_grid = {'svc__C':[0, 0.25, 0.5, 1, 3, 5, 10, 20, 50, 100],\n",
    "              'svc__gamma':['scale', 'auto'], \n",
    "              'svc__kernel':[ 'poly', 'rbf','precomputed']}\n",
    "grid_svm = GridSearchCV(pipe, param_grid=param_grid, cv=5, scoring='f1_macro')\n",
    "grid_svm.fit(x_train, y_train)\n"
   ]
  },
  {
   "cell_type": "markdown",
   "id": "af26d455",
   "metadata": {},
   "source": [
    "### 4.2 best score 및 파라미터"
   ]
  },
  {
   "cell_type": "code",
   "execution_count": 27,
   "id": "67734dbd",
   "metadata": {
    "ExecuteTime": {
     "end_time": "2021-07-26T17:14:08.449007Z",
     "start_time": "2021-07-26T17:14:08.435951Z"
    }
   },
   "outputs": [
    {
     "name": "stdout",
     "output_type": "stream",
     "text": [
      "{'svc__C': 50, 'svc__gamma': 'scale', 'svc__kernel': 'rbf'}\n",
      "0.9066666666666666\n"
     ]
    }
   ],
   "source": [
    "print(grid_svm.best_params_)\n",
    "print(grid_svm.best_score_)"
   ]
  },
  {
   "cell_type": "markdown",
   "id": "704141df",
   "metadata": {},
   "source": [
    "### 4.3 예측문제 결과"
   ]
  },
  {
   "cell_type": "code",
   "execution_count": 28,
   "id": "6dba05ca",
   "metadata": {
    "ExecuteTime": {
     "end_time": "2021-07-26T17:14:08.463937Z",
     "start_time": "2021-07-26T17:14:08.449974Z"
    }
   },
   "outputs": [
    {
     "name": "stdout",
     "output_type": "stream",
     "text": [
      "예측 레이블: 소형\n"
     ]
    }
   ],
   "source": [
    "res = grid_svm.best_estimator_.predict(xd)\n",
    "print('예측 레이블:',res[0])"
   ]
  },
  {
   "cell_type": "markdown",
   "id": "950eb73f",
   "metadata": {},
   "source": [
    "### 4.4 f1-score 및 confusion matrix"
   ]
  },
  {
   "cell_type": "code",
   "execution_count": 29,
   "id": "ad22530a",
   "metadata": {
    "ExecuteTime": {
     "end_time": "2021-07-26T17:14:08.479066Z",
     "start_time": "2021-07-26T17:14:08.464933Z"
    }
   },
   "outputs": [
    {
     "name": "stdout",
     "output_type": "stream",
     "text": [
      "train f1-score: 0.9280317106404062\n",
      "test f1-score: 0.875\n"
     ]
    }
   ],
   "source": [
    "# f1-score\n",
    "y_train_pred = grid_svm.best_estimator_.predict(x_train)\n",
    "f1_svm_train = f1_score(y_train, y_train_pred, average='macro')\n",
    "print('train f1-score:', f1_svm_train)\n",
    "\n",
    "\n",
    "y_test_pred = grid_svm.best_estimator_.predict(x_test)\n",
    "f1_svm_test = f1_score(y_test, y_test_pred, average='macro')\n",
    "print('test f1-score:', f1_svm_test)"
   ]
  },
  {
   "cell_type": "code",
   "execution_count": 30,
   "id": "4182b360",
   "metadata": {
    "ExecuteTime": {
     "end_time": "2021-07-26T17:14:08.494033Z",
     "start_time": "2021-07-26T17:14:08.480891Z"
    }
   },
   "outputs": [
    {
     "data": {
      "text/plain": [
       "array(['대형', '소형', '준중형', '중형'], dtype=object)"
      ]
     },
     "execution_count": 30,
     "metadata": {},
     "output_type": "execute_result"
    }
   ],
   "source": [
    "grid_svm.classes_"
   ]
  },
  {
   "cell_type": "code",
   "execution_count": 31,
   "id": "1d3e9352",
   "metadata": {
    "ExecuteTime": {
     "end_time": "2021-07-26T17:14:08.718795Z",
     "start_time": "2021-07-26T17:14:08.496031Z"
    }
   },
   "outputs": [
    {
     "data": {
      "image/png": "[encoded data removed]",
      "text/plain": [
       "<Figure size 432x288 with 2 Axes>"
      ]
     },
     "metadata": {
      "needs_background": "light"
     },
     "output_type": "display_data"
    }
   ],
   "source": [
    "cm = confusion_matrix(y_train, y_train_pred)\n",
    "\n",
    "sns.heatmap(cm, annot=True, cmap='Reds', \n",
    "            xticklabels=['대형예측', '소형예측', '준중형예측', '중형예측'],\n",
    "            yticklabels=grid_svm.classes_, fmt='d')\n",
    "plt.show()"
   ]
  },
  {
   "cell_type": "markdown",
   "id": "3aa14e8e",
   "metadata": {
    "ExecuteTime": {
     "end_time": "2021-07-26T17:01:01.622363Z",
     "start_time": "2021-07-26T17:01:01.617376Z"
    }
   },
   "source": [
    "## 모델 별 train ,test에 대한 f1-score bar 그래프"
   ]
  },
  {
   "cell_type": "markdown",
   "id": "d5d3986d",
   "metadata": {},
   "source": [
    "### train 결과"
   ]
  },
  {
   "cell_type": "code",
   "execution_count": 32,
   "id": "0154187a",
   "metadata": {
    "ExecuteTime": {
     "end_time": "2021-07-26T17:14:08.734499Z",
     "start_time": "2021-07-26T17:14:08.720502Z"
    }
   },
   "outputs": [
    {
     "data": {
      "text/html": [
       "<div>\n",
       "<style scoped>\n",
       "    .dataframe tbody tr th:only-of-type {\n",
       "        vertical-align: middle;\n",
       "    }\n",
       "\n",
       "    .dataframe tbody tr th {\n",
       "        vertical-align: top;\n",
       "    }\n",
       "\n",
       "    .dataframe thead th {\n",
       "        text-align: right;\n",
       "    }\n",
       "</style>\n",
       "<table border=\"1\" class=\"dataframe\">\n",
       "  <thead>\n",
       "    <tr style=\"text-align: right;\">\n",
       "      <th></th>\n",
       "      <th>knn</th>\n",
       "      <th>decision_tree</th>\n",
       "      <th>naive bayes</th>\n",
       "      <th>svm</th>\n",
       "    </tr>\n",
       "  </thead>\n",
       "  <tbody>\n",
       "    <tr>\n",
       "      <th>0</th>\n",
       "      <td>0.800055</td>\n",
       "      <td>0.964773</td>\n",
       "      <td>0.853415</td>\n",
       "      <td>0.928032</td>\n",
       "    </tr>\n",
       "  </tbody>\n",
       "</table>\n",
       "</div>"
      ],
      "text/plain": [
       "        knn  decision_tree  naive bayes       svm\n",
       "0  0.800055       0.964773     0.853415  0.928032"
      ]
     },
     "execution_count": 32,
     "metadata": {},
     "output_type": "execute_result"
    }
   ],
   "source": [
    "train_result = pd.DataFrame([[f1_knn_train, f1_tree_train, f1_bayes_train, f1_svm_train]], columns=['knn','decision_tree', 'naive bayes', 'svm'])\n",
    "train_result"
   ]
  },
  {
   "cell_type": "markdown",
   "id": "d3df8c4c",
   "metadata": {},
   "source": [
    "### test 결과"
   ]
  },
  {
   "cell_type": "code",
   "execution_count": 33,
   "id": "327db317",
   "metadata": {
    "ExecuteTime": {
     "end_time": "2021-07-26T17:14:08.749463Z",
     "start_time": "2021-07-26T17:14:08.735496Z"
    }
   },
   "outputs": [
    {
     "data": {
      "text/html": [
       "<div>\n",
       "<style scoped>\n",
       "    .dataframe tbody tr th:only-of-type {\n",
       "        vertical-align: middle;\n",
       "    }\n",
       "\n",
       "    .dataframe tbody tr th {\n",
       "        vertical-align: top;\n",
       "    }\n",
       "\n",
       "    .dataframe thead th {\n",
       "        text-align: right;\n",
       "    }\n",
       "</style>\n",
       "<table border=\"1\" class=\"dataframe\">\n",
       "  <thead>\n",
       "    <tr style=\"text-align: right;\">\n",
       "      <th></th>\n",
       "      <th>knn</th>\n",
       "      <th>decision_tree</th>\n",
       "      <th>naive_bayes</th>\n",
       "      <th>svm</th>\n",
       "    </tr>\n",
       "  </thead>\n",
       "  <tbody>\n",
       "    <tr>\n",
       "      <th>0</th>\n",
       "      <td>0.858225</td>\n",
       "      <td>0.941558</td>\n",
       "      <td>0.864773</td>\n",
       "      <td>0.875</td>\n",
       "    </tr>\n",
       "  </tbody>\n",
       "</table>\n",
       "</div>"
      ],
      "text/plain": [
       "        knn  decision_tree  naive_bayes    svm\n",
       "0  0.858225       0.941558     0.864773  0.875"
      ]
     },
     "execution_count": 33,
     "metadata": {},
     "output_type": "execute_result"
    }
   ],
   "source": [
    "test_result = pd.DataFrame([[f1_knn_test, f1_tree_test, f1_bayes_test, f1_svm_test]], columns=['knn','decision_tree', 'naive_bayes', 'svm'])\n",
    "test_result"
   ]
  },
  {
   "cell_type": "code",
   "execution_count": 34,
   "id": "28061632",
   "metadata": {
    "ExecuteTime": {
     "end_time": "2021-07-26T17:14:08.994853Z",
     "start_time": "2021-07-26T17:14:08.750424Z"
    }
   },
   "outputs": [
    {
     "data": {
      "image/png": "[encoded data removed]",
      "text/plain": [
       "<Figure size 1296x648 with 2 Axes>"
      ]
     },
     "metadata": {
      "needs_background": "light"
     },
     "output_type": "display_data"
    }
   ],
   "source": [
    "fig = plt.figure(figsize=(18,9))\n",
    "fig.add_subplot(1,2,1)\n",
    "sns.barplot(data=train_result)\n",
    "plt.title('train f1-score 결과', fontsize=16)\n",
    "plt.xlabel('분류 모델', fontsize=15)\n",
    "plt.ylabel('f1-score', fontsize=15)\n",
    "plt.xticks(fontsize=13)\n",
    "plt.yticks(fontsize=13)\n",
    "fig.add_subplot(1,2,2)\n",
    "sns.barplot(data=test_result)\n",
    "plt.title('test f1-score 결과', fontsize=16)\n",
    "plt.xlabel('분류 모델', fontsize=15)\n",
    "plt.ylabel('f1-score', fontsize=15)\n",
    "plt.xticks(fontsize=13)\n",
    "plt.yticks(fontsize=13)\n",
    "plt.show()"
   ]
  }
 ],
 "metadata": {
  "hide_input": false,
  "kernelspec": {
   "display_name": "Python 3",
   "language": "python",
   "name": "python3"
  },
  "language_info": {
   "codemirror_mode": {
    "name": "ipython",
    "version": 3
   },
   "file_extension": ".py",
   "mimetype": "text/x-python",
   "name": "python",
   "nbconvert_exporter": "python",
   "pygments_lexer": "ipython3",
   "version": "3.8.8"
  },
  "toc": {
   "base_numbering": 1,
   "nav_menu": {},
   "number_sections": false,
   "sideBar": true,
   "skip_h1_title": false,
   "title_cell": "Table of Contents",
   "title_sidebar": "Contents",
   "toc_cell": false,
   "toc_position": {},
   "toc_section_display": true,
   "toc_window_display": true
  },
  "varInspector": {
   "cols": {
    "lenName": 16,
    "lenType": 16,
    "lenVar": 40
   },
   "kernels_config": {
    "python": {
     "delete_cmd_postfix": "",
     "delete_cmd_prefix": "del ",
     "library": "var_list.py",
     "varRefreshCmd": "print(var_dic_list())"
    },
    "r": {
     "delete_cmd_postfix": ") ",
     "delete_cmd_prefix": "rm(",
     "library": "var_list.r",
     "varRefreshCmd": "cat(var_dic_list()) "
    }
   },
   "types_to_exclude": [
    "module",
    "function",
    "builtin_function_or_method",
    "instance",
    "_Feature"
   ],
   "window_display": false
  }
 },
 "nbformat": 4,
 "nbformat_minor": 5
}
