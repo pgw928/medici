{
 "cells": [
  {
   "cell_type": "markdown",
   "id": "0c61912a",
   "metadata": {
    "ExecuteTime": {
     "end_time": "2021-07-22T08:35:58.745681Z",
     "start_time": "2021-07-22T08:35:58.737708Z"
    }
   },
   "source": [
    "- feature: pclass, sex, fare\n",
    "- label: survived"
   ]
  },
  {
   "cell_type": "markdown",
   "id": "162448b9",
   "metadata": {},
   "source": [
    "### 1등급, female, 32달러 인경우 생사유무를 예측하시요 \n"
   ]
  },
  {
   "cell_type": "markdown",
   "id": "64d61668",
   "metadata": {},
   "source": [
    "#### library import"
   ]
  },
  {
   "cell_type": "code",
   "execution_count": 39,
   "id": "d701e798",
   "metadata": {
    "ExecuteTime": {
     "end_time": "2021-07-22T08:28:18.301537Z",
     "start_time": "2021-07-22T08:28:18.294142Z"
    }
   },
   "outputs": [],
   "source": [
    "import pandas as pd\n",
    "import numpy as np\n",
    "import seaborn as sns\n",
    "\n",
    "from sklearn.linear_model import LogisticRegression\n",
    "from sklearn.preprocessing import StandardScaler, LabelEncoder, OneHotEncoder\n",
    "from sklearn.pipeline import make_pipeline\n",
    "\n",
    "from sklearn.model_selection import train_test_split, GridSearchCV\n",
    "from sklearn.compose import ColumnTransformer\n",
    "from sklearn.metrics import recall_score, precision_score, roc_curve, f1_score, confusion_matrix\n",
    "\n",
    "import matplotlib.pyplot as plt\n",
    "import matplotlib\n",
    "matplotlib.rcParams['font.family']='Malgun Gothic'\n",
    "matplotlib.rcParams['axes.unicode_minus'] = False\n",
    "\n",
    "import warnings\n",
    "warnings.simplefilter('ignore')"
   ]
  },
  {
   "cell_type": "markdown",
   "id": "d9195929",
   "metadata": {},
   "source": [
    "#### dataset"
   ]
  },
  {
   "cell_type": "code",
   "execution_count": 3,
   "id": "aa242836",
   "metadata": {
    "ExecuteTime": {
     "end_time": "2021-07-22T08:01:55.458168Z",
     "start_time": "2021-07-22T08:01:55.418193Z"
    }
   },
   "outputs": [
    {
     "data": {
      "text/html": [
       "<div>\n",
       "<style scoped>\n",
       "    .dataframe tbody tr th:only-of-type {\n",
       "        vertical-align: middle;\n",
       "    }\n",
       "\n",
       "    .dataframe tbody tr th {\n",
       "        vertical-align: top;\n",
       "    }\n",
       "\n",
       "    .dataframe thead th {\n",
       "        text-align: right;\n",
       "    }\n",
       "</style>\n",
       "<table border=\"1\" class=\"dataframe\">\n",
       "  <thead>\n",
       "    <tr style=\"text-align: right;\">\n",
       "      <th></th>\n",
       "      <th>survived</th>\n",
       "      <th>pclass</th>\n",
       "      <th>sex</th>\n",
       "      <th>age</th>\n",
       "      <th>sibsp</th>\n",
       "      <th>parch</th>\n",
       "      <th>fare</th>\n",
       "      <th>embarked</th>\n",
       "      <th>class</th>\n",
       "      <th>who</th>\n",
       "      <th>adult_male</th>\n",
       "      <th>deck</th>\n",
       "      <th>embark_town</th>\n",
       "      <th>alive</th>\n",
       "      <th>alone</th>\n",
       "    </tr>\n",
       "  </thead>\n",
       "  <tbody>\n",
       "    <tr>\n",
       "      <th>0</th>\n",
       "      <td>0</td>\n",
       "      <td>3</td>\n",
       "      <td>male</td>\n",
       "      <td>22.0</td>\n",
       "      <td>1</td>\n",
       "      <td>0</td>\n",
       "      <td>7.2500</td>\n",
       "      <td>S</td>\n",
       "      <td>Third</td>\n",
       "      <td>man</td>\n",
       "      <td>True</td>\n",
       "      <td>NaN</td>\n",
       "      <td>Southampton</td>\n",
       "      <td>no</td>\n",
       "      <td>False</td>\n",
       "    </tr>\n",
       "    <tr>\n",
       "      <th>1</th>\n",
       "      <td>1</td>\n",
       "      <td>1</td>\n",
       "      <td>female</td>\n",
       "      <td>38.0</td>\n",
       "      <td>1</td>\n",
       "      <td>0</td>\n",
       "      <td>71.2833</td>\n",
       "      <td>C</td>\n",
       "      <td>First</td>\n",
       "      <td>woman</td>\n",
       "      <td>False</td>\n",
       "      <td>C</td>\n",
       "      <td>Cherbourg</td>\n",
       "      <td>yes</td>\n",
       "      <td>False</td>\n",
       "    </tr>\n",
       "    <tr>\n",
       "      <th>2</th>\n",
       "      <td>1</td>\n",
       "      <td>3</td>\n",
       "      <td>female</td>\n",
       "      <td>26.0</td>\n",
       "      <td>0</td>\n",
       "      <td>0</td>\n",
       "      <td>7.9250</td>\n",
       "      <td>S</td>\n",
       "      <td>Third</td>\n",
       "      <td>woman</td>\n",
       "      <td>False</td>\n",
       "      <td>NaN</td>\n",
       "      <td>Southampton</td>\n",
       "      <td>yes</td>\n",
       "      <td>True</td>\n",
       "    </tr>\n",
       "    <tr>\n",
       "      <th>3</th>\n",
       "      <td>1</td>\n",
       "      <td>1</td>\n",
       "      <td>female</td>\n",
       "      <td>35.0</td>\n",
       "      <td>1</td>\n",
       "      <td>0</td>\n",
       "      <td>53.1000</td>\n",
       "      <td>S</td>\n",
       "      <td>First</td>\n",
       "      <td>woman</td>\n",
       "      <td>False</td>\n",
       "      <td>C</td>\n",
       "      <td>Southampton</td>\n",
       "      <td>yes</td>\n",
       "      <td>False</td>\n",
       "    </tr>\n",
       "    <tr>\n",
       "      <th>4</th>\n",
       "      <td>0</td>\n",
       "      <td>3</td>\n",
       "      <td>male</td>\n",
       "      <td>35.0</td>\n",
       "      <td>0</td>\n",
       "      <td>0</td>\n",
       "      <td>8.0500</td>\n",
       "      <td>S</td>\n",
       "      <td>Third</td>\n",
       "      <td>man</td>\n",
       "      <td>True</td>\n",
       "      <td>NaN</td>\n",
       "      <td>Southampton</td>\n",
       "      <td>no</td>\n",
       "      <td>True</td>\n",
       "    </tr>\n",
       "    <tr>\n",
       "      <th>...</th>\n",
       "      <td>...</td>\n",
       "      <td>...</td>\n",
       "      <td>...</td>\n",
       "      <td>...</td>\n",
       "      <td>...</td>\n",
       "      <td>...</td>\n",
       "      <td>...</td>\n",
       "      <td>...</td>\n",
       "      <td>...</td>\n",
       "      <td>...</td>\n",
       "      <td>...</td>\n",
       "      <td>...</td>\n",
       "      <td>...</td>\n",
       "      <td>...</td>\n",
       "      <td>...</td>\n",
       "    </tr>\n",
       "    <tr>\n",
       "      <th>886</th>\n",
       "      <td>0</td>\n",
       "      <td>2</td>\n",
       "      <td>male</td>\n",
       "      <td>27.0</td>\n",
       "      <td>0</td>\n",
       "      <td>0</td>\n",
       "      <td>13.0000</td>\n",
       "      <td>S</td>\n",
       "      <td>Second</td>\n",
       "      <td>man</td>\n",
       "      <td>True</td>\n",
       "      <td>NaN</td>\n",
       "      <td>Southampton</td>\n",
       "      <td>no</td>\n",
       "      <td>True</td>\n",
       "    </tr>\n",
       "    <tr>\n",
       "      <th>887</th>\n",
       "      <td>1</td>\n",
       "      <td>1</td>\n",
       "      <td>female</td>\n",
       "      <td>19.0</td>\n",
       "      <td>0</td>\n",
       "      <td>0</td>\n",
       "      <td>30.0000</td>\n",
       "      <td>S</td>\n",
       "      <td>First</td>\n",
       "      <td>woman</td>\n",
       "      <td>False</td>\n",
       "      <td>B</td>\n",
       "      <td>Southampton</td>\n",
       "      <td>yes</td>\n",
       "      <td>True</td>\n",
       "    </tr>\n",
       "    <tr>\n",
       "      <th>888</th>\n",
       "      <td>0</td>\n",
       "      <td>3</td>\n",
       "      <td>female</td>\n",
       "      <td>NaN</td>\n",
       "      <td>1</td>\n",
       "      <td>2</td>\n",
       "      <td>23.4500</td>\n",
       "      <td>S</td>\n",
       "      <td>Third</td>\n",
       "      <td>woman</td>\n",
       "      <td>False</td>\n",
       "      <td>NaN</td>\n",
       "      <td>Southampton</td>\n",
       "      <td>no</td>\n",
       "      <td>False</td>\n",
       "    </tr>\n",
       "    <tr>\n",
       "      <th>889</th>\n",
       "      <td>1</td>\n",
       "      <td>1</td>\n",
       "      <td>male</td>\n",
       "      <td>26.0</td>\n",
       "      <td>0</td>\n",
       "      <td>0</td>\n",
       "      <td>30.0000</td>\n",
       "      <td>C</td>\n",
       "      <td>First</td>\n",
       "      <td>man</td>\n",
       "      <td>True</td>\n",
       "      <td>C</td>\n",
       "      <td>Cherbourg</td>\n",
       "      <td>yes</td>\n",
       "      <td>True</td>\n",
       "    </tr>\n",
       "    <tr>\n",
       "      <th>890</th>\n",
       "      <td>0</td>\n",
       "      <td>3</td>\n",
       "      <td>male</td>\n",
       "      <td>32.0</td>\n",
       "      <td>0</td>\n",
       "      <td>0</td>\n",
       "      <td>7.7500</td>\n",
       "      <td>Q</td>\n",
       "      <td>Third</td>\n",
       "      <td>man</td>\n",
       "      <td>True</td>\n",
       "      <td>NaN</td>\n",
       "      <td>Queenstown</td>\n",
       "      <td>no</td>\n",
       "      <td>True</td>\n",
       "    </tr>\n",
       "  </tbody>\n",
       "</table>\n",
       "<p>891 rows × 15 columns</p>\n",
       "</div>"
      ],
      "text/plain": [
       "     survived  pclass     sex   age  sibsp  parch     fare embarked   class  \\\n",
       "0           0       3    male  22.0      1      0   7.2500        S   Third   \n",
       "1           1       1  female  38.0      1      0  71.2833        C   First   \n",
       "2           1       3  female  26.0      0      0   7.9250        S   Third   \n",
       "3           1       1  female  35.0      1      0  53.1000        S   First   \n",
       "4           0       3    male  35.0      0      0   8.0500        S   Third   \n",
       "..        ...     ...     ...   ...    ...    ...      ...      ...     ...   \n",
       "886         0       2    male  27.0      0      0  13.0000        S  Second   \n",
       "887         1       1  female  19.0      0      0  30.0000        S   First   \n",
       "888         0       3  female   NaN      1      2  23.4500        S   Third   \n",
       "889         1       1    male  26.0      0      0  30.0000        C   First   \n",
       "890         0       3    male  32.0      0      0   7.7500        Q   Third   \n",
       "\n",
       "       who  adult_male deck  embark_town alive  alone  \n",
       "0      man        True  NaN  Southampton    no  False  \n",
       "1    woman       False    C    Cherbourg   yes  False  \n",
       "2    woman       False  NaN  Southampton   yes   True  \n",
       "3    woman       False    C  Southampton   yes  False  \n",
       "4      man        True  NaN  Southampton    no   True  \n",
       "..     ...         ...  ...          ...   ...    ...  \n",
       "886    man        True  NaN  Southampton    no   True  \n",
       "887  woman       False    B  Southampton   yes   True  \n",
       "888  woman       False  NaN  Southampton    no  False  \n",
       "889    man        True    C    Cherbourg   yes   True  \n",
       "890    man        True  NaN   Queenstown    no   True  \n",
       "\n",
       "[891 rows x 15 columns]"
      ]
     },
     "execution_count": 3,
     "metadata": {},
     "output_type": "execute_result"
    }
   ],
   "source": [
    "titanic = sns.load_dataset('titanic')\n",
    "titanic"
   ]
  },
  {
   "cell_type": "code",
   "execution_count": 8,
   "id": "1a46dbe7",
   "metadata": {
    "ExecuteTime": {
     "end_time": "2021-07-22T08:08:51.064453Z",
     "start_time": "2021-07-22T08:08:51.040096Z"
    }
   },
   "outputs": [
    {
     "data": {
      "text/plain": [
       "array([3, 1, 2], dtype=int64)"
      ]
     },
     "execution_count": 8,
     "metadata": {},
     "output_type": "execute_result"
    }
   ],
   "source": [
    "x_data, y_data = titanic[['pclass', 'sex', 'fare']], titanic['survived']"
   ]
  },
  {
   "cell_type": "code",
   "execution_count": 11,
   "id": "ed82b717",
   "metadata": {
    "ExecuteTime": {
     "end_time": "2021-07-22T08:14:28.956406Z",
     "start_time": "2021-07-22T08:14:28.949393Z"
    }
   },
   "outputs": [],
   "source": [
    "x_train, x_test, y_train, y_test = train_test_split(x_data, y_data, random_state=1, stratify=y_data)"
   ]
  },
  {
   "cell_type": "markdown",
   "id": "8451964e",
   "metadata": {},
   "source": [
    "#### pipeline 생성"
   ]
  },
  {
   "cell_type": "code",
   "execution_count": 23,
   "id": "aa13f5df",
   "metadata": {
    "ExecuteTime": {
     "end_time": "2021-07-22T08:19:11.726106Z",
     "start_time": "2021-07-22T08:19:11.715976Z"
    }
   },
   "outputs": [],
   "source": [
    "ct = ColumnTransformer([('ohe',OneHotEncoder(sparse=False) ,['pclass', 'sex']),\n",
    "                        ('scaler', StandardScaler(), ['fare'])])\n",
    "model = make_pipeline(ct, LogisticRegression())"
   ]
  },
  {
   "cell_type": "markdown",
   "id": "7773001b",
   "metadata": {},
   "source": [
    "#### gridsearchcv"
   ]
  },
  {
   "cell_type": "code",
   "execution_count": 26,
   "id": "2540a4ec",
   "metadata": {
    "ExecuteTime": {
     "end_time": "2021-07-22T08:20:13.973305Z",
     "start_time": "2021-07-22T08:19:50.844906Z"
    },
    "scrolled": true
   },
   "outputs": [
    {
     "data": {
      "text/plain": [
       "GridSearchCV(estimator=Pipeline(steps=[('columntransformer',\n",
       "                                        ColumnTransformer(transformers=[('ohe',\n",
       "                                                                         OneHotEncoder(sparse=False),\n",
       "                                                                         ['pclass',\n",
       "                                                                          'sex']),\n",
       "                                                                        ('scaler',\n",
       "                                                                         StandardScaler(),\n",
       "                                                                         ['fare'])])),\n",
       "                                       ('logisticregression',\n",
       "                                        LogisticRegression())]),\n",
       "             param_grid={'logisticregression__C': array([0.        , 0.05263158, 0.10526316, 0.15789474, 0.21052632,\n",
       "       0.26315789, 0.31578947, 0.36842105, 0.42105263, 0.47368421,\n",
       "       0.52631579, 0.57894737, 0.63157895, 0.68421053, 0.73684211,\n",
       "       0.78947368, 0.84210526, 0.89473684, 0.94736842, 1.        ]),\n",
       "                         'logisticregression__penalty': ['l1', 'l2',\n",
       "                                                         'elasticnet', 'none'],\n",
       "                         'logisticregression__solver': ['newton-cg', 'lbfgs',\n",
       "                                                        'liblinear', 'sag',\n",
       "                                                        'saga']},\n",
       "             scoring='f1')"
      ]
     },
     "execution_count": 26,
     "metadata": {},
     "output_type": "execute_result"
    }
   ],
   "source": [
    "param_value = {'logisticregression__C': np.linspace(0,1, 20),\n",
    "               'logisticregression__penalty':['l1', 'l2', 'elasticnet', 'none']\n",
    "              , 'logisticregression__solver': ['newton-cg', 'lbfgs', 'liblinear', 'sag', 'saga']}\n",
    "gridS = GridSearchCV(model, param_grid = param_value,\n",
    "                    scoring='f1' )\n",
    "gridS.fit(x_train, y_train)"
   ]
  },
  {
   "cell_type": "markdown",
   "id": "42b13207",
   "metadata": {},
   "source": [
    "#### best 확인"
   ]
  },
  {
   "cell_type": "code",
   "execution_count": 59,
   "id": "5e24eb7f",
   "metadata": {
    "ExecuteTime": {
     "end_time": "2021-07-22T08:37:52.054344Z",
     "start_time": "2021-07-22T08:37:52.048360Z"
    },
    "scrolled": true
   },
   "outputs": [
    {
     "data": {
      "text/plain": [
       "0.7037896901626199"
      ]
     },
     "execution_count": 59,
     "metadata": {},
     "output_type": "execute_result"
    }
   ],
   "source": [
    "gridS.best_score_"
   ]
  },
  {
   "cell_type": "code",
   "execution_count": 27,
   "id": "077d2fee",
   "metadata": {
    "ExecuteTime": {
     "end_time": "2021-07-22T08:20:27.059296Z",
     "start_time": "2021-07-22T08:20:27.047058Z"
    }
   },
   "outputs": [
    {
     "data": {
      "text/plain": [
       "{'logisticregression__C': 0.05263157894736842,\n",
       " 'logisticregression__penalty': 'l2',\n",
       " 'logisticregression__solver': 'newton-cg'}"
      ]
     },
     "execution_count": 27,
     "metadata": {},
     "output_type": "execute_result"
    }
   ],
   "source": [
    "gridS.best_params_"
   ]
  },
  {
   "cell_type": "markdown",
   "id": "fb5c55f3",
   "metadata": {},
   "source": [
    "#### 1번 결과"
   ]
  },
  {
   "cell_type": "code",
   "execution_count": 30,
   "id": "a1536566",
   "metadata": {
    "ExecuteTime": {
     "end_time": "2021-07-22T08:22:33.847517Z",
     "start_time": "2021-07-22T08:22:33.825378Z"
    }
   },
   "outputs": [
    {
     "data": {
      "text/html": [
       "<div>\n",
       "<style scoped>\n",
       "    .dataframe tbody tr th:only-of-type {\n",
       "        vertical-align: middle;\n",
       "    }\n",
       "\n",
       "    .dataframe tbody tr th {\n",
       "        vertical-align: top;\n",
       "    }\n",
       "\n",
       "    .dataframe thead th {\n",
       "        text-align: right;\n",
       "    }\n",
       "</style>\n",
       "<table border=\"1\" class=\"dataframe\">\n",
       "  <thead>\n",
       "    <tr style=\"text-align: right;\">\n",
       "      <th></th>\n",
       "      <th>pclass</th>\n",
       "      <th>sex</th>\n",
       "      <th>fare</th>\n",
       "    </tr>\n",
       "  </thead>\n",
       "  <tbody>\n",
       "    <tr>\n",
       "      <th>0</th>\n",
       "      <td>1</td>\n",
       "      <td>female</td>\n",
       "      <td>32</td>\n",
       "    </tr>\n",
       "  </tbody>\n",
       "</table>\n",
       "</div>"
      ],
      "text/plain": [
       "   pclass     sex  fare\n",
       "0       1  female    32"
      ]
     },
     "execution_count": 30,
     "metadata": {},
     "output_type": "execute_result"
    }
   ],
   "source": [
    "xd = pd.DataFrame([[1,'female', 32]], columns=['pclass', 'sex', 'fare'])\n",
    "xd"
   ]
  },
  {
   "cell_type": "code",
   "execution_count": 31,
   "id": "fe966144",
   "metadata": {
    "ExecuteTime": {
     "end_time": "2021-07-22T08:22:38.903896Z",
     "start_time": "2021-07-22T08:22:38.877644Z"
    }
   },
   "outputs": [
    {
     "data": {
      "text/plain": [
       "array([1], dtype=int64)"
      ]
     },
     "execution_count": 31,
     "metadata": {},
     "output_type": "execute_result"
    }
   ],
   "source": [
    "gridS.best_estimator_.predict(xd)"
   ]
  },
  {
   "cell_type": "markdown",
   "id": "8f23071f",
   "metadata": {},
   "source": [
    "### train, test, f1 score를 구하시오."
   ]
  },
  {
   "cell_type": "markdown",
   "id": "5bd6c936",
   "metadata": {
    "ExecuteTime": {
     "end_time": "2021-07-22T08:25:03.127513Z",
     "start_time": "2021-07-22T08:25:03.123868Z"
    }
   },
   "source": [
    "##### train"
   ]
  },
  {
   "cell_type": "code",
   "execution_count": 36,
   "id": "f6b48b4f",
   "metadata": {
    "ExecuteTime": {
     "end_time": "2021-07-22T08:26:28.044762Z",
     "start_time": "2021-07-22T08:26:28.013512Z"
    }
   },
   "outputs": [
    {
     "name": "stdout",
     "output_type": "stream",
     "text": [
      "train f1-score : 0.7016129032258064\n"
     ]
    }
   ],
   "source": [
    "y_train_pred = gridS.best_estimator_.predict(x_train)\n",
    "print('train f1-score :', f1_score(y_train, y_train_pred))"
   ]
  },
  {
   "cell_type": "code",
   "execution_count": 37,
   "id": "f45800d7",
   "metadata": {
    "ExecuteTime": {
     "end_time": "2021-07-22T08:26:49.460540Z",
     "start_time": "2021-07-22T08:26:49.437668Z"
    }
   },
   "outputs": [
    {
     "name": "stdout",
     "output_type": "stream",
     "text": [
      "test f1-score : 0.7261904761904763\n"
     ]
    }
   ],
   "source": [
    "y_test_pred = gridS.best_estimator_.predict(x_test)\n",
    "print('test f1-score :', f1_score(y_test, y_test_pred))"
   ]
  },
  {
   "cell_type": "markdown",
   "id": "0b2f5775",
   "metadata": {},
   "source": [
    "### confusion matrix를 구하고 heatmap을 그리시오."
   ]
  },
  {
   "cell_type": "markdown",
   "id": "65a84ba6",
   "metadata": {},
   "source": [
    "##### train"
   ]
  },
  {
   "cell_type": "code",
   "execution_count": 41,
   "id": "d1328a32",
   "metadata": {
    "ExecuteTime": {
     "end_time": "2021-07-22T08:28:56.488428Z",
     "start_time": "2021-07-22T08:28:56.320831Z"
    }
   },
   "outputs": [
    {
     "data": {
      "image/png": "[encoded data removed]",
      "text/plain": [
       "<Figure size 432x288 with 2 Axes>"
      ]
     },
     "metadata": {
      "needs_background": "light"
     },
     "output_type": "display_data"
    }
   ],
   "source": [
    "cm = confusion_matrix(y_train, y_train_pred)\n",
    "\n",
    "sns.heatmap(cm, annot=True, cmap='Reds', \n",
    "            xticklabels=['사망예측', '생존예측'],\n",
    "            yticklabels=['사망', '생존'], fmt='d')\n",
    "plt.show()"
   ]
  },
  {
   "cell_type": "markdown",
   "id": "9f708029",
   "metadata": {},
   "source": [
    "##### test"
   ]
  },
  {
   "cell_type": "code",
   "execution_count": 42,
   "id": "86e5a623",
   "metadata": {
    "ExecuteTime": {
     "end_time": "2021-07-22T08:29:37.191349Z",
     "start_time": "2021-07-22T08:29:36.835083Z"
    }
   },
   "outputs": [
    {
     "data": {
      "image/png": "[encoded data removed]",
      "text/plain": [
       "<Figure size 432x288 with 2 Axes>"
      ]
     },
     "metadata": {
      "needs_background": "light"
     },
     "output_type": "display_data"
    }
   ],
   "source": [
    "cm = confusion_matrix(y_test, y_test_pred)\n",
    "\n",
    "sns.heatmap(cm, annot=True, cmap='Reds', \n",
    "            xticklabels=['사망예측', '생존예측'],\n",
    "            yticklabels=['사망', '생존'], fmt='d')\n",
    "plt.show()"
   ]
  },
  {
   "cell_type": "markdown",
   "id": "92cfdaf0",
   "metadata": {},
   "source": [
    "### roc curve를 그리시오."
   ]
  },
  {
   "cell_type": "markdown",
   "id": "4b08aaa8",
   "metadata": {
    "ExecuteTime": {
     "end_time": "2021-07-22T08:34:30.671192Z",
     "start_time": "2021-07-22T08:34:30.656611Z"
    }
   },
   "source": [
    "##### train"
   ]
  },
  {
   "cell_type": "code",
   "execution_count": 55,
   "id": "2818a617",
   "metadata": {
    "ExecuteTime": {
     "end_time": "2021-07-22T08:34:40.922457Z",
     "start_time": "2021-07-22T08:34:40.904531Z"
    }
   },
   "outputs": [],
   "source": [
    "p = gridS.best_estimator_.predict_proba(x_train)"
   ]
  },
  {
   "cell_type": "code",
   "execution_count": 56,
   "id": "88280a29",
   "metadata": {
    "ExecuteTime": {
     "end_time": "2021-07-22T08:34:50.136701Z",
     "start_time": "2021-07-22T08:34:50.130425Z"
    }
   },
   "outputs": [],
   "source": [
    "fpr, tpr, thres = roc_curve(y_train, p[:,1])"
   ]
  },
  {
   "cell_type": "code",
   "execution_count": 57,
   "id": "69c1d442",
   "metadata": {
    "ExecuteTime": {
     "end_time": "2021-07-22T08:35:00.853460Z",
     "start_time": "2021-07-22T08:35:00.731742Z"
    }
   },
   "outputs": [
    {
     "data": {
      "image/png": "[encoded data removed]",
      "text/plain": [
       "<Figure size 432x288 with 1 Axes>"
      ]
     },
     "metadata": {
      "needs_background": "light"
     },
     "output_type": "display_data"
    }
   ],
   "source": [
    "plt.plot(fpr, tpr, 'r--')\n",
    "plt.plot([0, 1], [0, 1], 'k--')\n",
    "plt.xlabel('FPR')\n",
    "plt.xlabel('TPR')\n",
    "plt.title('ROC curve(train data)')\n",
    "plt.show()"
   ]
  },
  {
   "cell_type": "markdown",
   "id": "9380c45a",
   "metadata": {
    "ExecuteTime": {
     "end_time": "2021-07-22T08:34:22.185974Z",
     "start_time": "2021-07-22T08:34:22.166796Z"
    }
   },
   "source": [
    "##### test"
   ]
  },
  {
   "cell_type": "code",
   "execution_count": 49,
   "id": "e046b860",
   "metadata": {
    "ExecuteTime": {
     "end_time": "2021-07-22T08:33:12.477713Z",
     "start_time": "2021-07-22T08:33:12.454631Z"
    }
   },
   "outputs": [],
   "source": [
    "p = gridS.best_estimator_.predict_proba(x_test)"
   ]
  },
  {
   "cell_type": "code",
   "execution_count": 50,
   "id": "12ae56ca",
   "metadata": {
    "ExecuteTime": {
     "end_time": "2021-07-22T08:33:16.361273Z",
     "start_time": "2021-07-22T08:33:16.344732Z"
    }
   },
   "outputs": [],
   "source": [
    "fpr, tpr, thres = roc_curve(y_test, p[:,1])"
   ]
  },
  {
   "cell_type": "code",
   "execution_count": 52,
   "id": "8ec1fc47",
   "metadata": {
    "ExecuteTime": {
     "end_time": "2021-07-22T08:34:09.962976Z",
     "start_time": "2021-07-22T08:34:09.822018Z"
    }
   },
   "outputs": [
    {
     "data": {
      "image/png": "[encoded data removed]",
      "text/plain": [
       "<Figure size 432x288 with 1 Axes>"
      ]
     },
     "metadata": {
      "needs_background": "light"
     },
     "output_type": "display_data"
    }
   ],
   "source": [
    "plt.plot(fpr, tpr, 'r--')\n",
    "plt.plot([0, 1], [0, 1], 'k--')\n",
    "plt.xlabel('FPR')\n",
    "plt.xlabel('TPR')\n",
    "plt.title('ROC curve(test data)')\n",
    "plt.show()"
   ]
  },
  {
   "cell_type": "markdown",
   "id": "968b5258",
   "metadata": {},
   "source": [
    "자율문제"
   ]
  },
  {
   "cell_type": "markdown",
   "id": "0588d11d",
   "metadata": {},
   "source": [
    "### feature에 parch를 추가하고 test데이터의 f1-score를 구하시오."
   ]
  },
  {
   "cell_type": "markdown",
   "id": "c1abafc6",
   "metadata": {},
   "source": [
    "#### 데이터 분리"
   ]
  },
  {
   "cell_type": "code",
   "execution_count": 83,
   "id": "2fbfee91",
   "metadata": {
    "ExecuteTime": {
     "end_time": "2021-07-22T16:59:47.338270Z",
     "start_time": "2021-07-22T16:59:47.315957Z"
    }
   },
   "outputs": [],
   "source": [
    "x_data, y_data = titanic[['pclass', 'sex', 'fare', 'parch']], titanic['survived']"
   ]
  },
  {
   "cell_type": "code",
   "execution_count": 84,
   "id": "844b99f7",
   "metadata": {
    "ExecuteTime": {
     "end_time": "2021-07-22T17:00:01.211190Z",
     "start_time": "2021-07-22T17:00:01.196230Z"
    }
   },
   "outputs": [],
   "source": [
    "x_train, x_test, y_train, y_test = train_test_split(x_data, y_data, random_state=1, stratify=y_data)"
   ]
  },
  {
   "cell_type": "markdown",
   "id": "748a7ad0",
   "metadata": {},
   "source": [
    "#### 모델 생성 및 학습"
   ]
  },
  {
   "cell_type": "code",
   "execution_count": 87,
   "id": "bb5f3cb2",
   "metadata": {
    "ExecuteTime": {
     "end_time": "2021-07-22T17:01:18.231844Z",
     "start_time": "2021-07-22T17:01:18.227855Z"
    }
   },
   "outputs": [],
   "source": [
    "ct = ColumnTransformer([('ohe',OneHotEncoder(sparse=False) ,['pclass', 'sex']),\n",
    "                        ('scaler', StandardScaler(), ['fare', 'parch'])])\n",
    "model = make_pipeline(ct, LogisticRegression())"
   ]
  },
  {
   "cell_type": "code",
   "execution_count": 88,
   "id": "d0a39e8e",
   "metadata": {
    "ExecuteTime": {
     "end_time": "2021-07-22T17:02:16.006888Z",
     "start_time": "2021-07-22T17:01:52.325742Z"
    }
   },
   "outputs": [
    {
     "data": {
      "text/plain": [
       "GridSearchCV(estimator=Pipeline(steps=[('columntransformer',\n",
       "                                        ColumnTransformer(transformers=[('ohe',\n",
       "                                                                         OneHotEncoder(sparse=False),\n",
       "                                                                         ['pclass',\n",
       "                                                                          'sex']),\n",
       "                                                                        ('scaler',\n",
       "                                                                         StandardScaler(),\n",
       "                                                                         ['fare',\n",
       "                                                                          'parch'])])),\n",
       "                                       ('logisticregression',\n",
       "                                        LogisticRegression())]),\n",
       "             param_grid={'logisticregression__C': array([0.        , 0.05263158, 0.10526316, 0.15789474, 0.21052632,\n",
       "       0.26315789, 0.31578947, 0.36842105, 0.42105263, 0.47368421,\n",
       "       0.52631579, 0.57894737, 0.63157895, 0.68421053, 0.73684211,\n",
       "       0.78947368, 0.84210526, 0.89473684, 0.94736842, 1.        ]),\n",
       "                         'logisticregression__penalty': ['l1', 'l2',\n",
       "                                                         'elasticnet', 'none'],\n",
       "                         'logisticregression__solver': ['newton-cg', 'lbfgs',\n",
       "                                                        'liblinear', 'sag',\n",
       "                                                        'saga']},\n",
       "             scoring='f1')"
      ]
     },
     "execution_count": 88,
     "metadata": {},
     "output_type": "execute_result"
    }
   ],
   "source": [
    "param_value = {'logisticregression__C': np.linspace(0,1, 20),\n",
    "               'logisticregression__penalty':['l1', 'l2', 'elasticnet', 'none']\n",
    "              , 'logisticregression__solver': ['newton-cg', 'lbfgs', 'liblinear', 'sag', 'saga']}\n",
    "gridS = GridSearchCV(model, param_grid = param_value,\n",
    "                    scoring='f1' )\n",
    "gridS.fit(x_train, y_train)"
   ]
  },
  {
   "cell_type": "markdown",
   "id": "6fca2c12",
   "metadata": {},
   "source": [
    "#### 결과"
   ]
  },
  {
   "cell_type": "code",
   "execution_count": 89,
   "id": "2acc075d",
   "metadata": {
    "ExecuteTime": {
     "end_time": "2021-07-22T17:02:16.158026Z",
     "start_time": "2021-07-22T17:02:16.144536Z"
    }
   },
   "outputs": [
    {
     "data": {
      "text/plain": [
       "0.7046829586184425"
      ]
     },
     "execution_count": 89,
     "metadata": {},
     "output_type": "execute_result"
    }
   ],
   "source": [
    "gridS.best_score_"
   ]
  },
  {
   "cell_type": "code",
   "execution_count": 90,
   "id": "be839fd6",
   "metadata": {
    "ExecuteTime": {
     "end_time": "2021-07-22T17:02:27.556022Z",
     "start_time": "2021-07-22T17:02:27.545536Z"
    }
   },
   "outputs": [
    {
     "data": {
      "text/plain": [
       "{'logisticregression__C': 0.0,\n",
       " 'logisticregression__penalty': 'none',\n",
       " 'logisticregression__solver': 'newton-cg'}"
      ]
     },
     "execution_count": 90,
     "metadata": {},
     "output_type": "execute_result"
    }
   ],
   "source": [
    "gridS.best_params_"
   ]
  },
  {
   "cell_type": "code",
   "execution_count": 91,
   "id": "5e3336aa",
   "metadata": {
    "ExecuteTime": {
     "end_time": "2021-07-22T17:03:03.171737Z",
     "start_time": "2021-07-22T17:03:03.151261Z"
    }
   },
   "outputs": [],
   "source": [
    "y_pred = gridS.best_estimator_.predict(x_test)"
   ]
  },
  {
   "cell_type": "code",
   "execution_count": 92,
   "id": "fc7088a7",
   "metadata": {
    "ExecuteTime": {
     "end_time": "2021-07-22T17:03:33.841168Z",
     "start_time": "2021-07-22T17:03:33.822736Z"
    }
   },
   "outputs": [
    {
     "name": "stdout",
     "output_type": "stream",
     "text": [
      "test f1-score : 0.7272727272727273\n"
     ]
    }
   ],
   "source": [
    "print('test f1-score :', f1_score(y_test, y_pred))"
   ]
  },
  {
   "cell_type": "markdown",
   "id": "bc7d63d9",
   "metadata": {},
   "source": [
    "### VIF 계산"
   ]
  },
  {
   "cell_type": "code",
   "execution_count": 109,
   "id": "3947c5fa",
   "metadata": {
    "ExecuteTime": {
     "end_time": "2021-07-22T17:47:51.838086Z",
     "start_time": "2021-07-22T17:47:51.815119Z"
    }
   },
   "outputs": [
    {
     "data": {
      "text/html": [
       "<div>\n",
       "<style scoped>\n",
       "    .dataframe tbody tr th:only-of-type {\n",
       "        vertical-align: middle;\n",
       "    }\n",
       "\n",
       "    .dataframe tbody tr th {\n",
       "        vertical-align: top;\n",
       "    }\n",
       "\n",
       "    .dataframe thead th {\n",
       "        text-align: right;\n",
       "    }\n",
       "</style>\n",
       "<table border=\"1\" class=\"dataframe\">\n",
       "  <thead>\n",
       "    <tr style=\"text-align: right;\">\n",
       "      <th></th>\n",
       "      <th>pclass</th>\n",
       "      <th>sex</th>\n",
       "      <th>fare</th>\n",
       "      <th>parch</th>\n",
       "    </tr>\n",
       "  </thead>\n",
       "  <tbody>\n",
       "    <tr>\n",
       "      <th>0</th>\n",
       "      <td>0</td>\n",
       "      <td>0</td>\n",
       "      <td>7.2500</td>\n",
       "      <td>0</td>\n",
       "    </tr>\n",
       "    <tr>\n",
       "      <th>1</th>\n",
       "      <td>1</td>\n",
       "      <td>1</td>\n",
       "      <td>71.2833</td>\n",
       "      <td>0</td>\n",
       "    </tr>\n",
       "    <tr>\n",
       "      <th>2</th>\n",
       "      <td>0</td>\n",
       "      <td>1</td>\n",
       "      <td>7.9250</td>\n",
       "      <td>0</td>\n",
       "    </tr>\n",
       "    <tr>\n",
       "      <th>3</th>\n",
       "      <td>1</td>\n",
       "      <td>1</td>\n",
       "      <td>53.1000</td>\n",
       "      <td>0</td>\n",
       "    </tr>\n",
       "    <tr>\n",
       "      <th>4</th>\n",
       "      <td>0</td>\n",
       "      <td>0</td>\n",
       "      <td>8.0500</td>\n",
       "      <td>0</td>\n",
       "    </tr>\n",
       "    <tr>\n",
       "      <th>...</th>\n",
       "      <td>...</td>\n",
       "      <td>...</td>\n",
       "      <td>...</td>\n",
       "      <td>...</td>\n",
       "    </tr>\n",
       "    <tr>\n",
       "      <th>886</th>\n",
       "      <td>2</td>\n",
       "      <td>0</td>\n",
       "      <td>13.0000</td>\n",
       "      <td>0</td>\n",
       "    </tr>\n",
       "    <tr>\n",
       "      <th>887</th>\n",
       "      <td>1</td>\n",
       "      <td>1</td>\n",
       "      <td>30.0000</td>\n",
       "      <td>0</td>\n",
       "    </tr>\n",
       "    <tr>\n",
       "      <th>888</th>\n",
       "      <td>0</td>\n",
       "      <td>1</td>\n",
       "      <td>23.4500</td>\n",
       "      <td>2</td>\n",
       "    </tr>\n",
       "    <tr>\n",
       "      <th>889</th>\n",
       "      <td>1</td>\n",
       "      <td>0</td>\n",
       "      <td>30.0000</td>\n",
       "      <td>0</td>\n",
       "    </tr>\n",
       "    <tr>\n",
       "      <th>890</th>\n",
       "      <td>0</td>\n",
       "      <td>0</td>\n",
       "      <td>7.7500</td>\n",
       "      <td>0</td>\n",
       "    </tr>\n",
       "  </tbody>\n",
       "</table>\n",
       "<p>891 rows × 4 columns</p>\n",
       "</div>"
      ],
      "text/plain": [
       "     pclass  sex     fare  parch\n",
       "0         0    0   7.2500      0\n",
       "1         1    1  71.2833      0\n",
       "2         0    1   7.9250      0\n",
       "3         1    1  53.1000      0\n",
       "4         0    0   8.0500      0\n",
       "..      ...  ...      ...    ...\n",
       "886       2    0  13.0000      0\n",
       "887       1    1  30.0000      0\n",
       "888       0    1  23.4500      2\n",
       "889       1    0  30.0000      0\n",
       "890       0    0   7.7500      0\n",
       "\n",
       "[891 rows x 4 columns]"
      ]
     },
     "execution_count": 109,
     "metadata": {},
     "output_type": "execute_result"
    }
   ],
   "source": [
    "x_tmp = x_data.copy()\n",
    "x_tmp['sex'] = pd.factorize(x_tmp['sex'])[0]\n",
    "x_tmp['pclass'] = pd.factorize(x_tmp['pclass'])[0]\n",
    "x_tmp"
   ]
  },
  {
   "cell_type": "code",
   "execution_count": 110,
   "id": "3562613e",
   "metadata": {
    "ExecuteTime": {
     "end_time": "2021-07-22T17:48:08.547992Z",
     "start_time": "2021-07-22T17:48:08.511518Z"
    }
   },
   "outputs": [
    {
     "data": {
      "text/html": [
       "<div>\n",
       "<style scoped>\n",
       "    .dataframe tbody tr th:only-of-type {\n",
       "        vertical-align: middle;\n",
       "    }\n",
       "\n",
       "    .dataframe tbody tr th {\n",
       "        vertical-align: top;\n",
       "    }\n",
       "\n",
       "    .dataframe thead th {\n",
       "        text-align: right;\n",
       "    }\n",
       "</style>\n",
       "<table border=\"1\" class=\"dataframe\">\n",
       "  <thead>\n",
       "    <tr style=\"text-align: right;\">\n",
       "      <th></th>\n",
       "      <th>VIF Factor</th>\n",
       "      <th>features</th>\n",
       "    </tr>\n",
       "  </thead>\n",
       "  <tbody>\n",
       "    <tr>\n",
       "      <th>0</th>\n",
       "      <td>1.418320</td>\n",
       "      <td>pclass</td>\n",
       "    </tr>\n",
       "    <tr>\n",
       "      <th>1</th>\n",
       "      <td>1.508392</td>\n",
       "      <td>sex</td>\n",
       "    </tr>\n",
       "    <tr>\n",
       "      <th>2</th>\n",
       "      <td>1.497211</td>\n",
       "      <td>fare</td>\n",
       "    </tr>\n",
       "    <tr>\n",
       "      <th>3</th>\n",
       "      <td>1.314193</td>\n",
       "      <td>parch</td>\n",
       "    </tr>\n",
       "  </tbody>\n",
       "</table>\n",
       "</div>"
      ],
      "text/plain": [
       "   VIF Factor features\n",
       "0    1.418320   pclass\n",
       "1    1.508392      sex\n",
       "2    1.497211     fare\n",
       "3    1.314193    parch"
      ]
     },
     "execution_count": 110,
     "metadata": {},
     "output_type": "execute_result"
    }
   ],
   "source": [
    "from statsmodels.stats.outliers_influence import variance_inflation_factor\n",
    "vif = pd.DataFrame()\n",
    "vif['VIF Factor']= [ variance_inflation_factor(x_tmp.values, i )  for i in range( x_tmp.shape[1] ) ]\n",
    "vif['features'] = x_tmp.columns\n",
    "vif"
   ]
  },
  {
   "cell_type": "markdown",
   "id": "c48a4eae",
   "metadata": {
    "ExecuteTime": {
     "end_time": "2021-07-22T08:44:05.102211Z",
     "start_time": "2021-07-22T08:44:05.093192Z"
    }
   },
   "source": [
    "### 생존자는 어느 class에 어느 성별에 많을까"
   ]
  },
  {
   "cell_type": "code",
   "execution_count": 81,
   "id": "5395580c",
   "metadata": {
    "ExecuteTime": {
     "end_time": "2021-07-22T08:47:20.264476Z",
     "start_time": "2021-07-22T08:47:20.087369Z"
    }
   },
   "outputs": [
    {
     "data": {
      "image/png": "[encoded data removed]",
      "text/plain": [
       "<Figure size 432x288 with 1 Axes>"
      ]
     },
     "metadata": {
      "needs_background": "light"
     },
     "output_type": "display_data"
    }
   ],
   "source": [
    "sns.countplot(data=titanic.query('survived==1'), x='class', hue='sex')\n",
    "plt.show()"
   ]
  },
  {
   "cell_type": "markdown",
   "id": "b4fe7832",
   "metadata": {
    "ExecuteTime": {
     "end_time": "2021-07-22T08:48:20.526143Z",
     "start_time": "2021-07-22T08:48:20.507352Z"
    }
   },
   "source": [
    "* first class의 생존자가 가장 많고 모든 class에서 여자의 생존자가 제일 많다."
   ]
  },
  {
   "cell_type": "markdown",
   "id": "8d3692e2",
   "metadata": {
    "ExecuteTime": {
     "end_time": "2021-07-22T17:49:09.113237Z",
     "start_time": "2021-07-22T17:49:09.107253Z"
    }
   },
   "source": [
    "### 나이에 따라 생존률이 달라질까?"
   ]
  },
  {
   "cell_type": "code",
   "execution_count": 125,
   "id": "16399746",
   "metadata": {
    "ExecuteTime": {
     "end_time": "2021-07-22T17:54:07.770039Z",
     "start_time": "2021-07-22T17:54:05.668480Z"
    }
   },
   "outputs": [
    {
     "data": {
      "image/png": "[encoded data removed]",
      "text/plain": [
       "<Figure size 1080x1080 with 1 Axes>"
      ]
     },
     "metadata": {
      "needs_background": "light"
     },
     "output_type": "display_data"
    }
   ],
   "source": [
    "plt.figure(figsize=(15,15))\n",
    "sns.countplot(data=titanic, x='age', hue='survived')\n",
    "plt.xticks(rotation=90)\n",
    "plt.show()"
   ]
  },
  {
   "cell_type": "markdown",
   "id": "0a1ee181",
   "metadata": {},
   "source": [
    "* 나이가 어린부분에서 생존률이 높고 고령은 생존률이 낮다."
   ]
  }
 ],
 "metadata": {
  "hide_input": false,
  "kernelspec": {
   "display_name": "Python 3",
   "language": "python",
   "name": "python3"
  },
  "language_info": {
   "codemirror_mode": {
    "name": "ipython",
    "version": 3
   },
   "file_extension": ".py",
   "mimetype": "text/x-python",
   "name": "python",
   "nbconvert_exporter": "python",
   "pygments_lexer": "ipython3",
   "version": "3.8.8"
  },
  "toc": {
   "base_numbering": 1,
   "nav_menu": {},
   "number_sections": true,
   "sideBar": true,
   "skip_h1_title": false,
   "title_cell": "Table of Contents",
   "title_sidebar": "Contents",
   "toc_cell": false,
   "toc_position": {},
   "toc_section_display": true,
   "toc_window_display": false
  },
  "varInspector": {
   "cols": {
    "lenName": 16,
    "lenType": 16,
    "lenVar": 40
   },
   "kernels_config": {
    "python": {
     "delete_cmd_postfix": "",
     "delete_cmd_prefix": "del ",
     "library": "var_list.py",
     "varRefreshCmd": "print(var_dic_list())"
    },
    "r": {
     "delete_cmd_postfix": ") ",
     "delete_cmd_prefix": "rm(",
     "library": "var_list.r",
     "varRefreshCmd": "cat(var_dic_list()) "
    }
   },
   "types_to_exclude": [
    "module",
    "function",
    "builtin_function_or_method",
    "instance",
    "_Feature"
   ],
   "window_display": false
  }
 },
 "nbformat": 4,
 "nbformat_minor": 5
}
