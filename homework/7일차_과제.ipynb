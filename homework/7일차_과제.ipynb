{
 "cells": [
  {
   "cell_type": "markdown",
   "id": "63f331a7",
   "metadata": {},
   "source": [
    "- feature: pclass, sex, fare\n",
    "- label: survived\n",
    "\n",
    "1. 1등급, female, 32달러 인경우 생사유무를 예측하시요\n",
    "( voting , bagging, boost, deep learning 을 이용하시요) \n",
    "2. 위의 모델의 train, test, f1 score 를 구하시요\n",
    "3. confusion matrix 를 구하고 heatmap 을 그리시요.\n",
    "4. roc curve 를 그리시요."
   ]
  },
  {
   "cell_type": "markdown",
   "id": "90390eb6",
   "metadata": {
    "ExecuteTime": {
     "end_time": "2021-07-27T22:50:53.720319Z",
     "start_time": "2021-07-27T22:50:53.715371Z"
    }
   },
   "source": [
    "##  라이브러리 및 데이터 불러오기"
   ]
  },
  {
   "cell_type": "code",
   "execution_count": 1,
   "id": "bf81b3f4",
   "metadata": {
    "ExecuteTime": {
     "end_time": "2021-07-27T23:41:12.752001Z",
     "start_time": "2021-07-27T23:41:10.908156Z"
    }
   },
   "outputs": [],
   "source": [
    "import pandas as pd\n",
    "import numpy as np\n",
    "import seaborn as sns\n",
    "\n",
    "\n",
    "from sklearn.preprocessing import StandardScaler \n",
    "from sklearn.preprocessing import OrdinalEncoder, OneHotEncoder\n",
    "from sklearn.pipeline import make_pipeline\n",
    "from sklearn.ensemble import VotingClassifier\n",
    "\n",
    "from sklearn.model_selection import train_test_split, GridSearchCV\n",
    "from sklearn.compose import make_column_transformer\n",
    "from sklearn.metrics import roc_curve, f1_score, confusion_matrix\n",
    "\n",
    "from sklearn.linear_model import LogisticRegression\n",
    "from sklearn.ensemble import BaggingClassifier, AdaBoostClassifier, RandomForestClassifier\n",
    "from sklearn.tree import DecisionTreeClassifier\n",
    "from sklearn.svm import SVC\n",
    "from sklearn.neural_network import MLPClassifier\n",
    "from sklearn.neighbors import KNeighborsClassifier\n",
    "from sklearn.model_selection import cross_val_score\n",
    "\n",
    "import matplotlib.pyplot as plt\n",
    "import matplotlib\n",
    "matplotlib.rcParams['font.family']='Malgun Gothic'\n",
    "matplotlib.rcParams['axes.unicode_minus'] = False\n",
    "\n",
    "import warnings\n",
    "warnings.simplefilter('ignore')"
   ]
  },
  {
   "cell_type": "code",
   "execution_count": 2,
   "id": "6badd821",
   "metadata": {
    "ExecuteTime": {
     "end_time": "2021-07-27T23:41:12.797192Z",
     "start_time": "2021-07-27T23:41:12.753999Z"
    }
   },
   "outputs": [
    {
     "data": {
      "text/html": [
       "<div>\n",
       "<style scoped>\n",
       "    .dataframe tbody tr th:only-of-type {\n",
       "        vertical-align: middle;\n",
       "    }\n",
       "\n",
       "    .dataframe tbody tr th {\n",
       "        vertical-align: top;\n",
       "    }\n",
       "\n",
       "    .dataframe thead th {\n",
       "        text-align: right;\n",
       "    }\n",
       "</style>\n",
       "<table border=\"1\" class=\"dataframe\">\n",
       "  <thead>\n",
       "    <tr style=\"text-align: right;\">\n",
       "      <th></th>\n",
       "      <th>survived</th>\n",
       "      <th>pclass</th>\n",
       "      <th>sex</th>\n",
       "      <th>age</th>\n",
       "      <th>sibsp</th>\n",
       "      <th>parch</th>\n",
       "      <th>fare</th>\n",
       "      <th>embarked</th>\n",
       "      <th>class</th>\n",
       "      <th>who</th>\n",
       "      <th>adult_male</th>\n",
       "      <th>deck</th>\n",
       "      <th>embark_town</th>\n",
       "      <th>alive</th>\n",
       "      <th>alone</th>\n",
       "    </tr>\n",
       "  </thead>\n",
       "  <tbody>\n",
       "    <tr>\n",
       "      <th>0</th>\n",
       "      <td>0</td>\n",
       "      <td>3</td>\n",
       "      <td>male</td>\n",
       "      <td>22.0</td>\n",
       "      <td>1</td>\n",
       "      <td>0</td>\n",
       "      <td>7.2500</td>\n",
       "      <td>S</td>\n",
       "      <td>Third</td>\n",
       "      <td>man</td>\n",
       "      <td>True</td>\n",
       "      <td>NaN</td>\n",
       "      <td>Southampton</td>\n",
       "      <td>no</td>\n",
       "      <td>False</td>\n",
       "    </tr>\n",
       "    <tr>\n",
       "      <th>1</th>\n",
       "      <td>1</td>\n",
       "      <td>1</td>\n",
       "      <td>female</td>\n",
       "      <td>38.0</td>\n",
       "      <td>1</td>\n",
       "      <td>0</td>\n",
       "      <td>71.2833</td>\n",
       "      <td>C</td>\n",
       "      <td>First</td>\n",
       "      <td>woman</td>\n",
       "      <td>False</td>\n",
       "      <td>C</td>\n",
       "      <td>Cherbourg</td>\n",
       "      <td>yes</td>\n",
       "      <td>False</td>\n",
       "    </tr>\n",
       "    <tr>\n",
       "      <th>2</th>\n",
       "      <td>1</td>\n",
       "      <td>3</td>\n",
       "      <td>female</td>\n",
       "      <td>26.0</td>\n",
       "      <td>0</td>\n",
       "      <td>0</td>\n",
       "      <td>7.9250</td>\n",
       "      <td>S</td>\n",
       "      <td>Third</td>\n",
       "      <td>woman</td>\n",
       "      <td>False</td>\n",
       "      <td>NaN</td>\n",
       "      <td>Southampton</td>\n",
       "      <td>yes</td>\n",
       "      <td>True</td>\n",
       "    </tr>\n",
       "    <tr>\n",
       "      <th>3</th>\n",
       "      <td>1</td>\n",
       "      <td>1</td>\n",
       "      <td>female</td>\n",
       "      <td>35.0</td>\n",
       "      <td>1</td>\n",
       "      <td>0</td>\n",
       "      <td>53.1000</td>\n",
       "      <td>S</td>\n",
       "      <td>First</td>\n",
       "      <td>woman</td>\n",
       "      <td>False</td>\n",
       "      <td>C</td>\n",
       "      <td>Southampton</td>\n",
       "      <td>yes</td>\n",
       "      <td>False</td>\n",
       "    </tr>\n",
       "    <tr>\n",
       "      <th>4</th>\n",
       "      <td>0</td>\n",
       "      <td>3</td>\n",
       "      <td>male</td>\n",
       "      <td>35.0</td>\n",
       "      <td>0</td>\n",
       "      <td>0</td>\n",
       "      <td>8.0500</td>\n",
       "      <td>S</td>\n",
       "      <td>Third</td>\n",
       "      <td>man</td>\n",
       "      <td>True</td>\n",
       "      <td>NaN</td>\n",
       "      <td>Southampton</td>\n",
       "      <td>no</td>\n",
       "      <td>True</td>\n",
       "    </tr>\n",
       "    <tr>\n",
       "      <th>...</th>\n",
       "      <td>...</td>\n",
       "      <td>...</td>\n",
       "      <td>...</td>\n",
       "      <td>...</td>\n",
       "      <td>...</td>\n",
       "      <td>...</td>\n",
       "      <td>...</td>\n",
       "      <td>...</td>\n",
       "      <td>...</td>\n",
       "      <td>...</td>\n",
       "      <td>...</td>\n",
       "      <td>...</td>\n",
       "      <td>...</td>\n",
       "      <td>...</td>\n",
       "      <td>...</td>\n",
       "    </tr>\n",
       "    <tr>\n",
       "      <th>886</th>\n",
       "      <td>0</td>\n",
       "      <td>2</td>\n",
       "      <td>male</td>\n",
       "      <td>27.0</td>\n",
       "      <td>0</td>\n",
       "      <td>0</td>\n",
       "      <td>13.0000</td>\n",
       "      <td>S</td>\n",
       "      <td>Second</td>\n",
       "      <td>man</td>\n",
       "      <td>True</td>\n",
       "      <td>NaN</td>\n",
       "      <td>Southampton</td>\n",
       "      <td>no</td>\n",
       "      <td>True</td>\n",
       "    </tr>\n",
       "    <tr>\n",
       "      <th>887</th>\n",
       "      <td>1</td>\n",
       "      <td>1</td>\n",
       "      <td>female</td>\n",
       "      <td>19.0</td>\n",
       "      <td>0</td>\n",
       "      <td>0</td>\n",
       "      <td>30.0000</td>\n",
       "      <td>S</td>\n",
       "      <td>First</td>\n",
       "      <td>woman</td>\n",
       "      <td>False</td>\n",
       "      <td>B</td>\n",
       "      <td>Southampton</td>\n",
       "      <td>yes</td>\n",
       "      <td>True</td>\n",
       "    </tr>\n",
       "    <tr>\n",
       "      <th>888</th>\n",
       "      <td>0</td>\n",
       "      <td>3</td>\n",
       "      <td>female</td>\n",
       "      <td>NaN</td>\n",
       "      <td>1</td>\n",
       "      <td>2</td>\n",
       "      <td>23.4500</td>\n",
       "      <td>S</td>\n",
       "      <td>Third</td>\n",
       "      <td>woman</td>\n",
       "      <td>False</td>\n",
       "      <td>NaN</td>\n",
       "      <td>Southampton</td>\n",
       "      <td>no</td>\n",
       "      <td>False</td>\n",
       "    </tr>\n",
       "    <tr>\n",
       "      <th>889</th>\n",
       "      <td>1</td>\n",
       "      <td>1</td>\n",
       "      <td>male</td>\n",
       "      <td>26.0</td>\n",
       "      <td>0</td>\n",
       "      <td>0</td>\n",
       "      <td>30.0000</td>\n",
       "      <td>C</td>\n",
       "      <td>First</td>\n",
       "      <td>man</td>\n",
       "      <td>True</td>\n",
       "      <td>C</td>\n",
       "      <td>Cherbourg</td>\n",
       "      <td>yes</td>\n",
       "      <td>True</td>\n",
       "    </tr>\n",
       "    <tr>\n",
       "      <th>890</th>\n",
       "      <td>0</td>\n",
       "      <td>3</td>\n",
       "      <td>male</td>\n",
       "      <td>32.0</td>\n",
       "      <td>0</td>\n",
       "      <td>0</td>\n",
       "      <td>7.7500</td>\n",
       "      <td>Q</td>\n",
       "      <td>Third</td>\n",
       "      <td>man</td>\n",
       "      <td>True</td>\n",
       "      <td>NaN</td>\n",
       "      <td>Queenstown</td>\n",
       "      <td>no</td>\n",
       "      <td>True</td>\n",
       "    </tr>\n",
       "  </tbody>\n",
       "</table>\n",
       "<p>891 rows × 15 columns</p>\n",
       "</div>"
      ],
      "text/plain": [
       "     survived  pclass     sex   age  sibsp  parch     fare embarked   class  \\\n",
       "0           0       3    male  22.0      1      0   7.2500        S   Third   \n",
       "1           1       1  female  38.0      1      0  71.2833        C   First   \n",
       "2           1       3  female  26.0      0      0   7.9250        S   Third   \n",
       "3           1       1  female  35.0      1      0  53.1000        S   First   \n",
       "4           0       3    male  35.0      0      0   8.0500        S   Third   \n",
       "..        ...     ...     ...   ...    ...    ...      ...      ...     ...   \n",
       "886         0       2    male  27.0      0      0  13.0000        S  Second   \n",
       "887         1       1  female  19.0      0      0  30.0000        S   First   \n",
       "888         0       3  female   NaN      1      2  23.4500        S   Third   \n",
       "889         1       1    male  26.0      0      0  30.0000        C   First   \n",
       "890         0       3    male  32.0      0      0   7.7500        Q   Third   \n",
       "\n",
       "       who  adult_male deck  embark_town alive  alone  \n",
       "0      man        True  NaN  Southampton    no  False  \n",
       "1    woman       False    C    Cherbourg   yes  False  \n",
       "2    woman       False  NaN  Southampton   yes   True  \n",
       "3    woman       False    C  Southampton   yes  False  \n",
       "4      man        True  NaN  Southampton    no   True  \n",
       "..     ...         ...  ...          ...   ...    ...  \n",
       "886    man        True  NaN  Southampton    no   True  \n",
       "887  woman       False    B  Southampton   yes   True  \n",
       "888  woman       False  NaN  Southampton    no  False  \n",
       "889    man        True    C    Cherbourg   yes   True  \n",
       "890    man        True  NaN   Queenstown    no   True  \n",
       "\n",
       "[891 rows x 15 columns]"
      ]
     },
     "execution_count": 2,
     "metadata": {},
     "output_type": "execute_result"
    }
   ],
   "source": [
    "titanic = sns.load_dataset('titanic')\n",
    "titanic"
   ]
  },
  {
   "cell_type": "markdown",
   "id": "58e76fe7",
   "metadata": {},
   "source": [
    "### 데이터 분리"
   ]
  },
  {
   "cell_type": "code",
   "execution_count": 3,
   "id": "53a9dd16",
   "metadata": {
    "ExecuteTime": {
     "end_time": "2021-07-27T23:41:12.812242Z",
     "start_time": "2021-07-27T23:41:12.799187Z"
    }
   },
   "outputs": [],
   "source": [
    "x_data, y_data = titanic[['pclass', 'sex', 'fare']], titanic['survived']"
   ]
  },
  {
   "cell_type": "code",
   "execution_count": 4,
   "id": "b208783c",
   "metadata": {
    "ExecuteTime": {
     "end_time": "2021-07-27T23:41:12.827200Z",
     "start_time": "2021-07-27T23:41:12.813240Z"
    }
   },
   "outputs": [
    {
     "data": {
      "text/plain": [
       "pclass    0\n",
       "sex       0\n",
       "fare      0\n",
       "dtype: int64"
      ]
     },
     "execution_count": 4,
     "metadata": {},
     "output_type": "execute_result"
    }
   ],
   "source": [
    "x_data.isnull().sum()"
   ]
  },
  {
   "cell_type": "code",
   "execution_count": 5,
   "id": "880b8761",
   "metadata": {
    "ExecuteTime": {
     "end_time": "2021-07-27T23:41:12.842163Z",
     "start_time": "2021-07-27T23:41:12.828198Z"
    }
   },
   "outputs": [],
   "source": [
    "x_train, x_test, y_train, y_test = train_test_split(x_data, y_data, test_size=0.2, \n",
    "                                                    random_state=1, stratify=y_data)"
   ]
  },
  {
   "cell_type": "markdown",
   "id": "9ab11386",
   "metadata": {},
   "source": [
    "### 예측할 데이터"
   ]
  },
  {
   "cell_type": "code",
   "execution_count": 6,
   "id": "a2febb25",
   "metadata": {
    "ExecuteTime": {
     "end_time": "2021-07-27T23:41:12.857168Z",
     "start_time": "2021-07-27T23:41:12.843160Z"
    }
   },
   "outputs": [
    {
     "data": {
      "text/html": [
       "<div>\n",
       "<style scoped>\n",
       "    .dataframe tbody tr th:only-of-type {\n",
       "        vertical-align: middle;\n",
       "    }\n",
       "\n",
       "    .dataframe tbody tr th {\n",
       "        vertical-align: top;\n",
       "    }\n",
       "\n",
       "    .dataframe thead th {\n",
       "        text-align: right;\n",
       "    }\n",
       "</style>\n",
       "<table border=\"1\" class=\"dataframe\">\n",
       "  <thead>\n",
       "    <tr style=\"text-align: right;\">\n",
       "      <th></th>\n",
       "      <th>pclass</th>\n",
       "      <th>sex</th>\n",
       "      <th>fare</th>\n",
       "    </tr>\n",
       "  </thead>\n",
       "  <tbody>\n",
       "    <tr>\n",
       "      <th>0</th>\n",
       "      <td>1</td>\n",
       "      <td>female</td>\n",
       "      <td>32.0</td>\n",
       "    </tr>\n",
       "  </tbody>\n",
       "</table>\n",
       "</div>"
      ],
      "text/plain": [
       "   pclass     sex  fare\n",
       "0       1  female  32.0"
      ]
     },
     "execution_count": 6,
     "metadata": {},
     "output_type": "execute_result"
    }
   ],
   "source": [
    "xd = pd.DataFrame([[1, 'female', 32.0]], columns=x_data.columns)\n",
    "xd"
   ]
  },
  {
   "cell_type": "markdown",
   "id": "2109e03e",
   "metadata": {},
   "source": [
    "## voting"
   ]
  },
  {
   "cell_type": "markdown",
   "id": "a60c29dc",
   "metadata": {},
   "source": [
    "### 모델 생성 및 학습"
   ]
  },
  {
   "cell_type": "code",
   "execution_count": 7,
   "id": "1502bd89",
   "metadata": {
    "ExecuteTime": {
     "end_time": "2021-07-27T23:41:13.081525Z",
     "start_time": "2021-07-27T23:41:12.859116Z"
    }
   },
   "outputs": [
    {
     "data": {
      "text/plain": [
       "Pipeline(steps=[('columntransformer',\n",
       "                 ColumnTransformer(transformers=[('onehotencoder',\n",
       "                                                  OneHotEncoder(),\n",
       "                                                  ['pclass', 'sex']),\n",
       "                                                 ('standardscaler',\n",
       "                                                  StandardScaler(),\n",
       "                                                  ['fare'])])),\n",
       "                ('votingclassifier',\n",
       "                 VotingClassifier(estimators=[('logi', LogisticRegression()),\n",
       "                                              ('knn', KNeighborsClassifier()),\n",
       "                                              ('tree',\n",
       "                                               DecisionTreeClassifier()),\n",
       "                                              ('forest',\n",
       "                                               RandomForestClassifier())],\n",
       "                                  voting='soft'))])"
      ]
     },
     "execution_count": 7,
     "metadata": {},
     "output_type": "execute_result"
    }
   ],
   "source": [
    "ct = make_column_transformer((OneHotEncoder(), ['pclass', 'sex']), (StandardScaler(), ['fare']))\n",
    "\n",
    "model_logi = LogisticRegression()\n",
    "model_knn = KNeighborsClassifier()\n",
    "model_tree = DecisionTreeClassifier()\n",
    "model_forest = RandomForestClassifier()\n",
    "\n",
    "\n",
    "model_vote = VotingClassifier(estimators=[('logi', model_logi), ('knn', model_knn), ('tree', model_tree),('forest', model_forest)], \n",
    "                              voting='soft' )\n",
    "pipe = make_pipeline(ct, model_vote)\n",
    "\n",
    "pipe.fit(x_train, y_train)"
   ]
  },
  {
   "cell_type": "markdown",
   "id": "4a3315c9",
   "metadata": {},
   "source": [
    "### 생사유무 예측"
   ]
  },
  {
   "cell_type": "code",
   "execution_count": 8,
   "id": "bcf0b8b0",
   "metadata": {
    "ExecuteTime": {
     "end_time": "2021-07-27T23:41:13.111446Z",
     "start_time": "2021-07-27T23:41:13.083519Z"
    }
   },
   "outputs": [
    {
     "data": {
      "text/plain": [
       "array([1], dtype=int64)"
      ]
     },
     "execution_count": 8,
     "metadata": {},
     "output_type": "execute_result"
    }
   ],
   "source": [
    "pipe.predict(xd)"
   ]
  },
  {
   "cell_type": "markdown",
   "id": "01ac6f0c",
   "metadata": {},
   "source": [
    "### train, test f1-score"
   ]
  },
  {
   "cell_type": "code",
   "execution_count": 9,
   "id": "bb434942",
   "metadata": {
    "ExecuteTime": {
     "end_time": "2021-07-27T23:41:13.171732Z",
     "start_time": "2021-07-27T23:41:13.112443Z"
    }
   },
   "outputs": [
    {
     "name": "stdout",
     "output_type": "stream",
     "text": [
      "(train) f1-socre : 0.8688845401174168\n",
      "(test) f1-socre :  0.7727272727272727\n"
     ]
    }
   ],
   "source": [
    "y_train_pred = pipe.predict(x_train)\n",
    "y_test_pred = pipe.predict(x_test)\n",
    "\n",
    "print('(train) f1-socre :', f1_score(y_train, y_train_pred))\n",
    "print('(test) f1-socre : ', f1_score(y_test, y_test_pred))"
   ]
  },
  {
   "cell_type": "markdown",
   "id": "a06757f3",
   "metadata": {},
   "source": [
    "### confusion matrix\n"
   ]
  },
  {
   "cell_type": "code",
   "execution_count": 10,
   "id": "64a5583b",
   "metadata": {
    "ExecuteTime": {
     "end_time": "2021-07-27T23:41:13.366062Z",
     "start_time": "2021-07-27T23:41:13.172731Z"
    }
   },
   "outputs": [
    {
     "data": {
      "image/png": "[encoded data removed]",
      "text/plain": [
       "<Figure size 432x288 with 2 Axes>"
      ]
     },
     "metadata": {
      "needs_background": "light"
     },
     "output_type": "display_data"
    }
   ],
   "source": [
    "cm = confusion_matrix(y_test, y_test_pred)\n",
    "\n",
    "sns.heatmap(cm, annot=True, cmap='Reds', \n",
    "            xticklabels=['사망예측', '생존예측'],\n",
    "            yticklabels=['사망', '생존'], fmt='d')\n",
    "plt.show()"
   ]
  },
  {
   "cell_type": "markdown",
   "id": "089377d8",
   "metadata": {},
   "source": [
    "### roc curve"
   ]
  },
  {
   "cell_type": "code",
   "execution_count": 11,
   "id": "c30090d8",
   "metadata": {
    "ExecuteTime": {
     "end_time": "2021-07-27T23:41:13.516408Z",
     "start_time": "2021-07-27T23:41:13.367051Z"
    }
   },
   "outputs": [
    {
     "data": {
      "image/png": "[encoded data removed]",
      "text/plain": [
       "<Figure size 432x288 with 1 Axes>"
      ]
     },
     "metadata": {
      "needs_background": "light"
     },
     "output_type": "display_data"
    }
   ],
   "source": [
    "y_score = pipe.predict_proba(x_test)[:, 1]\n",
    "fpr, tpr, thres = roc_curve(y_test, y_score)\n",
    "\n",
    "plt.plot(fpr, tpr, 'r--')\n",
    "plt.plot([0, 1], [0, 1], 'k--')\n",
    "plt.xlabel('FPR')\n",
    "plt.xlabel('TPR')\n",
    "plt.title('ROC curve(test data)')\n",
    "plt.show()"
   ]
  },
  {
   "cell_type": "markdown",
   "id": "ee294065",
   "metadata": {},
   "source": [
    "## bagging"
   ]
  },
  {
   "cell_type": "markdown",
   "id": "7583d357",
   "metadata": {},
   "source": [
    "### 모델 생성 및 학습"
   ]
  },
  {
   "cell_type": "code",
   "execution_count": 12,
   "id": "bafa34b1",
   "metadata": {
    "ExecuteTime": {
     "end_time": "2021-07-27T23:41:14.520209Z",
     "start_time": "2021-07-27T23:41:13.517409Z"
    }
   },
   "outputs": [
    {
     "data": {
      "text/plain": [
       "GridSearchCV(cv=5,\n",
       "             estimator=Pipeline(steps=[('columntransformer',\n",
       "                                        ColumnTransformer(transformers=[('onehotencoder',\n",
       "                                                                         OneHotEncoder(),\n",
       "                                                                         ['pclass',\n",
       "                                                                          'sex']),\n",
       "                                                                        ('standardscaler',\n",
       "                                                                         StandardScaler(),\n",
       "                                                                         ['fare'])])),\n",
       "                                       ('baggingclassifier',\n",
       "                                        BaggingClassifier())]),\n",
       "             param_grid={'baggingclassifier__base_estimator': [DecisionTreeClassifier(criterion='entropy'),\n",
       "                                                               LogisticRegression(),\n",
       "                                                               SVC()]},\n",
       "             scoring='f1')"
      ]
     },
     "execution_count": 12,
     "metadata": {},
     "output_type": "execute_result"
    }
   ],
   "source": [
    "ct = make_column_transformer((OneHotEncoder(), ['pclass', 'sex']), (StandardScaler(), ['fare']))\n",
    "param_grid = {'baggingclassifier__base_estimator':[DecisionTreeClassifier(criterion='entropy'), LogisticRegression(), SVC()]}\n",
    "pipe = make_pipeline(ct, BaggingClassifier())\n",
    "grid = GridSearchCV(pipe, param_grid=param_grid, cv=5, scoring='f1')\n",
    "grid.fit(x_train, y_train)\n"
   ]
  },
  {
   "cell_type": "code",
   "execution_count": 13,
   "id": "ddb153b0",
   "metadata": {
    "ExecuteTime": {
     "end_time": "2021-07-27T23:41:14.535243Z",
     "start_time": "2021-07-27T23:41:14.521206Z"
    }
   },
   "outputs": [
    {
     "name": "stdout",
     "output_type": "stream",
     "text": [
      "{'baggingclassifier__base_estimator': DecisionTreeClassifier(criterion='entropy')}\n",
      "0.7296038925353817\n"
     ]
    }
   ],
   "source": [
    "print(grid.best_params_)\n",
    "print(grid.best_score_)"
   ]
  },
  {
   "cell_type": "markdown",
   "id": "095f2ace",
   "metadata": {},
   "source": [
    "### 생사유무 예측"
   ]
  },
  {
   "cell_type": "code",
   "execution_count": 14,
   "id": "2b2e047e",
   "metadata": {
    "ExecuteTime": {
     "end_time": "2021-07-27T23:41:14.550160Z",
     "start_time": "2021-07-27T23:41:14.536166Z"
    }
   },
   "outputs": [
    {
     "data": {
      "text/plain": [
       "array([1], dtype=int64)"
      ]
     },
     "execution_count": 14,
     "metadata": {},
     "output_type": "execute_result"
    }
   ],
   "source": [
    "grid.best_estimator_.predict(xd)"
   ]
  },
  {
   "cell_type": "markdown",
   "id": "1671d46d",
   "metadata": {
    "ExecuteTime": {
     "end_time": "2021-07-27T08:21:17.837557Z",
     "start_time": "2021-07-27T08:21:17.814691Z"
    }
   },
   "source": [
    "### train, test f1-score"
   ]
  },
  {
   "cell_type": "code",
   "execution_count": 15,
   "id": "b06e9233",
   "metadata": {
    "ExecuteTime": {
     "end_time": "2021-07-27T23:41:14.580080Z",
     "start_time": "2021-07-27T23:41:14.552123Z"
    }
   },
   "outputs": [
    {
     "name": "stdout",
     "output_type": "stream",
     "text": [
      "(train) f1-socre : 0.8773946360153256\n",
      "(test) f1-socre :  0.7727272727272727\n"
     ]
    }
   ],
   "source": [
    "y_train_pred = grid.best_estimator_.predict(x_train)\n",
    "y_test_pred = grid.best_estimator_.predict(x_test)\n",
    "\n",
    "print('(train) f1-socre :', f1_score(y_train, y_train_pred))\n",
    "print('(test) f1-socre : ', f1_score(y_test, y_test_pred))"
   ]
  },
  {
   "cell_type": "markdown",
   "id": "2f4ea868",
   "metadata": {},
   "source": [
    "### confusion matrix"
   ]
  },
  {
   "cell_type": "code",
   "execution_count": 16,
   "id": "b3a1dc28",
   "metadata": {
    "ExecuteTime": {
     "end_time": "2021-07-27T23:41:14.759631Z",
     "start_time": "2021-07-27T23:41:14.582045Z"
    }
   },
   "outputs": [
    {
     "data": {
      "image/png": "[encoded data removed]",
      "text/plain": [
       "<Figure size 432x288 with 2 Axes>"
      ]
     },
     "metadata": {
      "needs_background": "light"
     },
     "output_type": "display_data"
    }
   ],
   "source": [
    "cm = confusion_matrix(y_test, y_test_pred)\n",
    "\n",
    "sns.heatmap(cm, annot=True, cmap='Reds', \n",
    "            xticklabels=['사망예측', '생존예측'],\n",
    "            yticklabels=['사망', '생존'], fmt='d')\n",
    "plt.show()"
   ]
  },
  {
   "cell_type": "markdown",
   "id": "3913b14c",
   "metadata": {},
   "source": [
    "### roc curve"
   ]
  },
  {
   "cell_type": "code",
   "execution_count": 17,
   "id": "56a8f62d",
   "metadata": {
    "ExecuteTime": {
     "end_time": "2021-07-27T23:41:14.999823Z",
     "start_time": "2021-07-27T23:41:14.760605Z"
    }
   },
   "outputs": [
    {
     "data": {
      "image/png": "[encoded data removed]",
      "text/plain": [
       "<Figure size 432x288 with 1 Axes>"
      ]
     },
     "metadata": {
      "needs_background": "light"
     },
     "output_type": "display_data"
    }
   ],
   "source": [
    "y_score = grid.best_estimator_.predict_proba(x_test)[:, 1]\n",
    "fpr, tpr, thres = roc_curve(y_test, y_score)\n",
    "\n",
    "plt.plot(fpr, tpr, 'r--')\n",
    "plt.plot([0, 1], [0, 1], 'k--')\n",
    "plt.xlabel('FPR')\n",
    "plt.xlabel('TPR')\n",
    "plt.title('ROC curve(test data)')\n",
    "plt.show()"
   ]
  },
  {
   "cell_type": "markdown",
   "id": "4bbefc9e",
   "metadata": {
    "ExecuteTime": {
     "end_time": "2021-07-27T08:30:29.191906Z",
     "start_time": "2021-07-27T08:30:29.176829Z"
    }
   },
   "source": [
    "## boost"
   ]
  },
  {
   "cell_type": "markdown",
   "id": "face2d51",
   "metadata": {},
   "source": [
    "### 모델 생성 및 학습"
   ]
  },
  {
   "cell_type": "code",
   "execution_count": 18,
   "id": "041c12f9",
   "metadata": {
    "ExecuteTime": {
     "end_time": "2021-07-27T23:41:16.677584Z",
     "start_time": "2021-07-27T23:41:15.000822Z"
    }
   },
   "outputs": [
    {
     "data": {
      "text/plain": [
       "GridSearchCV(cv=5,\n",
       "             estimator=Pipeline(steps=[('columntransformer',\n",
       "                                        ColumnTransformer(transformers=[('onehotencoder',\n",
       "                                                                         OneHotEncoder(),\n",
       "                                                                         ['pclass',\n",
       "                                                                          'sex']),\n",
       "                                                                        ('standardscaler',\n",
       "                                                                         StandardScaler(),\n",
       "                                                                         ['fare'])])),\n",
       "                                       ('adaboostclassifier',\n",
       "                                        AdaBoostClassifier())]),\n",
       "             param_grid={'adaboostclassifier__base_estimator': [DecisionTreeClassifier(criterion='entropy'),\n",
       "                                                                LogisticRegression(),\n",
       "                                                                SVC()]},\n",
       "             scoring='f1')"
      ]
     },
     "execution_count": 18,
     "metadata": {},
     "output_type": "execute_result"
    }
   ],
   "source": [
    "ct = make_column_transformer((OneHotEncoder(), ['pclass', 'sex']),(StandardScaler(), ['fare']))\n",
    "param_grid = {'adaboostclassifier__base_estimator':[DecisionTreeClassifier(criterion='entropy'), LogisticRegression(), SVC()]}\n",
    "pipe = make_pipeline(ct, AdaBoostClassifier())\n",
    "grid = GridSearchCV(pipe, param_grid=param_grid, cv=5, scoring='f1')\n",
    "grid.fit(x_train, y_train)\n"
   ]
  },
  {
   "cell_type": "code",
   "execution_count": 19,
   "id": "323277a6",
   "metadata": {
    "ExecuteTime": {
     "end_time": "2021-07-27T23:41:16.692568Z",
     "start_time": "2021-07-27T23:41:16.678583Z"
    }
   },
   "outputs": [
    {
     "name": "stdout",
     "output_type": "stream",
     "text": [
      "{'adaboostclassifier__base_estimator': DecisionTreeClassifier(criterion='entropy')}\n",
      "0.7418765411889132\n"
     ]
    }
   ],
   "source": [
    "print(grid.best_params_)\n",
    "print(grid.best_score_)"
   ]
  },
  {
   "cell_type": "markdown",
   "id": "f6c1ae93",
   "metadata": {
    "ExecuteTime": {
     "end_time": "2021-07-27T22:29:36.088685Z",
     "start_time": "2021-07-27T22:29:36.072129Z"
    }
   },
   "source": [
    "### 생사유무 예측"
   ]
  },
  {
   "cell_type": "code",
   "execution_count": 20,
   "id": "b9466544",
   "metadata": {
    "ExecuteTime": {
     "end_time": "2021-07-27T23:41:16.722510Z",
     "start_time": "2021-07-27T23:41:16.693566Z"
    }
   },
   "outputs": [
    {
     "data": {
      "text/plain": [
       "array([1], dtype=int64)"
      ]
     },
     "execution_count": 20,
     "metadata": {},
     "output_type": "execute_result"
    }
   ],
   "source": [
    "grid.best_estimator_.predict(xd)"
   ]
  },
  {
   "cell_type": "markdown",
   "id": "3085e12f",
   "metadata": {},
   "source": [
    "### train, test f1-score"
   ]
  },
  {
   "cell_type": "code",
   "execution_count": 21,
   "id": "352cf8a5",
   "metadata": {
    "ExecuteTime": {
     "end_time": "2021-07-27T23:41:16.767397Z",
     "start_time": "2021-07-27T23:41:16.723515Z"
    }
   },
   "outputs": [
    {
     "name": "stdout",
     "output_type": "stream",
     "text": [
      "(train) f1-socre : 0.8804554079696395\n",
      "(test) f1-socre :  0.7761194029850746\n"
     ]
    }
   ],
   "source": [
    "y_train_pred = grid.best_estimator_.predict(x_train)\n",
    "y_test_pred = grid.best_estimator_.predict(x_test)\n",
    "\n",
    "print('(train) f1-socre :', f1_score(y_train, y_train_pred))\n",
    "print('(test) f1-socre : ', f1_score(y_test, y_test_pred))"
   ]
  },
  {
   "cell_type": "markdown",
   "id": "eb194813",
   "metadata": {},
   "source": [
    "### confusion matrix"
   ]
  },
  {
   "cell_type": "code",
   "execution_count": 22,
   "id": "98931b3b",
   "metadata": {
    "ExecuteTime": {
     "end_time": "2021-07-27T23:41:16.947145Z",
     "start_time": "2021-07-27T23:41:16.770389Z"
    }
   },
   "outputs": [
    {
     "data": {
      "image/png": "[encoded data removed]",
      "text/plain": [
       "<Figure size 432x288 with 2 Axes>"
      ]
     },
     "metadata": {
      "needs_background": "light"
     },
     "output_type": "display_data"
    }
   ],
   "source": [
    "cm = confusion_matrix(y_test, y_test_pred)\n",
    "\n",
    "sns.heatmap(cm, annot=True, cmap='Reds', \n",
    "            xticklabels=['사망예측', '생존예측'],\n",
    "            yticklabels=['사망', '생존'], fmt='d')\n",
    "plt.show()"
   ]
  },
  {
   "cell_type": "markdown",
   "id": "558b7365",
   "metadata": {
    "ExecuteTime": {
     "end_time": "2021-07-27T22:31:02.689288Z",
     "start_time": "2021-07-27T22:31:02.677563Z"
    }
   },
   "source": [
    "### roc curve"
   ]
  },
  {
   "cell_type": "code",
   "execution_count": 23,
   "id": "2ef7fc68",
   "metadata": {
    "ExecuteTime": {
     "end_time": "2021-07-27T23:41:17.096748Z",
     "start_time": "2021-07-27T23:41:16.950097Z"
    }
   },
   "outputs": [
    {
     "data": {
      "image/png": "[encoded data removed]",
      "text/plain": [
       "<Figure size 432x288 with 1 Axes>"
      ]
     },
     "metadata": {
      "needs_background": "light"
     },
     "output_type": "display_data"
    }
   ],
   "source": [
    "y_score = grid.best_estimator_.predict_proba(x_test)[:, 1]\n",
    "fpr, tpr, thres = roc_curve(y_test, y_score)\n",
    "\n",
    "plt.plot(fpr, tpr, 'r--')\n",
    "plt.plot([0, 1], [0, 1], 'k--')\n",
    "plt.xlabel('FPR')\n",
    "plt.xlabel('TPR')\n",
    "plt.title('ROC curve(test data)')\n",
    "plt.show()"
   ]
  },
  {
   "cell_type": "markdown",
   "id": "0aedcb23",
   "metadata": {
    "ExecuteTime": {
     "end_time": "2021-07-27T22:32:06.801719Z",
     "start_time": "2021-07-27T22:32:06.791710Z"
    }
   },
   "source": [
    "## deep learning"
   ]
  },
  {
   "cell_type": "markdown",
   "id": "2a4348ca",
   "metadata": {},
   "source": [
    "### 모델 생성 및 학습"
   ]
  },
  {
   "cell_type": "code",
   "execution_count": 24,
   "id": "c108081b",
   "metadata": {
    "ExecuteTime": {
     "end_time": "2021-07-27T23:42:42.371550Z",
     "start_time": "2021-07-27T23:41:17.098743Z"
    }
   },
   "outputs": [
    {
     "data": {
      "text/plain": [
       "GridSearchCV(cv=5,\n",
       "             estimator=Pipeline(steps=[('columntransformer',\n",
       "                                        ColumnTransformer(transformers=[('onehotencoder',\n",
       "                                                                         OneHotEncoder(),\n",
       "                                                                         ['pclass',\n",
       "                                                                          'sex']),\n",
       "                                                                        ('standardscaler',\n",
       "                                                                         StandardScaler(),\n",
       "                                                                         ['fare'])])),\n",
       "                                       ('mlpclassifier', MLPClassifier())]),\n",
       "             param_grid={'mlpclassifier__hidden_layer_sizes': [(64, 32, 16),\n",
       "                                                               (64, 32, 16, 8),\n",
       "                                                               (64, 32, 16, 8,\n",
       "                                                                4),\n",
       "                                                               (32, 16, 8, 4),\n",
       "                                                               (32, 16, 8, 4,\n",
       "                                                                2),\n",
       "                                                               (128, 64, 32, 16,\n",
       "                                                                8)],\n",
       "                         'mlpclassifier__max_iter': [1000, 2000]},\n",
       "             scoring='f1')"
      ]
     },
     "execution_count": 24,
     "metadata": {},
     "output_type": "execute_result"
    }
   ],
   "source": [
    "ct = make_column_transformer((OneHotEncoder(), ['pclass', 'sex']), \n",
    "                             (StandardScaler(), ['fare']))\n",
    "pipe = make_pipeline(ct, MLPClassifier())\n",
    "param_grid = {'mlpclassifier__hidden_layer_sizes':[(64, 32, 16),(64, 32, 16, 8),(64, 32, 16, 8, 4),(32, 16, 8, 4),(32, 16, 8, 4, 2), (128, 64, 32, 16, 8)], \n",
    "              'mlpclassifier__max_iter':[1000, 2000]}\n",
    "grid = GridSearchCV(pipe, param_grid=param_grid, scoring='f1', cv=5)\n",
    "grid.fit(x_train, y_train)\n"
   ]
  },
  {
   "cell_type": "code",
   "execution_count": 25,
   "id": "a754780f",
   "metadata": {
    "ExecuteTime": {
     "end_time": "2021-07-27T23:42:42.386511Z",
     "start_time": "2021-07-27T23:42:42.373545Z"
    }
   },
   "outputs": [
    {
     "name": "stdout",
     "output_type": "stream",
     "text": [
      "{'mlpclassifier__hidden_layer_sizes': (64, 32, 16, 8, 4), 'mlpclassifier__max_iter': 1000}\n",
      "0.6915089104643601\n"
     ]
    }
   ],
   "source": [
    "print(grid.best_params_)\n",
    "print(grid.best_score_)"
   ]
  },
  {
   "cell_type": "markdown",
   "id": "494f48a8",
   "metadata": {},
   "source": [
    "### 생사유무 예측"
   ]
  },
  {
   "cell_type": "code",
   "execution_count": 26,
   "id": "448df45a",
   "metadata": {
    "ExecuteTime": {
     "end_time": "2021-07-27T23:42:42.416951Z",
     "start_time": "2021-07-27T23:42:42.388506Z"
    }
   },
   "outputs": [
    {
     "data": {
      "text/plain": [
       "array([1], dtype=int64)"
      ]
     },
     "execution_count": 26,
     "metadata": {},
     "output_type": "execute_result"
    }
   ],
   "source": [
    "grid.best_estimator_.predict(xd)"
   ]
  },
  {
   "cell_type": "markdown",
   "id": "0bc34913",
   "metadata": {},
   "source": [
    "### train, test f1-score"
   ]
  },
  {
   "cell_type": "code",
   "execution_count": 27,
   "id": "910ed9b4",
   "metadata": {
    "ExecuteTime": {
     "end_time": "2021-07-27T23:42:42.461833Z",
     "start_time": "2021-07-27T23:42:42.418944Z"
    }
   },
   "outputs": [
    {
     "name": "stdout",
     "output_type": "stream",
     "text": [
      "(train) f1-socre : 0.7137096774193549\n",
      "(test) f1-socre :  0.75\n"
     ]
    }
   ],
   "source": [
    "y_train_pred = grid.best_estimator_.predict(x_train)\n",
    "y_test_pred = grid.best_estimator_.predict(x_test)\n",
    "\n",
    "print('(train) f1-socre :', f1_score(y_train, y_train_pred))\n",
    "print('(test) f1-socre : ', f1_score(y_test, y_test_pred))"
   ]
  },
  {
   "cell_type": "markdown",
   "id": "276e3375",
   "metadata": {
    "ExecuteTime": {
     "end_time": "2021-07-27T22:48:48.544382Z",
     "start_time": "2021-07-27T22:48:48.531282Z"
    }
   },
   "source": [
    "### confusion matrix"
   ]
  },
  {
   "cell_type": "code",
   "execution_count": 28,
   "id": "5f2de64f",
   "metadata": {
    "ExecuteTime": {
     "end_time": "2021-07-27T23:42:42.747749Z",
     "start_time": "2021-07-27T23:42:42.465821Z"
    }
   },
   "outputs": [
    {
     "data": {
      "image/png": "[encoded data removed]",
      "text/plain": [
       "<Figure size 432x288 with 2 Axes>"
      ]
     },
     "metadata": {
      "needs_background": "light"
     },
     "output_type": "display_data"
    }
   ],
   "source": [
    "cm = confusion_matrix(y_test, y_test_pred)\n",
    "\n",
    "sns.heatmap(cm, annot=True, cmap='Reds', \n",
    "            xticklabels=['사망예측', '생존예측'],\n",
    "            yticklabels=['사망', '생존'], fmt='d')\n",
    "plt.show()"
   ]
  },
  {
   "cell_type": "markdown",
   "id": "32758b1e",
   "metadata": {
    "ExecuteTime": {
     "end_time": "2021-07-27T22:49:40.650140Z",
     "start_time": "2021-07-27T22:49:40.637150Z"
    }
   },
   "source": [
    "### roc curve"
   ]
  },
  {
   "cell_type": "code",
   "execution_count": 29,
   "id": "72e0ab51",
   "metadata": {
    "ExecuteTime": {
     "end_time": "2021-07-27T23:42:42.987626Z",
     "start_time": "2021-07-27T23:42:42.753649Z"
    }
   },
   "outputs": [
    {
     "data": {
      "image/png": "[encoded data removed]",
      "text/plain": [
       "<Figure size 432x288 with 1 Axes>"
      ]
     },
     "metadata": {
      "needs_background": "light"
     },
     "output_type": "display_data"
    }
   ],
   "source": [
    "y_score = grid.best_estimator_.predict_proba(x_test)[:, 1]\n",
    "fpr, tpr, thres = roc_curve(y_test, y_score)\n",
    "\n",
    "plt.plot(fpr, tpr, 'r--')\n",
    "plt.plot([0, 1], [0, 1], 'k--')\n",
    "plt.xlabel('FPR')\n",
    "plt.xlabel('TPR')\n",
    "plt.title('ROC curve(test data)')\n",
    "plt.show()"
   ]
  }
 ],
 "metadata": {
  "hide_input": false,
  "kernelspec": {
   "display_name": "Python 3",
   "language": "python",
   "name": "python3"
  },
  "language_info": {
   "codemirror_mode": {
    "name": "ipython",
    "version": 3
   },
   "file_extension": ".py",
   "mimetype": "text/x-python",
   "name": "python",
   "nbconvert_exporter": "python",
   "pygments_lexer": "ipython3",
   "version": "3.8.8"
  },
  "toc": {
   "base_numbering": "0",
   "nav_menu": {},
   "number_sections": true,
   "sideBar": true,
   "skip_h1_title": false,
   "title_cell": "Table of Contents",
   "title_sidebar": "Contents",
   "toc_cell": false,
   "toc_position": {},
   "toc_section_display": true,
   "toc_window_display": true
  },
  "varInspector": {
   "cols": {
    "lenName": 16,
    "lenType": 16,
    "lenVar": 40
   },
   "kernels_config": {
    "python": {
     "delete_cmd_postfix": "",
     "delete_cmd_prefix": "del ",
     "library": "var_list.py",
     "varRefreshCmd": "print(var_dic_list())"
    },
    "r": {
     "delete_cmd_postfix": ") ",
     "delete_cmd_prefix": "rm(",
     "library": "var_list.r",
     "varRefreshCmd": "cat(var_dic_list()) "
    }
   },
   "types_to_exclude": [
    "module",
    "function",
    "builtin_function_or_method",
    "instance",
    "_Feature"
   ],
   "window_display": false
  }
 },
 "nbformat": 4,
 "nbformat_minor": 5
}
