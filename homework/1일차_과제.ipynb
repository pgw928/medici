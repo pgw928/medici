{
 "cells": [
  {
   "cell_type": "markdown",
   "id": "051c7a5f",
   "metadata": {},
   "source": [
    "## 과제\n",
    "electric.csv  w, b를 구하시고\n",
    "전기생산량이 3.2, 4.5 인경우 전기 사용량을 예측하시요.\n",
    "scatter(실제데이터), plot(예측데이터)를 그리시요.\n"
   ]
  },
  {
   "cell_type": "markdown",
   "id": "dec3514e",
   "metadata": {},
   "source": [
    "### 패키지 로드"
   ]
  },
  {
   "cell_type": "code",
   "execution_count": 1,
   "id": "40789250",
   "metadata": {
    "ExecuteTime": {
     "end_time": "2021-07-19T08:35:43.432361Z",
     "start_time": "2021-07-19T08:35:41.783447Z"
    }
   },
   "outputs": [],
   "source": [
    "import pandas as pd\n",
    "import numpy as np\n",
    "from sklearn.linear_model import LinearRegression\n",
    "import matplotlib.pyplot as plt\n",
    "import matplotlib\n",
    "matplotlib.rcParams['font.family']='Malgun Gothic'\n",
    "matplotlib.rcParams['axes.unicode_minus'] = False"
   ]
  },
  {
   "cell_type": "markdown",
   "id": "a6cfb2c9",
   "metadata": {
    "ExecuteTime": {
     "end_time": "2021-07-19T08:04:16.606196Z",
     "start_time": "2021-07-19T08:04:16.587924Z"
    }
   },
   "source": [
    "### 데이터 로드"
   ]
  },
  {
   "cell_type": "code",
   "execution_count": 2,
   "id": "5f42ac09",
   "metadata": {
    "ExecuteTime": {
     "end_time": "2021-07-19T08:35:43.448166Z",
     "start_time": "2021-07-19T08:35:43.434187Z"
    }
   },
   "outputs": [
    {
     "data": {
      "text/html": [
       "<div>\n",
       "<style scoped>\n",
       "    .dataframe tbody tr th:only-of-type {\n",
       "        vertical-align: middle;\n",
       "    }\n",
       "\n",
       "    .dataframe tbody tr th {\n",
       "        vertical-align: top;\n",
       "    }\n",
       "\n",
       "    .dataframe thead th {\n",
       "        text-align: right;\n",
       "    }\n",
       "</style>\n",
       "<table border=\"1\" class=\"dataframe\">\n",
       "  <thead>\n",
       "    <tr style=\"text-align: right;\">\n",
       "      <th></th>\n",
       "      <th>전기생산량</th>\n",
       "      <th>전기사용량</th>\n",
       "    </tr>\n",
       "  </thead>\n",
       "  <tbody>\n",
       "    <tr>\n",
       "      <th>0</th>\n",
       "      <td>3.52</td>\n",
       "      <td>2.48</td>\n",
       "    </tr>\n",
       "    <tr>\n",
       "      <th>1</th>\n",
       "      <td>2.58</td>\n",
       "      <td>2.27</td>\n",
       "    </tr>\n",
       "    <tr>\n",
       "      <th>2</th>\n",
       "      <td>3.31</td>\n",
       "      <td>2.47</td>\n",
       "    </tr>\n",
       "    <tr>\n",
       "      <th>3</th>\n",
       "      <td>4.07</td>\n",
       "      <td>2.77</td>\n",
       "    </tr>\n",
       "    <tr>\n",
       "      <th>4</th>\n",
       "      <td>4.62</td>\n",
       "      <td>2.98</td>\n",
       "    </tr>\n",
       "  </tbody>\n",
       "</table>\n",
       "</div>"
      ],
      "text/plain": [
       "   전기생산량  전기사용량\n",
       "0   3.52   2.48\n",
       "1   2.58   2.27\n",
       "2   3.31   2.47\n",
       "3   4.07   2.77\n",
       "4   4.62   2.98"
      ]
     },
     "execution_count": 2,
     "metadata": {},
     "output_type": "execute_result"
    }
   ],
   "source": [
    "electric = pd.read_csv('./data/electric.csv')\n",
    "electric.drop('Unnamed: 0' ,axis=1, inplace=True)\n",
    "electric.head()"
   ]
  },
  {
   "cell_type": "markdown",
   "id": "aa8bed6f",
   "metadata": {},
   "source": [
    "### 데이터 처리"
   ]
  },
  {
   "cell_type": "code",
   "execution_count": 3,
   "id": "cba581ad",
   "metadata": {
    "ExecuteTime": {
     "end_time": "2021-07-19T08:35:43.464213Z",
     "start_time": "2021-07-19T08:35:43.449132Z"
    }
   },
   "outputs": [],
   "source": [
    "x_data = electric.전기생산량.values.reshape(-1, 1)\n",
    "y_data = electric.전기사용량.values"
   ]
  },
  {
   "cell_type": "markdown",
   "id": "07f8fe37",
   "metadata": {},
   "source": [
    "### 모델 생성 및 학습"
   ]
  },
  {
   "cell_type": "code",
   "execution_count": 4,
   "id": "54d436f5",
   "metadata": {
    "ExecuteTime": {
     "end_time": "2021-07-19T08:35:43.495364Z",
     "start_time": "2021-07-19T08:35:43.465127Z"
    }
   },
   "outputs": [
    {
     "data": {
      "text/plain": [
       "LinearRegression()"
      ]
     },
     "execution_count": 4,
     "metadata": {},
     "output_type": "execute_result"
    }
   ],
   "source": [
    "lr_model = LinearRegression()\n",
    "lr_model.fit(x_data, y_data)"
   ]
  },
  {
   "cell_type": "code",
   "execution_count": 5,
   "id": "7fc441da",
   "metadata": {
    "ExecuteTime": {
     "end_time": "2021-07-19T08:35:43.510580Z",
     "start_time": "2021-07-19T08:35:43.496320Z"
    }
   },
   "outputs": [
    {
     "data": {
      "text/plain": [
       "(array([0.49560324]), 0.919581428068942)"
      ]
     },
     "execution_count": 5,
     "metadata": {},
     "output_type": "execute_result"
    }
   ],
   "source": [
    "w, b = lr_model.coef_, lr_model.intercept_\n",
    "w, b"
   ]
  },
  {
   "cell_type": "markdown",
   "id": "3f05e2ba",
   "metadata": {},
   "source": [
    "### 예측"
   ]
  },
  {
   "cell_type": "code",
   "execution_count": 6,
   "id": "3c38ce21",
   "metadata": {
    "ExecuteTime": {
     "end_time": "2021-07-19T08:35:43.526406Z",
     "start_time": "2021-07-19T08:35:43.511517Z"
    }
   },
   "outputs": [
    {
     "data": {
      "text/plain": [
       "array([2.50551178, 3.14979599])"
      ]
     },
     "execution_count": 6,
     "metadata": {},
     "output_type": "execute_result"
    }
   ],
   "source": [
    "pred = lr_model.predict([[3.2], [4.5]])\n",
    "pred"
   ]
  },
  {
   "cell_type": "markdown",
   "id": "ade10194",
   "metadata": {},
   "source": [
    "### 결과 plot"
   ]
  },
  {
   "cell_type": "code",
   "execution_count": 7,
   "id": "a1a1cde7",
   "metadata": {
    "ExecuteTime": {
     "end_time": "2021-07-19T08:35:43.731744Z",
     "start_time": "2021-07-19T08:35:43.528402Z"
    }
   },
   "outputs": [
    {
     "data": {
      "image/png": "[encoded data removed]",
      "text/plain": [
       "<Figure size 432x288 with 1 Axes>"
      ]
     },
     "metadata": {
      "needs_background": "light"
     },
     "output_type": "display_data"
    }
   ],
   "source": [
    "plt.scatter(x_data, y_data, color='y', label='데이터')\n",
    "plt.plot(x_data, w*x_data+b, color='b', label='모델')\n",
    "plt.scatter([3.2, 4.5], pred ,color='r', label='예측결과')\n",
    "plt.xlabel('전기생산량')\n",
    "plt.ylabel('전기사용량')\n",
    "plt.legend()\n",
    "plt.show()"
   ]
  },
  {
   "cell_type": "markdown",
   "id": "7501fb29",
   "metadata": {},
   "source": [
    "## 과제\n",
    "2. 선형회귀 통계공식을 파이썬코드로 직접 구현해서\n",
    "1 번데이터 w,b를 구하시요"
   ]
  },
  {
   "cell_type": "markdown",
   "id": "fa377872",
   "metadata": {},
   "source": [
    "### 데이터 처리"
   ]
  },
  {
   "cell_type": "code",
   "execution_count": 8,
   "id": "efd41ea2",
   "metadata": {
    "ExecuteTime": {
     "end_time": "2021-07-19T08:35:43.747774Z",
     "start_time": "2021-07-19T08:35:43.734550Z"
    }
   },
   "outputs": [],
   "source": [
    "x_data = electric.전기생산량.values\n",
    "y_data = electric.전기사용량.values"
   ]
  },
  {
   "cell_type": "markdown",
   "id": "28682656",
   "metadata": {},
   "source": [
    "### 연산"
   ]
  },
  {
   "cell_type": "code",
   "execution_count": 9,
   "id": "b1c77df5",
   "metadata": {
    "ExecuteTime": {
     "end_time": "2021-07-19T08:35:43.763759Z",
     "start_time": "2021-07-19T08:35:43.750325Z"
    }
   },
   "outputs": [
    {
     "name": "stdout",
     "output_type": "stream",
     "text": [
      "w:0.49560323601829026, b:0.9195814280689518\n"
     ]
    }
   ],
   "source": [
    "x_data = electric.전기생산량.values\n",
    "y_data = electric.전기사용량.values\n",
    "\n",
    "x_sq_sum = sum(x_data**2)\n",
    "x_sum = sum(x_data)\n",
    "y_sum = sum(y_data)\n",
    "xy_sum = sum(x_data*y_data)\n",
    "n = len(x_data)\n",
    "A = np.array([[x_sum, n], [x_sq_sum, x_sum]])\n",
    "b = [[y_sum], [xy_sum]]\n",
    "\n",
    "A_inv = np.linalg.inv(A)\n",
    "res = np.matmul(A_inv, b)\n",
    "print(f'w:{res[0,0]}, b:{res[1,0]}')"
   ]
  },
  {
   "cell_type": "markdown",
   "id": "c34592fc",
   "metadata": {},
   "source": [
    "## 과제\n",
    "(3x+2)^3 에 대한 미분에 대한 전개과정을\n",
    "적으시요. (코딩이 아닌 과정을 텍스트로 적으면 됨)\n"
   ]
  },
  {
   "cell_type": "markdown",
   "id": "80a9a69b",
   "metadata": {},
   "source": [
    "$\\text{Let}~ z(y):=y^3~\\text{and}~y(x):=3x+2.$\n",
    "$\\text{Then}~ \\frac{dz}{dx}=\\frac{dz}{dy} \\cdot \\frac{dy}{dx}=3y^2|_{y=3x+2}\\cdot 3 = 9(3x+2)^2$"
   ]
  }
 ],
 "metadata": {
  "hide_input": false,
  "kernelspec": {
   "display_name": "Python 3",
   "language": "python",
   "name": "python3"
  },
  "language_info": {
   "codemirror_mode": {
    "name": "ipython",
    "version": 3
   },
   "file_extension": ".py",
   "mimetype": "text/x-python",
   "name": "python",
   "nbconvert_exporter": "python",
   "pygments_lexer": "ipython3",
   "version": "3.8.8"
  },
  "toc": {
   "base_numbering": 1,
   "nav_menu": {},
   "number_sections": true,
   "sideBar": true,
   "skip_h1_title": false,
   "title_cell": "Table of Contents",
   "title_sidebar": "Contents",
   "toc_cell": false,
   "toc_position": {},
   "toc_section_display": true,
   "toc_window_display": false
  },
  "varInspector": {
   "cols": {
    "lenName": 16,
    "lenType": 16,
    "lenVar": 40
   },
   "kernels_config": {
    "python": {
     "delete_cmd_postfix": "",
     "delete_cmd_prefix": "del ",
     "library": "var_list.py",
     "varRefreshCmd": "print(var_dic_list())"
    },
    "r": {
     "delete_cmd_postfix": ") ",
     "delete_cmd_prefix": "rm(",
     "library": "var_list.r",
     "varRefreshCmd": "cat(var_dic_list()) "
    }
   },
   "types_to_exclude": [
    "module",
    "function",
    "builtin_function_or_method",
    "instance",
    "_Feature"
   ],
   "window_display": false
  }
 },
 "nbformat": 4,
 "nbformat_minor": 5
}
