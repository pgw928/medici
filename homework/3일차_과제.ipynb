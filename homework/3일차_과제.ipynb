{
 "cells": [
  {
   "cell_type": "code",
   "execution_count": 1,
   "id": "199a2ce6",
   "metadata": {
    "ExecuteTime": {
     "end_time": "2021-07-21T20:09:54.119602Z",
     "start_time": "2021-07-21T20:09:52.341831Z"
    }
   },
   "outputs": [],
   "source": [
    "import pandas as pd\n",
    "import numpy as np\n",
    "import seaborn as sns\n",
    "from sklearn.datasets import load_boston, load_iris\n",
    "\n",
    "from sklearn.linear_model import Ridge,Lasso,ElasticNet, LinearRegression, SGDRegressor\n",
    "from sklearn.preprocessing import StandardScaler, PolynomialFeatures, LabelEncoder, OneHotEncoder\n",
    "from sklearn.pipeline import make_pipeline, Pipeline\n",
    "\n",
    "from sklearn.model_selection import train_test_split, GridSearchCV\n",
    "from sklearn.compose import make_column_transformer\n",
    "from sklearn.compose import ColumnTransformer\n",
    "\n",
    "import matplotlib.pyplot as plt\n",
    "import matplotlib\n",
    "matplotlib.rcParams['font.family']='Malgun Gothic'\n",
    "matplotlib.rcParams['axes.unicode_minus'] = False\n",
    "\n",
    "import warnings\n",
    "warnings.simplefilter('ignore')"
   ]
  },
  {
   "cell_type": "markdown",
   "id": "07cd60ed",
   "metadata": {
    "ExecuteTime": {
     "end_time": "2021-07-21T08:06:38.083400Z",
     "start_time": "2021-07-21T08:06:38.066444Z"
    }
   },
   "source": [
    "문제\n",
    "* data4/프로야구.csv 를 이용하여 아래를 작성하시요.\n",
    "* target: 2018년 연봉 \n",
    "* 나머지:feature(선수명은 제거)"
   ]
  },
  {
   "cell_type": "markdown",
   "id": "44cd6627",
   "metadata": {},
   "source": [
    "### SGDRegress 모델의 r2 점수(train, test )를 출력하시요."
   ]
  },
  {
   "cell_type": "markdown",
   "id": "5a4c7e77",
   "metadata": {},
   "source": [
    "#### 데이터 로드"
   ]
  },
  {
   "cell_type": "code",
   "execution_count": 2,
   "id": "2e727dd8",
   "metadata": {
    "ExecuteTime": {
     "end_time": "2021-07-21T20:09:54.164701Z",
     "start_time": "2021-07-21T20:09:54.121598Z"
    }
   },
   "outputs": [
    {
     "data": {
      "text/html": [
       "<div>\n",
       "<style scoped>\n",
       "    .dataframe tbody tr th:only-of-type {\n",
       "        vertical-align: middle;\n",
       "    }\n",
       "\n",
       "    .dataframe tbody tr th {\n",
       "        vertical-align: top;\n",
       "    }\n",
       "\n",
       "    .dataframe thead th {\n",
       "        text-align: right;\n",
       "    }\n",
       "</style>\n",
       "<table border=\"1\" class=\"dataframe\">\n",
       "  <thead>\n",
       "    <tr style=\"text-align: right;\">\n",
       "      <th></th>\n",
       "      <th>팀명</th>\n",
       "      <th>승</th>\n",
       "      <th>패</th>\n",
       "      <th>세</th>\n",
       "      <th>홀드</th>\n",
       "      <th>블론</th>\n",
       "      <th>경기</th>\n",
       "      <th>선발</th>\n",
       "      <th>이닝</th>\n",
       "      <th>삼진/9</th>\n",
       "      <th>...</th>\n",
       "      <th>홈런/9</th>\n",
       "      <th>BABIP</th>\n",
       "      <th>LOB%</th>\n",
       "      <th>ERA</th>\n",
       "      <th>RA9-WAR</th>\n",
       "      <th>FIP</th>\n",
       "      <th>kFIP</th>\n",
       "      <th>WAR</th>\n",
       "      <th>연봉(2018)</th>\n",
       "      <th>연봉(2017)</th>\n",
       "    </tr>\n",
       "  </thead>\n",
       "  <tbody>\n",
       "    <tr>\n",
       "      <th>0</th>\n",
       "      <td>SK</td>\n",
       "      <td>16</td>\n",
       "      <td>7</td>\n",
       "      <td>0</td>\n",
       "      <td>0</td>\n",
       "      <td>0</td>\n",
       "      <td>30</td>\n",
       "      <td>30</td>\n",
       "      <td>190.0</td>\n",
       "      <td>8.95</td>\n",
       "      <td>...</td>\n",
       "      <td>0.76</td>\n",
       "      <td>0.342</td>\n",
       "      <td>73.7</td>\n",
       "      <td>3.60</td>\n",
       "      <td>6.91</td>\n",
       "      <td>3.69</td>\n",
       "      <td>3.44</td>\n",
       "      <td>6.62</td>\n",
       "      <td>140000</td>\n",
       "      <td>85000</td>\n",
       "    </tr>\n",
       "    <tr>\n",
       "      <th>1</th>\n",
       "      <td>LG</td>\n",
       "      <td>11</td>\n",
       "      <td>11</td>\n",
       "      <td>1</td>\n",
       "      <td>0</td>\n",
       "      <td>0</td>\n",
       "      <td>30</td>\n",
       "      <td>29</td>\n",
       "      <td>185.1</td>\n",
       "      <td>7.43</td>\n",
       "      <td>...</td>\n",
       "      <td>0.53</td>\n",
       "      <td>0.319</td>\n",
       "      <td>67.1</td>\n",
       "      <td>3.88</td>\n",
       "      <td>6.80</td>\n",
       "      <td>3.52</td>\n",
       "      <td>3.41</td>\n",
       "      <td>6.08</td>\n",
       "      <td>120000</td>\n",
       "      <td>50000</td>\n",
       "    </tr>\n",
       "    <tr>\n",
       "      <th>2</th>\n",
       "      <td>KIA</td>\n",
       "      <td>20</td>\n",
       "      <td>6</td>\n",
       "      <td>0</td>\n",
       "      <td>0</td>\n",
       "      <td>0</td>\n",
       "      <td>31</td>\n",
       "      <td>31</td>\n",
       "      <td>193.1</td>\n",
       "      <td>7.36</td>\n",
       "      <td>...</td>\n",
       "      <td>0.79</td>\n",
       "      <td>0.332</td>\n",
       "      <td>72.1</td>\n",
       "      <td>3.44</td>\n",
       "      <td>6.54</td>\n",
       "      <td>3.94</td>\n",
       "      <td>3.82</td>\n",
       "      <td>5.64</td>\n",
       "      <td>230000</td>\n",
       "      <td>150000</td>\n",
       "    </tr>\n",
       "    <tr>\n",
       "      <th>3</th>\n",
       "      <td>LG</td>\n",
       "      <td>10</td>\n",
       "      <td>7</td>\n",
       "      <td>0</td>\n",
       "      <td>0</td>\n",
       "      <td>0</td>\n",
       "      <td>28</td>\n",
       "      <td>28</td>\n",
       "      <td>175.2</td>\n",
       "      <td>8.04</td>\n",
       "      <td>...</td>\n",
       "      <td>1.02</td>\n",
       "      <td>0.298</td>\n",
       "      <td>75.0</td>\n",
       "      <td>3.43</td>\n",
       "      <td>6.11</td>\n",
       "      <td>4.20</td>\n",
       "      <td>4.03</td>\n",
       "      <td>4.63</td>\n",
       "      <td>100000</td>\n",
       "      <td>100000</td>\n",
       "    </tr>\n",
       "    <tr>\n",
       "      <th>4</th>\n",
       "      <td>롯데</td>\n",
       "      <td>13</td>\n",
       "      <td>7</td>\n",
       "      <td>0</td>\n",
       "      <td>0</td>\n",
       "      <td>0</td>\n",
       "      <td>30</td>\n",
       "      <td>30</td>\n",
       "      <td>187.1</td>\n",
       "      <td>7.49</td>\n",
       "      <td>...</td>\n",
       "      <td>0.91</td>\n",
       "      <td>0.323</td>\n",
       "      <td>74.1</td>\n",
       "      <td>3.80</td>\n",
       "      <td>6.13</td>\n",
       "      <td>4.36</td>\n",
       "      <td>4.31</td>\n",
       "      <td>4.38</td>\n",
       "      <td>111000</td>\n",
       "      <td>85000</td>\n",
       "    </tr>\n",
       "    <tr>\n",
       "      <th>...</th>\n",
       "      <td>...</td>\n",
       "      <td>...</td>\n",
       "      <td>...</td>\n",
       "      <td>...</td>\n",
       "      <td>...</td>\n",
       "      <td>...</td>\n",
       "      <td>...</td>\n",
       "      <td>...</td>\n",
       "      <td>...</td>\n",
       "      <td>...</td>\n",
       "      <td>...</td>\n",
       "      <td>...</td>\n",
       "      <td>...</td>\n",
       "      <td>...</td>\n",
       "      <td>...</td>\n",
       "      <td>...</td>\n",
       "      <td>...</td>\n",
       "      <td>...</td>\n",
       "      <td>...</td>\n",
       "      <td>...</td>\n",
       "      <td>...</td>\n",
       "    </tr>\n",
       "    <tr>\n",
       "      <th>147</th>\n",
       "      <td>한화</td>\n",
       "      <td>2</td>\n",
       "      <td>5</td>\n",
       "      <td>0</td>\n",
       "      <td>0</td>\n",
       "      <td>2</td>\n",
       "      <td>33</td>\n",
       "      <td>5</td>\n",
       "      <td>62.2</td>\n",
       "      <td>4.31</td>\n",
       "      <td>...</td>\n",
       "      <td>1.58</td>\n",
       "      <td>0.355</td>\n",
       "      <td>56.9</td>\n",
       "      <td>7.76</td>\n",
       "      <td>-1.21</td>\n",
       "      <td>6.21</td>\n",
       "      <td>6.48</td>\n",
       "      <td>-0.47</td>\n",
       "      <td>7100</td>\n",
       "      <td>8100</td>\n",
       "    </tr>\n",
       "    <tr>\n",
       "      <th>148</th>\n",
       "      <td>KIA</td>\n",
       "      <td>3</td>\n",
       "      <td>2</td>\n",
       "      <td>0</td>\n",
       "      <td>0</td>\n",
       "      <td>0</td>\n",
       "      <td>25</td>\n",
       "      <td>11</td>\n",
       "      <td>59.1</td>\n",
       "      <td>4.85</td>\n",
       "      <td>...</td>\n",
       "      <td>1.06</td>\n",
       "      <td>0.263</td>\n",
       "      <td>65.4</td>\n",
       "      <td>5.92</td>\n",
       "      <td>0.39</td>\n",
       "      <td>6.41</td>\n",
       "      <td>6.77</td>\n",
       "      <td>-0.49</td>\n",
       "      <td>7500</td>\n",
       "      <td>3100</td>\n",
       "    </tr>\n",
       "    <tr>\n",
       "      <th>149</th>\n",
       "      <td>롯데</td>\n",
       "      <td>0</td>\n",
       "      <td>2</td>\n",
       "      <td>0</td>\n",
       "      <td>0</td>\n",
       "      <td>0</td>\n",
       "      <td>9</td>\n",
       "      <td>2</td>\n",
       "      <td>14.2</td>\n",
       "      <td>4.91</td>\n",
       "      <td>...</td>\n",
       "      <td>2.45</td>\n",
       "      <td>0.382</td>\n",
       "      <td>52.8</td>\n",
       "      <td>11.66</td>\n",
       "      <td>-0.83</td>\n",
       "      <td>8.03</td>\n",
       "      <td>8.29</td>\n",
       "      <td>-0.61</td>\n",
       "      <td>10000</td>\n",
       "      <td>16000</td>\n",
       "    </tr>\n",
       "    <tr>\n",
       "      <th>150</th>\n",
       "      <td>삼성</td>\n",
       "      <td>0</td>\n",
       "      <td>3</td>\n",
       "      <td>0</td>\n",
       "      <td>1</td>\n",
       "      <td>0</td>\n",
       "      <td>41</td>\n",
       "      <td>0</td>\n",
       "      <td>43.2</td>\n",
       "      <td>7.63</td>\n",
       "      <td>...</td>\n",
       "      <td>1.44</td>\n",
       "      <td>0.341</td>\n",
       "      <td>73.9</td>\n",
       "      <td>5.77</td>\n",
       "      <td>-0.40</td>\n",
       "      <td>6.87</td>\n",
       "      <td>6.95</td>\n",
       "      <td>-0.70</td>\n",
       "      <td>4000</td>\n",
       "      <td>2900</td>\n",
       "    </tr>\n",
       "    <tr>\n",
       "      <th>151</th>\n",
       "      <td>KT</td>\n",
       "      <td>4</td>\n",
       "      <td>4</td>\n",
       "      <td>0</td>\n",
       "      <td>0</td>\n",
       "      <td>0</td>\n",
       "      <td>24</td>\n",
       "      <td>14</td>\n",
       "      <td>81.0</td>\n",
       "      <td>5.78</td>\n",
       "      <td>...</td>\n",
       "      <td>2.00</td>\n",
       "      <td>0.312</td>\n",
       "      <td>65.3</td>\n",
       "      <td>7.67</td>\n",
       "      <td>-0.68</td>\n",
       "      <td>7.60</td>\n",
       "      <td>7.81</td>\n",
       "      <td>-1.01</td>\n",
       "      <td>4000</td>\n",
       "      <td>3000</td>\n",
       "    </tr>\n",
       "  </tbody>\n",
       "</table>\n",
       "<p>152 rows × 21 columns</p>\n",
       "</div>"
      ],
      "text/plain": [
       "      팀명   승   패  세  홀드  블론  경기  선발     이닝  삼진/9  ...  홈런/9  BABIP  LOB%  \\\n",
       "0     SK  16   7  0   0   0  30  30  190.0  8.95  ...  0.76  0.342  73.7   \n",
       "1     LG  11  11  1   0   0  30  29  185.1  7.43  ...  0.53  0.319  67.1   \n",
       "2    KIA  20   6  0   0   0  31  31  193.1  7.36  ...  0.79  0.332  72.1   \n",
       "3     LG  10   7  0   0   0  28  28  175.2  8.04  ...  1.02  0.298  75.0   \n",
       "4     롯데  13   7  0   0   0  30  30  187.1  7.49  ...  0.91  0.323  74.1   \n",
       "..   ...  ..  .. ..  ..  ..  ..  ..    ...   ...  ...   ...    ...   ...   \n",
       "147   한화   2   5  0   0   2  33   5   62.2  4.31  ...  1.58  0.355  56.9   \n",
       "148  KIA   3   2  0   0   0  25  11   59.1  4.85  ...  1.06  0.263  65.4   \n",
       "149   롯데   0   2  0   0   0   9   2   14.2  4.91  ...  2.45  0.382  52.8   \n",
       "150   삼성   0   3  0   1   0  41   0   43.2  7.63  ...  1.44  0.341  73.9   \n",
       "151   KT   4   4  0   0   0  24  14   81.0  5.78  ...  2.00  0.312  65.3   \n",
       "\n",
       "       ERA  RA9-WAR   FIP  kFIP   WAR  연봉(2018)  연봉(2017)  \n",
       "0     3.60     6.91  3.69  3.44  6.62    140000     85000  \n",
       "1     3.88     6.80  3.52  3.41  6.08    120000     50000  \n",
       "2     3.44     6.54  3.94  3.82  5.64    230000    150000  \n",
       "3     3.43     6.11  4.20  4.03  4.63    100000    100000  \n",
       "4     3.80     6.13  4.36  4.31  4.38    111000     85000  \n",
       "..     ...      ...   ...   ...   ...       ...       ...  \n",
       "147   7.76    -1.21  6.21  6.48 -0.47      7100      8100  \n",
       "148   5.92     0.39  6.41  6.77 -0.49      7500      3100  \n",
       "149  11.66    -0.83  8.03  8.29 -0.61     10000     16000  \n",
       "150   5.77    -0.40  6.87  6.95 -0.70      4000      2900  \n",
       "151   7.67    -0.68  7.60  7.81 -1.01      4000      3000  \n",
       "\n",
       "[152 rows x 21 columns]"
      ]
     },
     "execution_count": 2,
     "metadata": {},
     "output_type": "execute_result"
    }
   ],
   "source": [
    "df = pd.read_csv('./data4/프로야구.csv')\n",
    "df.drop('선수명', axis=1, inplace=True)\n",
    "df"
   ]
  },
  {
   "cell_type": "code",
   "execution_count": 3,
   "id": "4414a079",
   "metadata": {
    "ExecuteTime": {
     "end_time": "2021-07-21T20:09:54.179653Z",
     "start_time": "2021-07-21T20:09:54.167686Z"
    }
   },
   "outputs": [
    {
     "data": {
      "text/plain": [
       "Index(['팀명', '승', '패', '세', '홀드', '블론', '경기', '선발', '이닝', '삼진/9', '볼넷/9',\n",
       "       '홈런/9', 'BABIP', 'LOB%', 'ERA', 'RA9-WAR', 'FIP', 'kFIP', 'WAR',\n",
       "       '연봉(2018)', '연봉(2017)'],\n",
       "      dtype='object')"
      ]
     },
     "execution_count": 3,
     "metadata": {},
     "output_type": "execute_result"
    }
   ],
   "source": [
    "df.columns"
   ]
  },
  {
   "cell_type": "markdown",
   "id": "d8f8edfd",
   "metadata": {
    "ExecuteTime": {
     "end_time": "2021-07-21T08:19:28.745214Z",
     "start_time": "2021-07-21T08:19:28.737206Z"
    }
   },
   "source": [
    "#### ColumnTransformer(One-hot Encoder)"
   ]
  },
  {
   "cell_type": "code",
   "execution_count": 4,
   "id": "4c160d46",
   "metadata": {
    "ExecuteTime": {
     "end_time": "2021-07-21T20:09:54.194650Z",
     "start_time": "2021-07-21T20:09:54.180652Z"
    }
   },
   "outputs": [],
   "source": [
    "ct = ColumnTransformer([('ohe',OneHotEncoder(sparse=False) ,['팀명']),\n",
    "                        ('scaler', StandardScaler(), ['승', '패', '세', '홀드', '블론', '경기', '선발', '이닝', '삼진/9', '볼넷/9',\n",
    "                                                       '홈런/9', 'BABIP', 'LOB%', 'ERA', 'RA9-WAR', 'FIP', 'kFIP', 'WAR','연봉(2017)'])])"
   ]
  },
  {
   "cell_type": "markdown",
   "id": "b46548f1",
   "metadata": {},
   "source": [
    "####  데이터 분할"
   ]
  },
  {
   "cell_type": "code",
   "execution_count": 5,
   "id": "709ac503",
   "metadata": {
    "ExecuteTime": {
     "end_time": "2021-07-21T20:09:54.209786Z",
     "start_time": "2021-07-21T20:09:54.195611Z"
    }
   },
   "outputs": [],
   "source": [
    "x_data, y_data = df.drop('연봉(2018)', axis=1), df[['연봉(2018)']] "
   ]
  },
  {
   "cell_type": "code",
   "execution_count": 6,
   "id": "eaf84379",
   "metadata": {
    "ExecuteTime": {
     "end_time": "2021-07-21T20:09:54.224674Z",
     "start_time": "2021-07-21T20:09:54.210660Z"
    }
   },
   "outputs": [],
   "source": [
    "x_train, x_test, y_train, y_test = train_test_split(x_data, y_data, random_state=1, test_size=0.2)"
   ]
  },
  {
   "cell_type": "markdown",
   "id": "7bec1ae5",
   "metadata": {},
   "source": [
    "####  모델 생성 및 학습"
   ]
  },
  {
   "cell_type": "code",
   "execution_count": 8,
   "id": "715dbbc8",
   "metadata": {
    "ExecuteTime": {
     "end_time": "2021-07-21T20:09:54.269297Z",
     "start_time": "2021-07-21T20:09:54.242359Z"
    }
   },
   "outputs": [
    {
     "data": {
      "text/plain": [
       "Pipeline(steps=[('columntransformer',\n",
       "                 ColumnTransformer(transformers=[('ohe',\n",
       "                                                  OneHotEncoder(sparse=False),\n",
       "                                                  ['팀명']),\n",
       "                                                 ('scaler', StandardScaler(),\n",
       "                                                  ['승', '패', '세', '홀드', '블론',\n",
       "                                                   '경기', '선발', '이닝', '삼진/9',\n",
       "                                                   '볼넷/9', '홈런/9', 'BABIP',\n",
       "                                                   'LOB%', 'ERA', 'RA9-WAR',\n",
       "                                                   'FIP', 'kFIP', 'WAR',\n",
       "                                                   '연봉(2017)'])])),\n",
       "                ('sgdregressor', SGDRegressor())])"
      ]
     },
     "execution_count": 8,
     "metadata": {},
     "output_type": "execute_result"
    }
   ],
   "source": [
    "model = make_pipeline(ct, SGDRegressor())\n",
    "model.fit(x_train, y_train)"
   ]
  },
  {
   "cell_type": "markdown",
   "id": "4a53ab0d",
   "metadata": {},
   "source": [
    "#### 결과"
   ]
  },
  {
   "cell_type": "code",
   "execution_count": 9,
   "id": "6497f57d",
   "metadata": {
    "ExecuteTime": {
     "end_time": "2021-07-21T20:09:54.299985Z",
     "start_time": "2021-07-21T20:09:54.269995Z"
    }
   },
   "outputs": [
    {
     "name": "stdout",
     "output_type": "stream",
     "text": [
      "train score: 0.9326085631478772\n",
      "test score: 0.7732413895361583\n"
     ]
    }
   ],
   "source": [
    "print('train score:', model.score(x_train, y_train))\n",
    "print('test score:', model.score(x_test, y_test))"
   ]
  },
  {
   "cell_type": "markdown",
   "id": "127bcb5b",
   "metadata": {},
   "source": [
    "### heatmap을그리고 다중공선성 컬럼을 확인하고 다중공선성이 높은 컬럼을 제거후 SGDRegress  모델의 r2 점수(train, test )를 출력하시요."
   ]
  },
  {
   "cell_type": "markdown",
   "id": "802d1840",
   "metadata": {},
   "source": [
    "#### 상관분석"
   ]
  },
  {
   "cell_type": "code",
   "execution_count": 10,
   "id": "99b81667",
   "metadata": {
    "ExecuteTime": {
     "end_time": "2021-07-21T20:09:56.312642Z",
     "start_time": "2021-07-21T20:09:54.300982Z"
    }
   },
   "outputs": [
    {
     "data": {
      "image/png": "[encoded data removed]",
      "text/plain": [
       "<Figure size 1080x1080 with 2 Axes>"
      ]
     },
     "metadata": {},
     "output_type": "display_data"
    }
   ],
   "source": [
    "import seaborn as sns\n",
    "sns.set(font=\"Malgun Gothic\", \n",
    "        rc={\"axes.unicode_minus\":False}, style='white')\n",
    "\n",
    "corr = df.corr()\n",
    "\n",
    "plt.figure(figsize=(15,15))\n",
    "mask = np.triu(np.ones_like(corr, dtype=bool)) \n",
    "sns.heatmap(corr, mask=mask, cmap='bwr',vmin=-1, vmax=1,\n",
    "            square=True, linewidths=2.5, annot=True, fmt='.2f')\n",
    "plt.title('Correlation Matrix', fontsize=18)\n",
    "plt.show()"
   ]
  },
  {
   "cell_type": "markdown",
   "id": "a6d35d90",
   "metadata": {
    "ExecuteTime": {
     "end_time": "2021-07-21T08:28:38.134513Z",
     "start_time": "2021-07-21T08:28:38.125516Z"
    }
   },
   "source": [
    "#### 다중공선성"
   ]
  },
  {
   "cell_type": "markdown",
   "id": "0e4284b1",
   "metadata": {
    "ExecuteTime": {
     "end_time": "2021-07-21T20:13:01.617479Z",
     "start_time": "2021-07-21T20:13:01.608473Z"
    }
   },
   "source": [
    "##### one-hot encoding"
   ]
  },
  {
   "cell_type": "code",
   "execution_count": 30,
   "id": "900d3d80",
   "metadata": {
    "ExecuteTime": {
     "end_time": "2021-07-21T20:12:41.763876Z",
     "start_time": "2021-07-21T20:12:41.729907Z"
    },
    "scrolled": true
   },
   "outputs": [
    {
     "data": {
      "text/html": [
       "<div>\n",
       "<style scoped>\n",
       "    .dataframe tbody tr th:only-of-type {\n",
       "        vertical-align: middle;\n",
       "    }\n",
       "\n",
       "    .dataframe tbody tr th {\n",
       "        vertical-align: top;\n",
       "    }\n",
       "\n",
       "    .dataframe thead th {\n",
       "        text-align: right;\n",
       "    }\n",
       "</style>\n",
       "<table border=\"1\" class=\"dataframe\">\n",
       "  <thead>\n",
       "    <tr style=\"text-align: right;\">\n",
       "      <th></th>\n",
       "      <th>승</th>\n",
       "      <th>패</th>\n",
       "      <th>세</th>\n",
       "      <th>홀드</th>\n",
       "      <th>블론</th>\n",
       "      <th>경기</th>\n",
       "      <th>선발</th>\n",
       "      <th>이닝</th>\n",
       "      <th>삼진/9</th>\n",
       "      <th>볼넷/9</th>\n",
       "      <th>...</th>\n",
       "      <th>연봉(2017)</th>\n",
       "      <th>팀명_KIA</th>\n",
       "      <th>팀명_KT</th>\n",
       "      <th>팀명_LG</th>\n",
       "      <th>팀명_NC</th>\n",
       "      <th>팀명_SK</th>\n",
       "      <th>팀명_두산</th>\n",
       "      <th>팀명_롯데</th>\n",
       "      <th>팀명_삼성</th>\n",
       "      <th>팀명_한화</th>\n",
       "    </tr>\n",
       "  </thead>\n",
       "  <tbody>\n",
       "    <tr>\n",
       "      <th>0</th>\n",
       "      <td>16</td>\n",
       "      <td>7</td>\n",
       "      <td>0</td>\n",
       "      <td>0</td>\n",
       "      <td>0</td>\n",
       "      <td>30</td>\n",
       "      <td>30</td>\n",
       "      <td>190.0</td>\n",
       "      <td>8.95</td>\n",
       "      <td>2.13</td>\n",
       "      <td>...</td>\n",
       "      <td>85000</td>\n",
       "      <td>0</td>\n",
       "      <td>0</td>\n",
       "      <td>0</td>\n",
       "      <td>0</td>\n",
       "      <td>1</td>\n",
       "      <td>0</td>\n",
       "      <td>0</td>\n",
       "      <td>0</td>\n",
       "      <td>0</td>\n",
       "    </tr>\n",
       "    <tr>\n",
       "      <th>1</th>\n",
       "      <td>11</td>\n",
       "      <td>11</td>\n",
       "      <td>1</td>\n",
       "      <td>0</td>\n",
       "      <td>0</td>\n",
       "      <td>30</td>\n",
       "      <td>29</td>\n",
       "      <td>185.1</td>\n",
       "      <td>7.43</td>\n",
       "      <td>1.85</td>\n",
       "      <td>...</td>\n",
       "      <td>50000</td>\n",
       "      <td>0</td>\n",
       "      <td>0</td>\n",
       "      <td>1</td>\n",
       "      <td>0</td>\n",
       "      <td>0</td>\n",
       "      <td>0</td>\n",
       "      <td>0</td>\n",
       "      <td>0</td>\n",
       "      <td>0</td>\n",
       "    </tr>\n",
       "    <tr>\n",
       "      <th>2</th>\n",
       "      <td>20</td>\n",
       "      <td>6</td>\n",
       "      <td>0</td>\n",
       "      <td>0</td>\n",
       "      <td>0</td>\n",
       "      <td>31</td>\n",
       "      <td>31</td>\n",
       "      <td>193.1</td>\n",
       "      <td>7.36</td>\n",
       "      <td>2.09</td>\n",
       "      <td>...</td>\n",
       "      <td>150000</td>\n",
       "      <td>1</td>\n",
       "      <td>0</td>\n",
       "      <td>0</td>\n",
       "      <td>0</td>\n",
       "      <td>0</td>\n",
       "      <td>0</td>\n",
       "      <td>0</td>\n",
       "      <td>0</td>\n",
       "      <td>0</td>\n",
       "    </tr>\n",
       "    <tr>\n",
       "      <th>3</th>\n",
       "      <td>10</td>\n",
       "      <td>7</td>\n",
       "      <td>0</td>\n",
       "      <td>0</td>\n",
       "      <td>0</td>\n",
       "      <td>28</td>\n",
       "      <td>28</td>\n",
       "      <td>175.2</td>\n",
       "      <td>8.04</td>\n",
       "      <td>1.95</td>\n",
       "      <td>...</td>\n",
       "      <td>100000</td>\n",
       "      <td>0</td>\n",
       "      <td>0</td>\n",
       "      <td>1</td>\n",
       "      <td>0</td>\n",
       "      <td>0</td>\n",
       "      <td>0</td>\n",
       "      <td>0</td>\n",
       "      <td>0</td>\n",
       "      <td>0</td>\n",
       "    </tr>\n",
       "    <tr>\n",
       "      <th>4</th>\n",
       "      <td>13</td>\n",
       "      <td>7</td>\n",
       "      <td>0</td>\n",
       "      <td>0</td>\n",
       "      <td>0</td>\n",
       "      <td>30</td>\n",
       "      <td>30</td>\n",
       "      <td>187.1</td>\n",
       "      <td>7.49</td>\n",
       "      <td>2.11</td>\n",
       "      <td>...</td>\n",
       "      <td>85000</td>\n",
       "      <td>0</td>\n",
       "      <td>0</td>\n",
       "      <td>0</td>\n",
       "      <td>0</td>\n",
       "      <td>0</td>\n",
       "      <td>0</td>\n",
       "      <td>1</td>\n",
       "      <td>0</td>\n",
       "      <td>0</td>\n",
       "    </tr>\n",
       "    <tr>\n",
       "      <th>...</th>\n",
       "      <td>...</td>\n",
       "      <td>...</td>\n",
       "      <td>...</td>\n",
       "      <td>...</td>\n",
       "      <td>...</td>\n",
       "      <td>...</td>\n",
       "      <td>...</td>\n",
       "      <td>...</td>\n",
       "      <td>...</td>\n",
       "      <td>...</td>\n",
       "      <td>...</td>\n",
       "      <td>...</td>\n",
       "      <td>...</td>\n",
       "      <td>...</td>\n",
       "      <td>...</td>\n",
       "      <td>...</td>\n",
       "      <td>...</td>\n",
       "      <td>...</td>\n",
       "      <td>...</td>\n",
       "      <td>...</td>\n",
       "      <td>...</td>\n",
       "    </tr>\n",
       "    <tr>\n",
       "      <th>147</th>\n",
       "      <td>2</td>\n",
       "      <td>5</td>\n",
       "      <td>0</td>\n",
       "      <td>0</td>\n",
       "      <td>2</td>\n",
       "      <td>33</td>\n",
       "      <td>5</td>\n",
       "      <td>62.2</td>\n",
       "      <td>4.31</td>\n",
       "      <td>3.30</td>\n",
       "      <td>...</td>\n",
       "      <td>8100</td>\n",
       "      <td>0</td>\n",
       "      <td>0</td>\n",
       "      <td>0</td>\n",
       "      <td>0</td>\n",
       "      <td>0</td>\n",
       "      <td>0</td>\n",
       "      <td>0</td>\n",
       "      <td>0</td>\n",
       "      <td>1</td>\n",
       "    </tr>\n",
       "    <tr>\n",
       "      <th>148</th>\n",
       "      <td>3</td>\n",
       "      <td>2</td>\n",
       "      <td>0</td>\n",
       "      <td>0</td>\n",
       "      <td>0</td>\n",
       "      <td>25</td>\n",
       "      <td>11</td>\n",
       "      <td>59.1</td>\n",
       "      <td>4.85</td>\n",
       "      <td>5.61</td>\n",
       "      <td>...</td>\n",
       "      <td>3100</td>\n",
       "      <td>1</td>\n",
       "      <td>0</td>\n",
       "      <td>0</td>\n",
       "      <td>0</td>\n",
       "      <td>0</td>\n",
       "      <td>0</td>\n",
       "      <td>0</td>\n",
       "      <td>0</td>\n",
       "      <td>0</td>\n",
       "    </tr>\n",
       "    <tr>\n",
       "      <th>149</th>\n",
       "      <td>0</td>\n",
       "      <td>2</td>\n",
       "      <td>0</td>\n",
       "      <td>0</td>\n",
       "      <td>0</td>\n",
       "      <td>9</td>\n",
       "      <td>2</td>\n",
       "      <td>14.2</td>\n",
       "      <td>4.91</td>\n",
       "      <td>4.91</td>\n",
       "      <td>...</td>\n",
       "      <td>16000</td>\n",
       "      <td>0</td>\n",
       "      <td>0</td>\n",
       "      <td>0</td>\n",
       "      <td>0</td>\n",
       "      <td>0</td>\n",
       "      <td>0</td>\n",
       "      <td>1</td>\n",
       "      <td>0</td>\n",
       "      <td>0</td>\n",
       "    </tr>\n",
       "    <tr>\n",
       "      <th>150</th>\n",
       "      <td>0</td>\n",
       "      <td>3</td>\n",
       "      <td>0</td>\n",
       "      <td>1</td>\n",
       "      <td>0</td>\n",
       "      <td>41</td>\n",
       "      <td>0</td>\n",
       "      <td>43.2</td>\n",
       "      <td>7.63</td>\n",
       "      <td>7.01</td>\n",
       "      <td>...</td>\n",
       "      <td>2900</td>\n",
       "      <td>0</td>\n",
       "      <td>0</td>\n",
       "      <td>0</td>\n",
       "      <td>0</td>\n",
       "      <td>0</td>\n",
       "      <td>0</td>\n",
       "      <td>0</td>\n",
       "      <td>1</td>\n",
       "      <td>0</td>\n",
       "    </tr>\n",
       "    <tr>\n",
       "      <th>151</th>\n",
       "      <td>4</td>\n",
       "      <td>4</td>\n",
       "      <td>0</td>\n",
       "      <td>0</td>\n",
       "      <td>0</td>\n",
       "      <td>24</td>\n",
       "      <td>14</td>\n",
       "      <td>81.0</td>\n",
       "      <td>5.78</td>\n",
       "      <td>5.89</td>\n",
       "      <td>...</td>\n",
       "      <td>3000</td>\n",
       "      <td>0</td>\n",
       "      <td>1</td>\n",
       "      <td>0</td>\n",
       "      <td>0</td>\n",
       "      <td>0</td>\n",
       "      <td>0</td>\n",
       "      <td>0</td>\n",
       "      <td>0</td>\n",
       "      <td>0</td>\n",
       "    </tr>\n",
       "  </tbody>\n",
       "</table>\n",
       "<p>152 rows × 29 columns</p>\n",
       "</div>"
      ],
      "text/plain": [
       "      승   패  세  홀드  블론  경기  선발     이닝  삼진/9  볼넷/9  ...  연봉(2017)  팀명_KIA  \\\n",
       "0    16   7  0   0   0  30  30  190.0  8.95  2.13  ...     85000       0   \n",
       "1    11  11  1   0   0  30  29  185.1  7.43  1.85  ...     50000       0   \n",
       "2    20   6  0   0   0  31  31  193.1  7.36  2.09  ...    150000       1   \n",
       "3    10   7  0   0   0  28  28  175.2  8.04  1.95  ...    100000       0   \n",
       "4    13   7  0   0   0  30  30  187.1  7.49  2.11  ...     85000       0   \n",
       "..   ..  .. ..  ..  ..  ..  ..    ...   ...   ...  ...       ...     ...   \n",
       "147   2   5  0   0   2  33   5   62.2  4.31  3.30  ...      8100       0   \n",
       "148   3   2  0   0   0  25  11   59.1  4.85  5.61  ...      3100       1   \n",
       "149   0   2  0   0   0   9   2   14.2  4.91  4.91  ...     16000       0   \n",
       "150   0   3  0   1   0  41   0   43.2  7.63  7.01  ...      2900       0   \n",
       "151   4   4  0   0   0  24  14   81.0  5.78  5.89  ...      3000       0   \n",
       "\n",
       "     팀명_KT  팀명_LG  팀명_NC  팀명_SK  팀명_두산  팀명_롯데  팀명_삼성  팀명_한화  \n",
       "0        0      0      0      1      0      0      0      0  \n",
       "1        0      1      0      0      0      0      0      0  \n",
       "2        0      0      0      0      0      0      0      0  \n",
       "3        0      1      0      0      0      0      0      0  \n",
       "4        0      0      0      0      0      1      0      0  \n",
       "..     ...    ...    ...    ...    ...    ...    ...    ...  \n",
       "147      0      0      0      0      0      0      0      1  \n",
       "148      0      0      0      0      0      0      0      0  \n",
       "149      0      0      0      0      0      1      0      0  \n",
       "150      0      0      0      0      0      0      1      0  \n",
       "151      1      0      0      0      0      0      0      0  \n",
       "\n",
       "[152 rows x 29 columns]"
      ]
     },
     "execution_count": 30,
     "metadata": {},
     "output_type": "execute_result"
    }
   ],
   "source": [
    "df_tmp =pd.get_dummies(df)\n",
    "df_tmp"
   ]
  },
  {
   "cell_type": "markdown",
   "id": "7b66f324",
   "metadata": {},
   "source": [
    "##### 결과"
   ]
  },
  {
   "cell_type": "code",
   "execution_count": 32,
   "id": "48695175",
   "metadata": {
    "ExecuteTime": {
     "end_time": "2021-07-21T20:13:32.448733Z",
     "start_time": "2021-07-21T20:13:32.386390Z"
    }
   },
   "outputs": [
    {
     "data": {
      "text/html": [
       "<div>\n",
       "<style scoped>\n",
       "    .dataframe tbody tr th:only-of-type {\n",
       "        vertical-align: middle;\n",
       "    }\n",
       "\n",
       "    .dataframe tbody tr th {\n",
       "        vertical-align: top;\n",
       "    }\n",
       "\n",
       "    .dataframe thead th {\n",
       "        text-align: right;\n",
       "    }\n",
       "</style>\n",
       "<table border=\"1\" class=\"dataframe\">\n",
       "  <thead>\n",
       "    <tr style=\"text-align: right;\">\n",
       "      <th></th>\n",
       "      <th>VIF Factor</th>\n",
       "      <th>features</th>\n",
       "    </tr>\n",
       "  </thead>\n",
       "  <tbody>\n",
       "    <tr>\n",
       "      <th>0</th>\n",
       "      <td>8.238193</td>\n",
       "      <td>승</td>\n",
       "    </tr>\n",
       "    <tr>\n",
       "      <th>1</th>\n",
       "      <td>5.891983</td>\n",
       "      <td>패</td>\n",
       "    </tr>\n",
       "    <tr>\n",
       "      <th>2</th>\n",
       "      <td>3.121211</td>\n",
       "      <td>세</td>\n",
       "    </tr>\n",
       "    <tr>\n",
       "      <th>3</th>\n",
       "      <td>3.765259</td>\n",
       "      <td>홀드</td>\n",
       "    </tr>\n",
       "    <tr>\n",
       "      <th>4</th>\n",
       "      <td>2.981666</td>\n",
       "      <td>블론</td>\n",
       "    </tr>\n",
       "    <tr>\n",
       "      <th>5</th>\n",
       "      <td>14.770519</td>\n",
       "      <td>경기</td>\n",
       "    </tr>\n",
       "    <tr>\n",
       "      <th>6</th>\n",
       "      <td>40.335092</td>\n",
       "      <td>선발</td>\n",
       "    </tr>\n",
       "    <tr>\n",
       "      <th>7</th>\n",
       "      <td>64.086142</td>\n",
       "      <td>이닝</td>\n",
       "    </tr>\n",
       "    <tr>\n",
       "      <th>8</th>\n",
       "      <td>89.556958</td>\n",
       "      <td>삼진/9</td>\n",
       "    </tr>\n",
       "    <tr>\n",
       "      <th>9</th>\n",
       "      <td>57.878215</td>\n",
       "      <td>볼넷/9</td>\n",
       "    </tr>\n",
       "    <tr>\n",
       "      <th>10</th>\n",
       "      <td>425.630643</td>\n",
       "      <td>홈런/9</td>\n",
       "    </tr>\n",
       "    <tr>\n",
       "      <th>11</th>\n",
       "      <td>3.227691</td>\n",
       "      <td>BABIP</td>\n",
       "    </tr>\n",
       "    <tr>\n",
       "      <th>12</th>\n",
       "      <td>4.301123</td>\n",
       "      <td>LOB%</td>\n",
       "    </tr>\n",
       "    <tr>\n",
       "      <th>13</th>\n",
       "      <td>10.634962</td>\n",
       "      <td>ERA</td>\n",
       "    </tr>\n",
       "    <tr>\n",
       "      <th>14</th>\n",
       "      <td>13.581126</td>\n",
       "      <td>RA9-WAR</td>\n",
       "    </tr>\n",
       "    <tr>\n",
       "      <th>15</th>\n",
       "      <td>14239.200183</td>\n",
       "      <td>FIP</td>\n",
       "    </tr>\n",
       "    <tr>\n",
       "      <th>16</th>\n",
       "      <td>10265.074507</td>\n",
       "      <td>kFIP</td>\n",
       "    </tr>\n",
       "    <tr>\n",
       "      <th>17</th>\n",
       "      <td>12.159542</td>\n",
       "      <td>WAR</td>\n",
       "    </tr>\n",
       "    <tr>\n",
       "      <th>18</th>\n",
       "      <td>13.692198</td>\n",
       "      <td>연봉(2018)</td>\n",
       "    </tr>\n",
       "    <tr>\n",
       "      <th>19</th>\n",
       "      <td>9.397596</td>\n",
       "      <td>연봉(2017)</td>\n",
       "    </tr>\n",
       "    <tr>\n",
       "      <th>20</th>\n",
       "      <td>67.343192</td>\n",
       "      <td>팀명_KIA</td>\n",
       "    </tr>\n",
       "    <tr>\n",
       "      <th>21</th>\n",
       "      <td>86.561770</td>\n",
       "      <td>팀명_KT</td>\n",
       "    </tr>\n",
       "    <tr>\n",
       "      <th>22</th>\n",
       "      <td>79.418584</td>\n",
       "      <td>팀명_LG</td>\n",
       "    </tr>\n",
       "    <tr>\n",
       "      <th>23</th>\n",
       "      <td>61.013802</td>\n",
       "      <td>팀명_NC</td>\n",
       "    </tr>\n",
       "    <tr>\n",
       "      <th>24</th>\n",
       "      <td>77.470868</td>\n",
       "      <td>팀명_SK</td>\n",
       "    </tr>\n",
       "    <tr>\n",
       "      <th>25</th>\n",
       "      <td>70.295752</td>\n",
       "      <td>팀명_두산</td>\n",
       "    </tr>\n",
       "    <tr>\n",
       "      <th>26</th>\n",
       "      <td>63.453040</td>\n",
       "      <td>팀명_롯데</td>\n",
       "    </tr>\n",
       "    <tr>\n",
       "      <th>27</th>\n",
       "      <td>94.575239</td>\n",
       "      <td>팀명_삼성</td>\n",
       "    </tr>\n",
       "    <tr>\n",
       "      <th>28</th>\n",
       "      <td>93.754600</td>\n",
       "      <td>팀명_한화</td>\n",
       "    </tr>\n",
       "  </tbody>\n",
       "</table>\n",
       "</div>"
      ],
      "text/plain": [
       "      VIF Factor  features\n",
       "0       8.238193         승\n",
       "1       5.891983         패\n",
       "2       3.121211         세\n",
       "3       3.765259        홀드\n",
       "4       2.981666        블론\n",
       "5      14.770519        경기\n",
       "6      40.335092        선발\n",
       "7      64.086142        이닝\n",
       "8      89.556958      삼진/9\n",
       "9      57.878215      볼넷/9\n",
       "10    425.630643      홈런/9\n",
       "11      3.227691     BABIP\n",
       "12      4.301123      LOB%\n",
       "13     10.634962       ERA\n",
       "14     13.581126   RA9-WAR\n",
       "15  14239.200183       FIP\n",
       "16  10265.074507      kFIP\n",
       "17     12.159542       WAR\n",
       "18     13.692198  연봉(2018)\n",
       "19      9.397596  연봉(2017)\n",
       "20     67.343192    팀명_KIA\n",
       "21     86.561770     팀명_KT\n",
       "22     79.418584     팀명_LG\n",
       "23     61.013802     팀명_NC\n",
       "24     77.470868     팀명_SK\n",
       "25     70.295752     팀명_두산\n",
       "26     63.453040     팀명_롯데\n",
       "27     94.575239     팀명_삼성\n",
       "28     93.754600     팀명_한화"
      ]
     },
     "execution_count": 32,
     "metadata": {},
     "output_type": "execute_result"
    }
   ],
   "source": [
    "from statsmodels.stats.outliers_influence import variance_inflation_factor\n",
    "vif = pd.DataFrame()\n",
    "vif['VIF Factor']= [ variance_inflation_factor(df_tmp.values, i )  for i in range( df_tmp.shape[1] ) ]\n",
    "vif['features'] = df_tmp.columns\n",
    "vif"
   ]
  },
  {
   "cell_type": "markdown",
   "id": "d9170fd0",
   "metadata": {},
   "source": [
    "#### FIP, kFIP 컬럼 제거"
   ]
  },
  {
   "cell_type": "code",
   "execution_count": 12,
   "id": "36b26459",
   "metadata": {
    "ExecuteTime": {
     "end_time": "2021-07-21T20:09:56.417361Z",
     "start_time": "2021-07-21T20:09:56.403400Z"
    }
   },
   "outputs": [],
   "source": [
    "x_train_new, x_test_new = x_train.drop(columns=['FIP', 'kFIP']), x_test.drop(columns=['FIP', 'kFIP'])"
   ]
  },
  {
   "cell_type": "markdown",
   "id": "3d7b2d10",
   "metadata": {
    "ExecuteTime": {
     "end_time": "2021-07-21T08:36:30.209211Z",
     "start_time": "2021-07-21T08:36:30.193431Z"
    }
   },
   "source": [
    "#### 모델 생성 및 학습"
   ]
  },
  {
   "cell_type": "code",
   "execution_count": 13,
   "id": "4aa48e41",
   "metadata": {
    "ExecuteTime": {
     "end_time": "2021-07-21T20:09:56.447317Z",
     "start_time": "2021-07-21T20:09:56.419357Z"
    }
   },
   "outputs": [
    {
     "data": {
      "text/plain": [
       "Pipeline(steps=[('columntransformer',\n",
       "                 ColumnTransformer(transformers=[('ohe',\n",
       "                                                  OneHotEncoder(sparse=False),\n",
       "                                                  ['팀명']),\n",
       "                                                 ('scaler', StandardScaler(),\n",
       "                                                  ['승', '패', '세', '홀드', '블론',\n",
       "                                                   '경기', '선발', '이닝', '삼진/9',\n",
       "                                                   '볼넷/9', '홈런/9', 'BABIP',\n",
       "                                                   'LOB%', 'ERA', 'RA9-WAR',\n",
       "                                                   'WAR', '연봉(2017)'])])),\n",
       "                ('sgdregressor', SGDRegressor())])"
      ]
     },
     "execution_count": 13,
     "metadata": {},
     "output_type": "execute_result"
    }
   ],
   "source": [
    "ct = ColumnTransformer([('ohe',OneHotEncoder(sparse=False) ,['팀명']),\n",
    "                        ('scaler', StandardScaler(), ['승', '패', '세', '홀드', '블론', '경기', '선발', '이닝', '삼진/9', '볼넷/9',\n",
    "                                                       '홈런/9', 'BABIP', 'LOB%', 'ERA', 'RA9-WAR', 'WAR','연봉(2017)'])])\n",
    "\n",
    "model = make_pipeline(ct, SGDRegressor())\n",
    "model.fit(x_train_new, y_train)"
   ]
  },
  {
   "cell_type": "markdown",
   "id": "58fc507d",
   "metadata": {},
   "source": [
    "#### 결과"
   ]
  },
  {
   "cell_type": "code",
   "execution_count": 14,
   "id": "027953b6",
   "metadata": {
    "ExecuteTime": {
     "end_time": "2021-07-21T20:09:56.477276Z",
     "start_time": "2021-07-21T20:09:56.448280Z"
    }
   },
   "outputs": [
    {
     "name": "stdout",
     "output_type": "stream",
     "text": [
      "train score: 0.9327547275148669\n",
      "test score: 0.7741395850182429\n"
     ]
    }
   ],
   "source": [
    "print('train score:', model.score(x_train_new, y_train))\n",
    "print('test score:', model.score(x_test_new, y_test))"
   ]
  },
  {
   "cell_type": "markdown",
   "id": "22edab49",
   "metadata": {},
   "source": [
    "### Lasso 모델을 이용하여 r2 점수(train, test )를 출력하시요."
   ]
  },
  {
   "cell_type": "markdown",
   "id": "654c4c3a",
   "metadata": {},
   "source": [
    "#### 모델 생성 및 학습"
   ]
  },
  {
   "cell_type": "code",
   "execution_count": 15,
   "id": "c8a11f2f",
   "metadata": {
    "ExecuteTime": {
     "end_time": "2021-07-21T20:09:56.492200Z",
     "start_time": "2021-07-21T20:09:56.478237Z"
    }
   },
   "outputs": [],
   "source": [
    "ct = ColumnTransformer([('ohe',OneHotEncoder(sparse=False) ,['팀명']),\n",
    "                        ('scaler', StandardScaler(), ['승', '패', '세', '홀드', '블론', '경기', '선발', '이닝', '삼진/9', '볼넷/9',\n",
    "                                                       '홈런/9', 'BABIP', 'LOB%', 'ERA', 'RA9-WAR', 'FIP', 'kFIP', 'WAR','연봉(2017)'])])\n",
    "model  = make_pipeline(ct, Lasso())"
   ]
  },
  {
   "cell_type": "code",
   "execution_count": 16,
   "id": "45a1761c",
   "metadata": {
    "ExecuteTime": {
     "end_time": "2021-07-21T20:09:57.886130Z",
     "start_time": "2021-07-21T20:09:56.493197Z"
    }
   },
   "outputs": [
    {
     "name": "stdout",
     "output_type": "stream",
     "text": [
      "Fitting 5 folds for each of 20 candidates, totalling 100 fits\n"
     ]
    },
    {
     "data": {
      "text/plain": [
       "GridSearchCV(cv=5,\n",
       "             estimator=Pipeline(steps=[('columntransformer',\n",
       "                                        ColumnTransformer(transformers=[('ohe',\n",
       "                                                                         OneHotEncoder(sparse=False),\n",
       "                                                                         ['팀명']),\n",
       "                                                                        ('scaler',\n",
       "                                                                         StandardScaler(),\n",
       "                                                                         ['승',\n",
       "                                                                          '패',\n",
       "                                                                          '세',\n",
       "                                                                          '홀드',\n",
       "                                                                          '블론',\n",
       "                                                                          '경기',\n",
       "                                                                          '선발',\n",
       "                                                                          '이닝',\n",
       "                                                                          '삼진/9',\n",
       "                                                                          '볼넷/9',\n",
       "                                                                          '홈런/9',\n",
       "                                                                          'BABIP',\n",
       "                                                                          'LOB%',\n",
       "                                                                          'ERA',\n",
       "                                                                          'RA9-WAR',\n",
       "                                                                          'FIP',\n",
       "                                                                          'kFIP',\n",
       "                                                                          'WAR',\n",
       "                                                                          '연봉(2017)'])])),\n",
       "                                       ('lasso', Lasso())]),\n",
       "             param_grid={'lasso__alpha': [0.1, 0.25, 0.5, 0.75, 1, 2, 3, 4, 5,\n",
       "                                          10, 15, 20, 50, 100, 1000, 1500, 2000,\n",
       "                                          5000, 6000, 7500]},\n",
       "             scoring='r2', verbose=1)"
      ]
     },
     "execution_count": 16,
     "metadata": {},
     "output_type": "execute_result"
    }
   ],
   "source": [
    "param_grid = {'lasso__alpha':[0.1, 0.25, 0.5, 0.75, 1, 2, 3, 4, 5, 10, 15, 20 ,50, 100, 1000,1500,2000,5000,6000,7500]}\n",
    "grid = GridSearchCV(model, param_grid=param_grid, cv=5, verbose=1, scoring='r2')\n",
    "grid.fit(x_train, y_train)"
   ]
  },
  {
   "cell_type": "markdown",
   "id": "dc37f33b",
   "metadata": {},
   "source": [
    "#### 모델 결과"
   ]
  },
  {
   "cell_type": "code",
   "execution_count": 17,
   "id": "9e5c34b3",
   "metadata": {
    "ExecuteTime": {
     "end_time": "2021-07-21T20:09:57.896418Z",
     "start_time": "2021-07-21T20:09:57.886358Z"
    }
   },
   "outputs": [
    {
     "data": {
      "text/plain": [
       "{'lasso__alpha': 5000}"
      ]
     },
     "execution_count": 17,
     "metadata": {},
     "output_type": "execute_result"
    }
   ],
   "source": [
    "grid.best_params_"
   ]
  },
  {
   "cell_type": "code",
   "execution_count": 18,
   "id": "dcd1825a",
   "metadata": {
    "ExecuteTime": {
     "end_time": "2021-07-21T20:09:57.905306Z",
     "start_time": "2021-07-21T20:09:57.896418Z"
    }
   },
   "outputs": [
    {
     "data": {
      "text/plain": [
       "0.8492172324427184"
      ]
     },
     "execution_count": 18,
     "metadata": {},
     "output_type": "execute_result"
    }
   ],
   "source": [
    "grid.best_score_"
   ]
  },
  {
   "cell_type": "markdown",
   "id": "e4add9fd",
   "metadata": {},
   "source": [
    "#### train / test score 결과"
   ]
  },
  {
   "cell_type": "code",
   "execution_count": 19,
   "id": "663d8682",
   "metadata": {
    "ExecuteTime": {
     "end_time": "2021-07-21T20:09:57.921426Z",
     "start_time": "2021-07-21T20:09:57.905306Z"
    }
   },
   "outputs": [
    {
     "name": "stdout",
     "output_type": "stream",
     "text": [
      "0.8903207718889723\n",
      "0.8171506878680973\n"
     ]
    }
   ],
   "source": [
    "print(grid.best_estimator_.score(x_train, y_train))\n",
    "print(grid.best_estimator_.score(x_test, y_test))"
   ]
  },
  {
   "cell_type": "markdown",
   "id": "8d448679",
   "metadata": {},
   "source": [
    " 추가 문제\n",
    " 1. [KIA,20,6,0,0,0,31,31,193.1,7.36,2.09,0.79,0.332,72.1,3.44,6.54,3.94,3.82,5.64,150000]\n",
    "의 연봉(2018)을 예측하시오\n",
    "\n",
    "2. 팀별 평균 연봉(2018) Top5 를 구하시오.\n",
    "\n",
    "3. 팀별 연봉상승률(2017->2018)을 구하시오."
   ]
  },
  {
   "cell_type": "markdown",
   "id": "6d3d1d37",
   "metadata": {},
   "source": [
    "### [KIA,20,6,0,0,0,31,31,193.1,7.36,2.09,0.79,0.332,72.1,3.44,6.54,3.94,3.82,5.64,150000] 의 연봉(2018)을 예측하시오"
   ]
  },
  {
   "cell_type": "markdown",
   "id": "61379b6d",
   "metadata": {},
   "source": [
    "#### 문제 dataframe 생성"
   ]
  },
  {
   "cell_type": "code",
   "execution_count": 20,
   "id": "1789e6ca",
   "metadata": {
    "ExecuteTime": {
     "end_time": "2021-07-21T20:09:57.941095Z",
     "start_time": "2021-07-21T20:09:57.921426Z"
    }
   },
   "outputs": [
    {
     "data": {
      "text/html": [
       "<div>\n",
       "<style scoped>\n",
       "    .dataframe tbody tr th:only-of-type {\n",
       "        vertical-align: middle;\n",
       "    }\n",
       "\n",
       "    .dataframe tbody tr th {\n",
       "        vertical-align: top;\n",
       "    }\n",
       "\n",
       "    .dataframe thead th {\n",
       "        text-align: right;\n",
       "    }\n",
       "</style>\n",
       "<table border=\"1\" class=\"dataframe\">\n",
       "  <thead>\n",
       "    <tr style=\"text-align: right;\">\n",
       "      <th></th>\n",
       "      <th>팀명</th>\n",
       "      <th>승</th>\n",
       "      <th>패</th>\n",
       "      <th>세</th>\n",
       "      <th>홀드</th>\n",
       "      <th>블론</th>\n",
       "      <th>경기</th>\n",
       "      <th>선발</th>\n",
       "      <th>이닝</th>\n",
       "      <th>삼진/9</th>\n",
       "      <th>볼넷/9</th>\n",
       "      <th>홈런/9</th>\n",
       "      <th>BABIP</th>\n",
       "      <th>LOB%</th>\n",
       "      <th>ERA</th>\n",
       "      <th>RA9-WAR</th>\n",
       "      <th>FIP</th>\n",
       "      <th>kFIP</th>\n",
       "      <th>WAR</th>\n",
       "      <th>연봉(2017)</th>\n",
       "    </tr>\n",
       "  </thead>\n",
       "  <tbody>\n",
       "    <tr>\n",
       "      <th>0</th>\n",
       "      <td>KIA</td>\n",
       "      <td>20</td>\n",
       "      <td>6</td>\n",
       "      <td>0</td>\n",
       "      <td>0</td>\n",
       "      <td>0</td>\n",
       "      <td>31</td>\n",
       "      <td>31</td>\n",
       "      <td>193.1</td>\n",
       "      <td>7.36</td>\n",
       "      <td>2.09</td>\n",
       "      <td>0.79</td>\n",
       "      <td>0.332</td>\n",
       "      <td>72.1</td>\n",
       "      <td>3.44</td>\n",
       "      <td>6.54</td>\n",
       "      <td>3.94</td>\n",
       "      <td>3.82</td>\n",
       "      <td>5.64</td>\n",
       "      <td>150000</td>\n",
       "    </tr>\n",
       "  </tbody>\n",
       "</table>\n",
       "</div>"
      ],
      "text/plain": [
       "    팀명   승  패  세  홀드  블론  경기  선발     이닝  삼진/9  볼넷/9  홈런/9  BABIP  LOB%   ERA  \\\n",
       "0  KIA  20  6  0   0   0  31  31  193.1  7.36  2.09  0.79  0.332  72.1  3.44   \n",
       "\n",
       "   RA9-WAR   FIP  kFIP   WAR  연봉(2017)  \n",
       "0     6.54  3.94  3.82  5.64    150000  "
      ]
     },
     "execution_count": 20,
     "metadata": {},
     "output_type": "execute_result"
    }
   ],
   "source": [
    "xd = pd.DataFrame([['KIA', 20, 6, 0, 0, 0, 31, 31, 193.1, 7.36, 2.09, 0.79, 0.332, 72.1, 3.44, 6.54, 3.94, 3.82, 5.64, 150000]], \n",
    "                  columns= x_train.columns)\n",
    "xd"
   ]
  },
  {
   "cell_type": "markdown",
   "id": "4a329fe1",
   "metadata": {},
   "source": [
    "#### 새롭게 elasticnet 모델 생성 및 학습"
   ]
  },
  {
   "cell_type": "code",
   "execution_count": 21,
   "id": "7038d5c8",
   "metadata": {
    "ExecuteTime": {
     "end_time": "2021-07-21T20:10:11.516734Z",
     "start_time": "2021-07-21T20:09:57.942630Z"
    }
   },
   "outputs": [
    {
     "name": "stdout",
     "output_type": "stream",
     "text": [
      "Fitting 5 folds for each of 220 candidates, totalling 1100 fits\n"
     ]
    },
    {
     "data": {
      "text/plain": [
       "GridSearchCV(cv=5,\n",
       "             estimator=Pipeline(steps=[('columntransformer',\n",
       "                                        ColumnTransformer(transformers=[('ohe',\n",
       "                                                                         OneHotEncoder(sparse=False),\n",
       "                                                                         ['팀명']),\n",
       "                                                                        ('scaler',\n",
       "                                                                         StandardScaler(),\n",
       "                                                                         ['승',\n",
       "                                                                          '패',\n",
       "                                                                          '세',\n",
       "                                                                          '홀드',\n",
       "                                                                          '블론',\n",
       "                                                                          '경기',\n",
       "                                                                          '선발',\n",
       "                                                                          '이닝',\n",
       "                                                                          '삼진/9',\n",
       "                                                                          '볼넷/9',\n",
       "                                                                          '홈런/9',\n",
       "                                                                          'BABIP',\n",
       "                                                                          'LOB%',\n",
       "                                                                          'ERA',\n",
       "                                                                          'RA9-WAR',\n",
       "                                                                          'FIP',\n",
       "                                                                          'kFIP',\n",
       "                                                                          'WAR',\n",
       "                                                                          '연봉(2017)'])])),\n",
       "                                       ('elasticnet', ElasticNet())]),\n",
       "             param_grid={'elasticnet__alpha': [0.1, 0.25, 0.5, 0.75, 1, 2, 3, 4,\n",
       "                                               5, 10, 15, 20, 50, 100, 1000,\n",
       "                                               1500, 2000, 5000, 6000, 7500],\n",
       "                         'elasticnet__l1_ratio': [0, 0.1, 0.2, 0.3, 0.4, 0.5,\n",
       "                                                  0.6, 0.7, 0.8, 0.9, 1]},\n",
       "             scoring='r2', verbose=1)"
      ]
     },
     "execution_count": 21,
     "metadata": {},
     "output_type": "execute_result"
    }
   ],
   "source": [
    "ct = ColumnTransformer([('ohe',OneHotEncoder(sparse=False) ,['팀명']),\n",
    "                        ('scaler', StandardScaler(), ['승', '패', '세', '홀드', '블론', '경기', '선발', '이닝', '삼진/9', '볼넷/9',\n",
    "                                                       '홈런/9', 'BABIP', 'LOB%', 'ERA', 'RA9-WAR', 'FIP', 'kFIP', 'WAR','연봉(2017)'])])\n",
    "model  = make_pipeline(ct, ElasticNet())\n",
    "param_grid = {'elasticnet__alpha':[0.1, 0.25, 0.5, 0.75, 1, 2, 3, 4, 5, 10, 15, 20 ,50, 100, 1000,1500,2000,5000,6000,7500], \n",
    "             'elasticnet__l1_ratio':[0, 0.1, 0.2, 0.3, 0.4, 0.5, 0.6, 0.7, 0.8, 0.9, 1]}\n",
    "grid = GridSearchCV(model, param_grid=param_grid, cv=5, verbose=1, scoring='r2')\n",
    "grid.fit(x_train, y_train)"
   ]
  },
  {
   "cell_type": "code",
   "execution_count": 22,
   "id": "c06b3049",
   "metadata": {
    "ExecuteTime": {
     "end_time": "2021-07-21T20:10:11.531830Z",
     "start_time": "2021-07-21T20:10:11.520718Z"
    }
   },
   "outputs": [],
   "source": [
    "#### best 결과"
   ]
  },
  {
   "cell_type": "code",
   "execution_count": 23,
   "id": "4d2f937a",
   "metadata": {
    "ExecuteTime": {
     "end_time": "2021-07-21T20:10:11.546618Z",
     "start_time": "2021-07-21T20:10:11.534654Z"
    }
   },
   "outputs": [
    {
     "name": "stdout",
     "output_type": "stream",
     "text": [
      "Pipeline(steps=[('columntransformer',\n",
      "                 ColumnTransformer(transformers=[('ohe',\n",
      "                                                  OneHotEncoder(sparse=False),\n",
      "                                                  ['팀명']),\n",
      "                                                 ('scaler', StandardScaler(),\n",
      "                                                  ['승', '패', '세', '홀드', '블론',\n",
      "                                                   '경기', '선발', '이닝', '삼진/9',\n",
      "                                                   '볼넷/9', '홈런/9', 'BABIP',\n",
      "                                                   'LOB%', 'ERA', 'RA9-WAR',\n",
      "                                                   'FIP', 'kFIP', 'WAR',\n",
      "                                                   '연봉(2017)'])])),\n",
      "                ('elasticnet', ElasticNet(alpha=5000, l1_ratio=1))])\n",
      "best 결과 : 0.8492172324427184\n"
     ]
    }
   ],
   "source": [
    "print(grid.best_estimator_)  # Lasso와 같은 결과\n",
    "print('best 결과 :',grid.best_score_)"
   ]
  },
  {
   "cell_type": "code",
   "execution_count": 24,
   "id": "d09516c6",
   "metadata": {
    "ExecuteTime": {
     "end_time": "2021-07-21T20:10:11.561578Z",
     "start_time": "2021-07-21T20:10:11.547616Z"
    }
   },
   "outputs": [
    {
     "data": {
      "text/plain": [
       "array([148549.26832704])"
      ]
     },
     "execution_count": 24,
     "metadata": {},
     "output_type": "execute_result"
    }
   ],
   "source": [
    "grid.best_estimator_.predict(xd)"
   ]
  },
  {
   "cell_type": "markdown",
   "id": "8cc0a8f7",
   "metadata": {},
   "source": [
    "### 팀별 평균 연봉(2018) Top5"
   ]
  },
  {
   "cell_type": "markdown",
   "id": "886bf3f7",
   "metadata": {
    "ExecuteTime": {
     "end_time": "2021-07-21T19:56:02.125826Z",
     "start_time": "2021-07-21T19:56:02.112860Z"
    }
   },
   "source": [
    "#### 팀별 평균 연봉(2018) Top5"
   ]
  },
  {
   "cell_type": "code",
   "execution_count": 25,
   "id": "53804555",
   "metadata": {
    "ExecuteTime": {
     "end_time": "2021-07-21T20:10:11.576905Z",
     "start_time": "2021-07-21T20:10:11.562576Z"
    }
   },
   "outputs": [
    {
     "data": {
      "text/html": [
       "<div>\n",
       "<style scoped>\n",
       "    .dataframe tbody tr th:only-of-type {\n",
       "        vertical-align: middle;\n",
       "    }\n",
       "\n",
       "    .dataframe tbody tr th {\n",
       "        vertical-align: top;\n",
       "    }\n",
       "\n",
       "    .dataframe thead th {\n",
       "        text-align: right;\n",
       "    }\n",
       "</style>\n",
       "<table border=\"1\" class=\"dataframe\">\n",
       "  <thead>\n",
       "    <tr style=\"text-align: right;\">\n",
       "      <th></th>\n",
       "      <th>연봉(2018)</th>\n",
       "    </tr>\n",
       "    <tr>\n",
       "      <th>팀명</th>\n",
       "      <th></th>\n",
       "    </tr>\n",
       "  </thead>\n",
       "  <tbody>\n",
       "    <tr>\n",
       "      <th>KIA</th>\n",
       "      <td>29440.000000</td>\n",
       "    </tr>\n",
       "    <tr>\n",
       "      <th>롯데</th>\n",
       "      <td>26707.142857</td>\n",
       "    </tr>\n",
       "    <tr>\n",
       "      <th>LG</th>\n",
       "      <td>23444.444444</td>\n",
       "    </tr>\n",
       "    <tr>\n",
       "      <th>한화</th>\n",
       "      <td>21720.000000</td>\n",
       "    </tr>\n",
       "    <tr>\n",
       "      <th>두산</th>\n",
       "      <td>17980.000000</td>\n",
       "    </tr>\n",
       "  </tbody>\n",
       "</table>\n",
       "</div>"
      ],
      "text/plain": [
       "         연봉(2018)\n",
       "팀명               \n",
       "KIA  29440.000000\n",
       "롯데   26707.142857\n",
       "LG   23444.444444\n",
       "한화   21720.000000\n",
       "두산   17980.000000"
      ]
     },
     "execution_count": 25,
     "metadata": {},
     "output_type": "execute_result"
    }
   ],
   "source": [
    "연봉2018 = df.groupby('팀명')[['연봉(2018)']].mean()\n",
    "top5_2018 = 연봉2018.sort_values('연봉(2018)', ascending=False).head(5)\n",
    "top5_2018"
   ]
  },
  {
   "cell_type": "markdown",
   "id": "041aa44f",
   "metadata": {},
   "source": [
    "#### 시각화"
   ]
  },
  {
   "cell_type": "code",
   "execution_count": 26,
   "id": "169c8b39",
   "metadata": {
    "ExecuteTime": {
     "end_time": "2021-07-21T20:10:11.756640Z",
     "start_time": "2021-07-21T20:10:11.577871Z"
    }
   },
   "outputs": [
    {
     "data": {
      "image/png": "[encoded data removed]",
      "text/plain": [
       "<Figure size 432x288 with 1 Axes>"
      ]
     },
     "metadata": {},
     "output_type": "display_data"
    }
   ],
   "source": [
    "top5_2018.plot(kind='bar')\n",
    "plt.title('2018 연봉 상위 5개 팀')\n",
    "plt.show()"
   ]
  },
  {
   "cell_type": "markdown",
   "id": "b91c62e0",
   "metadata": {
    "ExecuteTime": {
     "end_time": "2021-07-21T19:49:31.588504Z",
     "start_time": "2021-07-21T19:49:31.576520Z"
    }
   },
   "source": [
    "### 팀별 연봉상승률 (2017 -> 2018)"
   ]
  },
  {
   "cell_type": "markdown",
   "id": "ad3c0680",
   "metadata": {},
   "source": [
    "#### 평균 연봉표"
   ]
  },
  {
   "cell_type": "code",
   "execution_count": 27,
   "id": "8e601c15",
   "metadata": {
    "ExecuteTime": {
     "end_time": "2021-07-21T20:10:11.771599Z",
     "start_time": "2021-07-21T20:10:11.757638Z"
    }
   },
   "outputs": [
    {
     "data": {
      "text/html": [
       "<div>\n",
       "<style scoped>\n",
       "    .dataframe tbody tr th:only-of-type {\n",
       "        vertical-align: middle;\n",
       "    }\n",
       "\n",
       "    .dataframe tbody tr th {\n",
       "        vertical-align: top;\n",
       "    }\n",
       "\n",
       "    .dataframe thead th {\n",
       "        text-align: right;\n",
       "    }\n",
       "</style>\n",
       "<table border=\"1\" class=\"dataframe\">\n",
       "  <thead>\n",
       "    <tr style=\"text-align: right;\">\n",
       "      <th></th>\n",
       "      <th>연봉(2017)</th>\n",
       "      <th>연봉(2018)</th>\n",
       "    </tr>\n",
       "    <tr>\n",
       "      <th>팀명</th>\n",
       "      <th></th>\n",
       "      <th></th>\n",
       "    </tr>\n",
       "  </thead>\n",
       "  <tbody>\n",
       "    <tr>\n",
       "      <th>KIA</th>\n",
       "      <td>22986.666667</td>\n",
       "      <td>29440.000000</td>\n",
       "    </tr>\n",
       "    <tr>\n",
       "      <th>KT</th>\n",
       "      <td>6710.526316</td>\n",
       "      <td>10184.210526</td>\n",
       "    </tr>\n",
       "    <tr>\n",
       "      <th>LG</th>\n",
       "      <td>18994.444444</td>\n",
       "      <td>23444.444444</td>\n",
       "    </tr>\n",
       "    <tr>\n",
       "      <th>NC</th>\n",
       "      <td>10138.461538</td>\n",
       "      <td>11353.846154</td>\n",
       "    </tr>\n",
       "    <tr>\n",
       "      <th>SK</th>\n",
       "      <td>12838.888889</td>\n",
       "      <td>17255.555556</td>\n",
       "    </tr>\n",
       "    <tr>\n",
       "      <th>두산</th>\n",
       "      <td>16853.333333</td>\n",
       "      <td>17980.000000</td>\n",
       "    </tr>\n",
       "    <tr>\n",
       "      <th>롯데</th>\n",
       "      <td>23264.285714</td>\n",
       "      <td>26707.142857</td>\n",
       "    </tr>\n",
       "    <tr>\n",
       "      <th>삼성</th>\n",
       "      <td>16170.000000</td>\n",
       "      <td>14220.000000</td>\n",
       "    </tr>\n",
       "    <tr>\n",
       "      <th>한화</th>\n",
       "      <td>21490.000000</td>\n",
       "      <td>21720.000000</td>\n",
       "    </tr>\n",
       "  </tbody>\n",
       "</table>\n",
       "</div>"
      ],
      "text/plain": [
       "         연봉(2017)      연봉(2018)\n",
       "팀명                             \n",
       "KIA  22986.666667  29440.000000\n",
       "KT    6710.526316  10184.210526\n",
       "LG   18994.444444  23444.444444\n",
       "NC   10138.461538  11353.846154\n",
       "SK   12838.888889  17255.555556\n",
       "두산   16853.333333  17980.000000\n",
       "롯데   23264.285714  26707.142857\n",
       "삼성   16170.000000  14220.000000\n",
       "한화   21490.000000  21720.000000"
      ]
     },
     "execution_count": 27,
     "metadata": {},
     "output_type": "execute_result"
    }
   ],
   "source": [
    "연봉2017 = df.groupby('팀명')[['연봉(2017)']].mean()\n",
    "연봉2018 = df.groupby('팀명')[['연봉(2018)']].mean()\n",
    "연봉 = pd.concat([연봉2017, 연봉2018], axis=1)\n",
    "연봉\n"
   ]
  },
  {
   "cell_type": "markdown",
   "id": "a2442379",
   "metadata": {},
   "source": [
    "#### 연봉상승률"
   ]
  },
  {
   "cell_type": "code",
   "execution_count": 28,
   "id": "984cefce",
   "metadata": {
    "ExecuteTime": {
     "end_time": "2021-07-21T20:10:11.801627Z",
     "start_time": "2021-07-21T20:10:11.772599Z"
    }
   },
   "outputs": [
    {
     "data": {
      "text/html": [
       "<div>\n",
       "<style scoped>\n",
       "    .dataframe tbody tr th:only-of-type {\n",
       "        vertical-align: middle;\n",
       "    }\n",
       "\n",
       "    .dataframe tbody tr th {\n",
       "        vertical-align: top;\n",
       "    }\n",
       "\n",
       "    .dataframe thead th {\n",
       "        text-align: right;\n",
       "    }\n",
       "</style>\n",
       "<table border=\"1\" class=\"dataframe\">\n",
       "  <thead>\n",
       "    <tr style=\"text-align: right;\">\n",
       "      <th></th>\n",
       "      <th>연봉(2018)</th>\n",
       "    </tr>\n",
       "    <tr>\n",
       "      <th>팀명</th>\n",
       "      <th></th>\n",
       "    </tr>\n",
       "  </thead>\n",
       "  <tbody>\n",
       "    <tr>\n",
       "      <th>KIA</th>\n",
       "      <td>28.074246</td>\n",
       "    </tr>\n",
       "    <tr>\n",
       "      <th>KT</th>\n",
       "      <td>51.764706</td>\n",
       "    </tr>\n",
       "    <tr>\n",
       "      <th>LG</th>\n",
       "      <td>23.427903</td>\n",
       "    </tr>\n",
       "    <tr>\n",
       "      <th>NC</th>\n",
       "      <td>11.987860</td>\n",
       "    </tr>\n",
       "    <tr>\n",
       "      <th>SK</th>\n",
       "      <td>34.400692</td>\n",
       "    </tr>\n",
       "    <tr>\n",
       "      <th>두산</th>\n",
       "      <td>6.685127</td>\n",
       "    </tr>\n",
       "    <tr>\n",
       "      <th>롯데</th>\n",
       "      <td>14.798895</td>\n",
       "    </tr>\n",
       "    <tr>\n",
       "      <th>삼성</th>\n",
       "      <td>-12.059369</td>\n",
       "    </tr>\n",
       "    <tr>\n",
       "      <th>한화</th>\n",
       "      <td>1.070265</td>\n",
       "    </tr>\n",
       "  </tbody>\n",
       "</table>\n",
       "</div>"
      ],
      "text/plain": [
       "      연봉(2018)\n",
       "팀명            \n",
       "KIA  28.074246\n",
       "KT   51.764706\n",
       "LG   23.427903\n",
       "NC   11.987860\n",
       "SK   34.400692\n",
       "두산    6.685127\n",
       "롯데   14.798895\n",
       "삼성  -12.059369\n",
       "한화    1.070265"
      ]
     },
     "execution_count": 28,
     "metadata": {},
     "output_type": "execute_result"
    }
   ],
   "source": [
    "연봉상승률 = (연봉.T.pct_change().loc[['연봉(2018)']]*100).T\n",
    "연봉상승률"
   ]
  },
  {
   "cell_type": "markdown",
   "id": "e0a26b19",
   "metadata": {
    "ExecuteTime": {
     "end_time": "2021-07-21T19:55:10.817369Z",
     "start_time": "2021-07-21T19:55:10.807873Z"
    }
   },
   "source": [
    "#### 시각화"
   ]
  },
  {
   "cell_type": "code",
   "execution_count": 29,
   "id": "a05f8485",
   "metadata": {
    "ExecuteTime": {
     "end_time": "2021-07-21T20:10:12.011888Z",
     "start_time": "2021-07-21T20:10:11.802621Z"
    },
    "scrolled": false
   },
   "outputs": [
    {
     "data": {
      "image/png": "[encoded data removed]",
      "text/plain": [
       "<Figure size 576x576 with 1 Axes>"
      ]
     },
     "metadata": {},
     "output_type": "display_data"
    }
   ],
   "source": [
    "연봉상승률.sort_values('연봉(2018)', ascending=False).plot.bar(figsize=(8,8))\n",
    "plt.title('연봉상승률(2017→2018)')\n",
    "plt.grid()\n",
    "plt.show()"
   ]
  }
 ],
 "metadata": {
  "hide_input": false,
  "kernelspec": {
   "display_name": "Python 3",
   "language": "python",
   "name": "python3"
  },
  "language_info": {
   "codemirror_mode": {
    "name": "ipython",
    "version": 3
   },
   "file_extension": ".py",
   "mimetype": "text/x-python",
   "name": "python",
   "nbconvert_exporter": "python",
   "pygments_lexer": "ipython3",
   "version": "3.8.8"
  },
  "toc": {
   "base_numbering": 1,
   "nav_menu": {},
   "number_sections": true,
   "sideBar": true,
   "skip_h1_title": false,
   "title_cell": "Table of Contents",
   "title_sidebar": "Contents",
   "toc_cell": false,
   "toc_position": {},
   "toc_section_display": true,
   "toc_window_display": false
  },
  "varInspector": {
   "cols": {
    "lenName": 16,
    "lenType": 16,
    "lenVar": 40
   },
   "kernels_config": {
    "python": {
     "delete_cmd_postfix": "",
     "delete_cmd_prefix": "del ",
     "library": "var_list.py",
     "varRefreshCmd": "print(var_dic_list())"
    },
    "r": {
     "delete_cmd_postfix": ") ",
     "delete_cmd_prefix": "rm(",
     "library": "var_list.r",
     "varRefreshCmd": "cat(var_dic_list()) "
    }
   },
   "types_to_exclude": [
    "module",
    "function",
    "builtin_function_or_method",
    "instance",
    "_Feature"
   ],
   "window_display": false
  }
 },
 "nbformat": 4,
 "nbformat_minor": 5
}
