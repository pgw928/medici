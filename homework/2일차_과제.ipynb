{
 "cells": [
  {
   "cell_type": "code",
   "execution_count": 1,
   "id": "8df1c01a",
   "metadata": {
    "ExecuteTime": {
     "end_time": "2021-07-20T07:44:32.044329Z",
     "start_time": "2021-07-20T07:44:19.050541Z"
    }
   },
   "outputs": [],
   "source": [
    "import pandas as pd\n",
    "import numpy as np\n",
    "from sklearn.linear_model import LinearRegression, SGDRegressor\n",
    "from sklearn.preprocessing import StandardScaler ,MinMaxScaler\n",
    "from sklearn.model_selection import train_test_split, cross_val_score \n",
    "from sklearn.pipeline import make_pipeline\n",
    "import matplotlib.pyplot as plt\n",
    "import matplotlib\n",
    "matplotlib.rcParams['font.family']='Malgun Gothic'\n",
    "matplotlib.rcParams['axes.unicode_minus'] = False"
   ]
  },
  {
   "cell_type": "markdown",
   "id": "e3ae5c9c",
   "metadata": {},
   "source": [
    "## trees.csv를 읽어들여서 아래에 대해"
   ]
  },
  {
   "cell_type": "code",
   "execution_count": 5,
   "id": "33b998f4",
   "metadata": {
    "ExecuteTime": {
     "end_time": "2021-07-20T07:49:37.341912Z",
     "start_time": "2021-07-20T07:49:37.306592Z"
    }
   },
   "outputs": [
    {
     "data": {
      "text/html": [
       "<div>\n",
       "<style scoped>\n",
       "    .dataframe tbody tr th:only-of-type {\n",
       "        vertical-align: middle;\n",
       "    }\n",
       "\n",
       "    .dataframe tbody tr th {\n",
       "        vertical-align: top;\n",
       "    }\n",
       "\n",
       "    .dataframe thead th {\n",
       "        text-align: right;\n",
       "    }\n",
       "</style>\n",
       "<table border=\"1\" class=\"dataframe\">\n",
       "  <thead>\n",
       "    <tr style=\"text-align: right;\">\n",
       "      <th></th>\n",
       "      <th>Girth</th>\n",
       "      <th>Height</th>\n",
       "      <th>Volume</th>\n",
       "    </tr>\n",
       "  </thead>\n",
       "  <tbody>\n",
       "    <tr>\n",
       "      <th>0</th>\n",
       "      <td>8.3</td>\n",
       "      <td>70</td>\n",
       "      <td>10.3</td>\n",
       "    </tr>\n",
       "    <tr>\n",
       "      <th>1</th>\n",
       "      <td>8.6</td>\n",
       "      <td>65</td>\n",
       "      <td>10.3</td>\n",
       "    </tr>\n",
       "    <tr>\n",
       "      <th>2</th>\n",
       "      <td>8.8</td>\n",
       "      <td>63</td>\n",
       "      <td>10.2</td>\n",
       "    </tr>\n",
       "    <tr>\n",
       "      <th>3</th>\n",
       "      <td>10.5</td>\n",
       "      <td>72</td>\n",
       "      <td>16.4</td>\n",
       "    </tr>\n",
       "    <tr>\n",
       "      <th>4</th>\n",
       "      <td>10.7</td>\n",
       "      <td>81</td>\n",
       "      <td>18.8</td>\n",
       "    </tr>\n",
       "  </tbody>\n",
       "</table>\n",
       "</div>"
      ],
      "text/plain": [
       "   Girth  Height  Volume\n",
       "0    8.3      70    10.3\n",
       "1    8.6      65    10.3\n",
       "2    8.8      63    10.2\n",
       "3   10.5      72    16.4\n",
       "4   10.7      81    18.8"
      ]
     },
     "execution_count": 5,
     "metadata": {},
     "output_type": "execute_result"
    }
   ],
   "source": [
    "df_tree = pd.read_csv('./data/trees.csv')\n",
    "df_tree.head()"
   ]
  },
  {
   "cell_type": "markdown",
   "id": "e71fb3f5",
   "metadata": {
    "ExecuteTime": {
     "end_time": "2021-07-20T07:45:18.911417Z",
     "start_time": "2021-07-20T07:45:18.899435Z"
    }
   },
   "source": [
    "### 상관관계, 다중공선성을 확인하시요"
   ]
  },
  {
   "cell_type": "code",
   "execution_count": 10,
   "id": "c9ee7539",
   "metadata": {
    "ExecuteTime": {
     "end_time": "2021-07-20T07:52:57.765290Z",
     "start_time": "2021-07-20T07:52:57.476172Z"
    }
   },
   "outputs": [
    {
     "data": {
      "image/png": "[encoded data removed]",
      "text/plain": [
       "<Figure size 720x720 with 2 Axes>"
      ]
     },
     "metadata": {},
     "output_type": "display_data"
    }
   ],
   "source": [
    "## 상관관계\n",
    "import seaborn as sns\n",
    "corr = df_tree.corr()\n",
    "\n",
    "plt.figure(figsize=(10,10))\n",
    "sns.set(style='white')  \n",
    "mask = np.triu(np.ones_like(corr, dtype=bool)) \n",
    "sns.heatmap(corr, mask=mask, cmap='bwr',vmin=-1, vmax=1,\n",
    "            square=True, linewidths=2.5, annot=True, fmt='.2f')\n",
    "plt.title('Correlation Matrix', fontsize=18)\n",
    "plt.show()"
   ]
  },
  {
   "cell_type": "code",
   "execution_count": 14,
   "id": "71fd4d38",
   "metadata": {
    "ExecuteTime": {
     "end_time": "2021-07-20T07:53:55.673970Z",
     "start_time": "2021-07-20T07:53:55.637134Z"
    }
   },
   "outputs": [
    {
     "data": {
      "text/html": [
       "<div>\n",
       "<style scoped>\n",
       "    .dataframe tbody tr th:only-of-type {\n",
       "        vertical-align: middle;\n",
       "    }\n",
       "\n",
       "    .dataframe tbody tr th {\n",
       "        vertical-align: top;\n",
       "    }\n",
       "\n",
       "    .dataframe thead th {\n",
       "        text-align: right;\n",
       "    }\n",
       "</style>\n",
       "<table border=\"1\" class=\"dataframe\">\n",
       "  <thead>\n",
       "    <tr style=\"text-align: right;\">\n",
       "      <th></th>\n",
       "      <th>VIF Factor</th>\n",
       "      <th>features</th>\n",
       "    </tr>\n",
       "  </thead>\n",
       "  <tbody>\n",
       "    <tr>\n",
       "      <th>0</th>\n",
       "      <td>158.198657</td>\n",
       "      <td>Girth</td>\n",
       "    </tr>\n",
       "    <tr>\n",
       "      <th>1</th>\n",
       "      <td>62.939266</td>\n",
       "      <td>Height</td>\n",
       "    </tr>\n",
       "    <tr>\n",
       "      <th>2</th>\n",
       "      <td>32.993875</td>\n",
       "      <td>Volume</td>\n",
       "    </tr>\n",
       "  </tbody>\n",
       "</table>\n",
       "</div>"
      ],
      "text/plain": [
       "   VIF Factor features\n",
       "0  158.198657    Girth\n",
       "1   62.939266   Height\n",
       "2   32.993875   Volume"
      ]
     },
     "execution_count": 14,
     "metadata": {},
     "output_type": "execute_result"
    }
   ],
   "source": [
    "## 다중 공선성\n",
    "from statsmodels.stats.outliers_influence import variance_inflation_factor\n",
    "vif = pd.DataFrame()\n",
    "vif['VIF Factor']= [ variance_inflation_factor(df_tree.values, i )  for i in range( df_tree.shape[1] ) ]\n",
    "vif['features'] = df_tree.columns\n",
    "vif\n"
   ]
  },
  {
   "cell_type": "markdown",
   "id": "75c17b0d",
   "metadata": {},
   "source": [
    "### crossvalidation score 를 구하시요."
   ]
  },
  {
   "cell_type": "code",
   "execution_count": 15,
   "id": "64f5bdfc",
   "metadata": {
    "ExecuteTime": {
     "end_time": "2021-07-20T07:57:43.018999Z",
     "start_time": "2021-07-20T07:57:42.997872Z"
    }
   },
   "outputs": [],
   "source": [
    "x_data, y_data = df_tree[['Girth', 'Height']].values, df_tree[['Volume']].values"
   ]
  },
  {
   "cell_type": "code",
   "execution_count": 17,
   "id": "22593a8d",
   "metadata": {
    "ExecuteTime": {
     "end_time": "2021-07-20T07:58:13.481268Z",
     "start_time": "2021-07-20T07:58:13.449092Z"
    }
   },
   "outputs": [
    {
     "name": "stdout",
     "output_type": "stream",
     "text": [
      "r2 score :  [-2.42679092  0.59361755 -0.14097307  0.45908741 -0.6044407 ]\n",
      "r2 score 평균 : -0.4238999480904363\n"
     ]
    }
   ],
   "source": [
    "model = make_pipeline(StandardScaler(), LinearRegression())\n",
    "r2_score = cross_val_score(model, x_data, y_data, scoring='r2', cv=5)\n",
    "print('r2 score : ', r2_score)\n",
    "print('r2 score 평균 :', r2_score.mean())"
   ]
  },
  {
   "cell_type": "markdown",
   "id": "1f250456",
   "metadata": {},
   "source": [
    "### 아래의 데이터를 이용하여 Volume을 예측하시요\n",
    "Girth 8.8, 10.5\n",
    "Height 63, 72\n"
   ]
  },
  {
   "cell_type": "code",
   "execution_count": 19,
   "id": "9b3f950f",
   "metadata": {
    "ExecuteTime": {
     "end_time": "2021-07-20T07:59:53.114409Z",
     "start_time": "2021-07-20T07:59:53.087162Z"
    }
   },
   "outputs": [
    {
     "name": "stdout",
     "output_type": "stream",
     "text": [
      "[[ 4.81698127]\n",
      " [15.87411523]]\n"
     ]
    }
   ],
   "source": [
    "model.fit(x_data, y_data)\n",
    "pred = model.predict([[8.8, 63], [10.5, 72]])\n",
    "print(pred)"
   ]
  },
  {
   "cell_type": "markdown",
   "id": "ed4048fb",
   "metadata": {},
   "source": [
    "## volume이 40 이상이면 크다, 30이상이면 보통 미만이면 적음으로 아래와 같이 출력하시요.\n",
    "\n",
    "|volume | 정도|\n",
    "|---|---|\n",
    " |10.3   | 적음|\n",
    "..."
   ]
  },
  {
   "cell_type": "code",
   "execution_count": 31,
   "id": "d3e8bf99",
   "metadata": {
    "ExecuteTime": {
     "end_time": "2021-07-20T08:07:04.813566Z",
     "start_time": "2021-07-20T08:07:04.787555Z"
    }
   },
   "outputs": [
    {
     "name": "stderr",
     "output_type": "stream",
     "text": [
      "<ipython-input-31-4a1c431be5f6>:7: SettingWithCopyWarning: \n",
      "A value is trying to be set on a copy of a slice from a DataFrame.\n",
      "Try using .loc[row_indexer,col_indexer] = value instead\n",
      "\n",
      "See the caveats in the documentation: https://pandas.pydata.org/pandas-docs/stable/user_guide/indexing.html#returning-a-view-versus-a-copy\n",
      "  df_vol['정도'] = df_tree['Volume'].apply(fun1)\n"
     ]
    },
    {
     "data": {
      "text/html": [
       "<div>\n",
       "<style scoped>\n",
       "    .dataframe tbody tr th:only-of-type {\n",
       "        vertical-align: middle;\n",
       "    }\n",
       "\n",
       "    .dataframe tbody tr th {\n",
       "        vertical-align: top;\n",
       "    }\n",
       "\n",
       "    .dataframe thead th {\n",
       "        text-align: right;\n",
       "    }\n",
       "</style>\n",
       "<table border=\"1\" class=\"dataframe\">\n",
       "  <thead>\n",
       "    <tr style=\"text-align: right;\">\n",
       "      <th></th>\n",
       "      <th>Volume</th>\n",
       "      <th>정도</th>\n",
       "    </tr>\n",
       "  </thead>\n",
       "  <tbody>\n",
       "    <tr>\n",
       "      <th>0</th>\n",
       "      <td>10.3</td>\n",
       "      <td>적음</td>\n",
       "    </tr>\n",
       "    <tr>\n",
       "      <th>1</th>\n",
       "      <td>10.3</td>\n",
       "      <td>적음</td>\n",
       "    </tr>\n",
       "    <tr>\n",
       "      <th>2</th>\n",
       "      <td>10.2</td>\n",
       "      <td>적음</td>\n",
       "    </tr>\n",
       "    <tr>\n",
       "      <th>3</th>\n",
       "      <td>16.4</td>\n",
       "      <td>적음</td>\n",
       "    </tr>\n",
       "    <tr>\n",
       "      <th>4</th>\n",
       "      <td>18.8</td>\n",
       "      <td>적음</td>\n",
       "    </tr>\n",
       "  </tbody>\n",
       "</table>\n",
       "</div>"
      ],
      "text/plain": [
       "   Volume  정도\n",
       "0    10.3  적음\n",
       "1    10.3  적음\n",
       "2    10.2  적음\n",
       "3    16.4  적음\n",
       "4    18.8  적음"
      ]
     },
     "execution_count": 31,
     "metadata": {},
     "output_type": "execute_result"
    }
   ],
   "source": [
    "def fun1(x):\n",
    "    if x >= 40: return '크다'\n",
    "    if x >= 30: return '보통'\n",
    "    return '적음'\n",
    "\n",
    "df_vol = df_tree[['Volume']]\n",
    "df_vol['정도'] = df_tree['Volume'].apply(fun1)\n",
    "df_vol.head()"
   ]
  },
  {
   "cell_type": "markdown",
   "id": "4a11b33b",
   "metadata": {},
   "source": [
    "## Height  가 가장 작은값과 큰값을 구하시요"
   ]
  },
  {
   "cell_type": "code",
   "execution_count": 35,
   "id": "f4c13adb",
   "metadata": {
    "ExecuteTime": {
     "end_time": "2021-07-20T08:08:41.470825Z",
     "start_time": "2021-07-20T08:08:41.459536Z"
    }
   },
   "outputs": [
    {
     "name": "stdout",
     "output_type": "stream",
     "text": [
      "최솟값:63, 최댓값:87\n"
     ]
    }
   ],
   "source": [
    "m, M = df_tree['Height'].min(), df_tree['Height'].max()\n",
    "print(f'최솟값:{m}, 최댓값:{M}')"
   ]
  },
  {
   "cell_type": "markdown",
   "id": "5108e973",
   "metadata": {},
   "source": [
    "## girth(테두리) 가 가장큰 top5를 구하시요(girth, height, volume)"
   ]
  },
  {
   "cell_type": "code",
   "execution_count": 39,
   "id": "2ac581df",
   "metadata": {
    "ExecuteTime": {
     "end_time": "2021-07-20T08:09:47.069216Z",
     "start_time": "2021-07-20T08:09:47.038446Z"
    }
   },
   "outputs": [
    {
     "data": {
      "text/html": [
       "<div>\n",
       "<style scoped>\n",
       "    .dataframe tbody tr th:only-of-type {\n",
       "        vertical-align: middle;\n",
       "    }\n",
       "\n",
       "    .dataframe tbody tr th {\n",
       "        vertical-align: top;\n",
       "    }\n",
       "\n",
       "    .dataframe thead th {\n",
       "        text-align: right;\n",
       "    }\n",
       "</style>\n",
       "<table border=\"1\" class=\"dataframe\">\n",
       "  <thead>\n",
       "    <tr style=\"text-align: right;\">\n",
       "      <th></th>\n",
       "      <th>Girth</th>\n",
       "      <th>Height</th>\n",
       "      <th>Volume</th>\n",
       "    </tr>\n",
       "  </thead>\n",
       "  <tbody>\n",
       "    <tr>\n",
       "      <th>30</th>\n",
       "      <td>20.6</td>\n",
       "      <td>87</td>\n",
       "      <td>77.0</td>\n",
       "    </tr>\n",
       "    <tr>\n",
       "      <th>29</th>\n",
       "      <td>18.0</td>\n",
       "      <td>80</td>\n",
       "      <td>51.0</td>\n",
       "    </tr>\n",
       "    <tr>\n",
       "      <th>28</th>\n",
       "      <td>18.0</td>\n",
       "      <td>80</td>\n",
       "      <td>51.5</td>\n",
       "    </tr>\n",
       "    <tr>\n",
       "      <th>27</th>\n",
       "      <td>17.9</td>\n",
       "      <td>80</td>\n",
       "      <td>58.3</td>\n",
       "    </tr>\n",
       "    <tr>\n",
       "      <th>26</th>\n",
       "      <td>17.5</td>\n",
       "      <td>82</td>\n",
       "      <td>55.7</td>\n",
       "    </tr>\n",
       "  </tbody>\n",
       "</table>\n",
       "</div>"
      ],
      "text/plain": [
       "    Girth  Height  Volume\n",
       "30   20.6      87    77.0\n",
       "29   18.0      80    51.0\n",
       "28   18.0      80    51.5\n",
       "27   17.9      80    58.3\n",
       "26   17.5      82    55.7"
      ]
     },
     "metadata": {},
     "output_type": "display_data"
    }
   ],
   "source": [
    "top5 = df_tree.sort_values('Girth', ascending=False).head(5)\n",
    "display(top5)"
   ]
  }
 ],
 "metadata": {
  "hide_input": false,
  "kernelspec": {
   "display_name": "Python 3",
   "language": "python",
   "name": "python3"
  },
  "language_info": {
   "codemirror_mode": {
    "name": "ipython",
    "version": 3
   },
   "file_extension": ".py",
   "mimetype": "text/x-python",
   "name": "python",
   "nbconvert_exporter": "python",
   "pygments_lexer": "ipython3",
   "version": "3.8.8"
  },
  "toc": {
   "base_numbering": 1,
   "nav_menu": {},
   "number_sections": true,
   "sideBar": true,
   "skip_h1_title": false,
   "title_cell": "Table of Contents",
   "title_sidebar": "Contents",
   "toc_cell": false,
   "toc_position": {},
   "toc_section_display": true,
   "toc_window_display": false
  },
  "varInspector": {
   "cols": {
    "lenName": 16,
    "lenType": 16,
    "lenVar": 40
   },
   "kernels_config": {
    "python": {
     "delete_cmd_postfix": "",
     "delete_cmd_prefix": "del ",
     "library": "var_list.py",
     "varRefreshCmd": "print(var_dic_list())"
    },
    "r": {
     "delete_cmd_postfix": ") ",
     "delete_cmd_prefix": "rm(",
     "library": "var_list.r",
     "varRefreshCmd": "cat(var_dic_list()) "
    }
   },
   "types_to_exclude": [
    "module",
    "function",
    "builtin_function_or_method",
    "instance",
    "_Feature"
   ],
   "window_display": false
  }
 },
 "nbformat": 4,
 "nbformat_minor": 5
}
