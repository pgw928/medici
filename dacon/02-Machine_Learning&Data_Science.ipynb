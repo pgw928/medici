{
 "cells": [
  {
   "cell_type": "markdown",
   "id": "51d1d000",
   "metadata": {},
   "source": [
    "## 0. Today...\n",
    "\n",
    "1. Metric & Object\n",
    "2. Classification Algorithm (Machine Learning)\n",
    "3. Validation\n",
    "4. Feature Engineering"
   ]
  },
  {
   "cell_type": "code",
   "execution_count": 1,
   "id": "532ff5bc",
   "metadata": {},
   "outputs": [],
   "source": [
    "import os\n",
    "import warnings\n",
    "warnings.filterwarnings(\"ignore\")\n",
    "\n",
    "import numpy as np\n",
    "import pandas as pd\n",
    "import matplotlib as mpl \n",
    "import matplotlib.pyplot as plt\n",
    "import seaborn as sns"
   ]
  },
  {
   "cell_type": "code",
   "execution_count": 2,
   "id": "bc23896d",
   "metadata": {},
   "outputs": [
    {
     "name": "stdout",
     "output_type": "stream",
     "text": [
      "./data/train.csv\n",
      "./data/test.csv\n"
     ]
    }
   ],
   "source": [
    "BASE_DIR = './data' \n",
    "\n",
    "train_path = os.path.join(BASE_DIR, 'train.csv')\n",
    "test_path = os.path.join(BASE_DIR, 'test.csv')\n",
    "submission_path = os.path.join(BASE_DIR, 'sample_submission.csv')\n",
    "\n",
    "print(train_path)\n",
    "print(test_path)"
   ]
  },
  {
   "cell_type": "markdown",
   "id": "hispanic-roots",
   "metadata": {},
   "source": [
    "> glob이라는 라이브러리도 있음"
   ]
  },
  {
   "cell_type": "code",
   "execution_count": 3,
   "id": "9afe97c8",
   "metadata": {},
   "outputs": [],
   "source": [
    "data = pd.read_csv(train_path) \n",
    "test_data = pd.read_csv(test_path)\n",
    "sample_submission = pd.read_csv(submission_path)\n",
    "\n",
    "target = data['credit']\n",
    "data.drop(['credit'], axis=1, inplace=True)\n",
    "# data = data.drop(['credit'], axis=1)"
   ]
  },
  {
   "cell_type": "markdown",
   "id": "complicated-milan",
   "metadata": {},
   "source": [
    "> gc 라이브러리로 필요없는 메모리 제거"
   ]
  },
  {
   "cell_type": "code",
   "execution_count": 4,
   "id": "a6f6da7f",
   "metadata": {},
   "outputs": [
    {
     "name": "stdout",
     "output_type": "stream",
     "text": [
      "Categorical Columns: \n",
      "['gender', 'car', 'reality', 'income_type', 'edu_type', 'family_type', 'house_type', 'occyp_type']\n",
      "\n",
      "Numeric Columns: \n",
      "['index', 'child_num', 'income_total', 'DAYS_BIRTH', 'DAYS_EMPLOYED', 'FLAG_MOBIL', 'work_phone', 'phone', 'email', 'family_size', 'begin_month']\n",
      "\n"
     ]
    }
   ],
   "source": [
    "cat_columns = [c for c, t in zip(data.dtypes.index, data.dtypes) if t=='O'] \n",
    "num_columns = [c for c in data.columns if c not in cat_columns]\n",
    "\n",
    "print(f'Categorical Columns: \\n{cat_columns}\\n')\n",
    "print(f'Numeric Columns: \\n{num_columns}\\n')"
   ]
  },
  {
   "cell_type": "code",
   "execution_count": 11,
   "id": "1f8161e8",
   "metadata": {},
   "outputs": [
    {
     "data": {
      "text/html": [
       "<div>\n",
       "<style scoped>\n",
       "    .dataframe tbody tr th:only-of-type {\n",
       "        vertical-align: middle;\n",
       "    }\n",
       "\n",
       "    .dataframe tbody tr th {\n",
       "        vertical-align: top;\n",
       "    }\n",
       "\n",
       "    .dataframe thead th {\n",
       "        text-align: right;\n",
       "    }\n",
       "</style>\n",
       "<table border=\"1\" class=\"dataframe\">\n",
       "  <thead>\n",
       "    <tr style=\"text-align: right;\">\n",
       "      <th></th>\n",
       "      <th>index</th>\n",
       "      <th>gender</th>\n",
       "      <th>car</th>\n",
       "      <th>reality</th>\n",
       "      <th>child_num</th>\n",
       "      <th>income_total</th>\n",
       "      <th>income_type</th>\n",
       "      <th>edu_type</th>\n",
       "      <th>family_type</th>\n",
       "      <th>house_type</th>\n",
       "      <th>DAYS_BIRTH</th>\n",
       "      <th>DAYS_EMPLOYED</th>\n",
       "      <th>FLAG_MOBIL</th>\n",
       "      <th>work_phone</th>\n",
       "      <th>phone</th>\n",
       "      <th>email</th>\n",
       "      <th>occyp_type</th>\n",
       "      <th>family_size</th>\n",
       "      <th>begin_month</th>\n",
       "    </tr>\n",
       "  </thead>\n",
       "  <tbody>\n",
       "    <tr>\n",
       "      <th>16553</th>\n",
       "      <td>16553</td>\n",
       "      <td>M</td>\n",
       "      <td>N</td>\n",
       "      <td>N</td>\n",
       "      <td>0</td>\n",
       "      <td>126000.0</td>\n",
       "      <td>Working</td>\n",
       "      <td>Secondary / secondary special</td>\n",
       "      <td>Married</td>\n",
       "      <td>House / apartment</td>\n",
       "      <td>-22780</td>\n",
       "      <td>-9830</td>\n",
       "      <td>1</td>\n",
       "      <td>1</td>\n",
       "      <td>0</td>\n",
       "      <td>0</td>\n",
       "      <td>Laborers</td>\n",
       "      <td>2.0</td>\n",
       "      <td>-13.0</td>\n",
       "    </tr>\n",
       "    <tr>\n",
       "      <th>25360</th>\n",
       "      <td>25360</td>\n",
       "      <td>F</td>\n",
       "      <td>Y</td>\n",
       "      <td>Y</td>\n",
       "      <td>1</td>\n",
       "      <td>315000.0</td>\n",
       "      <td>State servant</td>\n",
       "      <td>Higher education</td>\n",
       "      <td>Widow</td>\n",
       "      <td>House / apartment</td>\n",
       "      <td>-18233</td>\n",
       "      <td>-425</td>\n",
       "      <td>1</td>\n",
       "      <td>0</td>\n",
       "      <td>1</td>\n",
       "      <td>1</td>\n",
       "      <td>NaN</td>\n",
       "      <td>2.0</td>\n",
       "      <td>-57.0</td>\n",
       "    </tr>\n",
       "    <tr>\n",
       "      <th>18786</th>\n",
       "      <td>18786</td>\n",
       "      <td>F</td>\n",
       "      <td>Y</td>\n",
       "      <td>Y</td>\n",
       "      <td>0</td>\n",
       "      <td>135000.0</td>\n",
       "      <td>Pensioner</td>\n",
       "      <td>Secondary / secondary special</td>\n",
       "      <td>Widow</td>\n",
       "      <td>House / apartment</td>\n",
       "      <td>-22504</td>\n",
       "      <td>365243</td>\n",
       "      <td>1</td>\n",
       "      <td>0</td>\n",
       "      <td>1</td>\n",
       "      <td>0</td>\n",
       "      <td>NaN</td>\n",
       "      <td>1.0</td>\n",
       "      <td>-7.0</td>\n",
       "    </tr>\n",
       "    <tr>\n",
       "      <th>22588</th>\n",
       "      <td>22588</td>\n",
       "      <td>F</td>\n",
       "      <td>N</td>\n",
       "      <td>Y</td>\n",
       "      <td>0</td>\n",
       "      <td>202500.0</td>\n",
       "      <td>Pensioner</td>\n",
       "      <td>Secondary / secondary special</td>\n",
       "      <td>Married</td>\n",
       "      <td>House / apartment</td>\n",
       "      <td>-22960</td>\n",
       "      <td>365243</td>\n",
       "      <td>1</td>\n",
       "      <td>0</td>\n",
       "      <td>0</td>\n",
       "      <td>0</td>\n",
       "      <td>NaN</td>\n",
       "      <td>2.0</td>\n",
       "      <td>-22.0</td>\n",
       "    </tr>\n",
       "    <tr>\n",
       "      <th>14653</th>\n",
       "      <td>14653</td>\n",
       "      <td>F</td>\n",
       "      <td>N</td>\n",
       "      <td>Y</td>\n",
       "      <td>1</td>\n",
       "      <td>216000.0</td>\n",
       "      <td>Working</td>\n",
       "      <td>Higher education</td>\n",
       "      <td>Single / not married</td>\n",
       "      <td>House / apartment</td>\n",
       "      <td>-10512</td>\n",
       "      <td>-1782</td>\n",
       "      <td>1</td>\n",
       "      <td>0</td>\n",
       "      <td>1</td>\n",
       "      <td>0</td>\n",
       "      <td>Core staff</td>\n",
       "      <td>2.0</td>\n",
       "      <td>-22.0</td>\n",
       "    </tr>\n",
       "  </tbody>\n",
       "</table>\n",
       "</div>"
      ],
      "text/plain": [
       "       index gender car reality  child_num  income_total    income_type  \\\n",
       "16553  16553      M   N       N          0      126000.0        Working   \n",
       "25360  25360      F   Y       Y          1      315000.0  State servant   \n",
       "18786  18786      F   Y       Y          0      135000.0      Pensioner   \n",
       "22588  22588      F   N       Y          0      202500.0      Pensioner   \n",
       "14653  14653      F   N       Y          1      216000.0        Working   \n",
       "\n",
       "                            edu_type           family_type         house_type  \\\n",
       "16553  Secondary / secondary special               Married  House / apartment   \n",
       "25360               Higher education                 Widow  House / apartment   \n",
       "18786  Secondary / secondary special                 Widow  House / apartment   \n",
       "22588  Secondary / secondary special               Married  House / apartment   \n",
       "14653               Higher education  Single / not married  House / apartment   \n",
       "\n",
       "       DAYS_BIRTH  DAYS_EMPLOYED  FLAG_MOBIL  work_phone  phone  email  \\\n",
       "16553      -22780          -9830           1           1      0      0   \n",
       "25360      -18233           -425           1           0      1      1   \n",
       "18786      -22504         365243           1           0      1      0   \n",
       "22588      -22960         365243           1           0      0      0   \n",
       "14653      -10512          -1782           1           0      1      0   \n",
       "\n",
       "       occyp_type  family_size  begin_month  \n",
       "16553    Laborers          2.0        -13.0  \n",
       "25360         NaN          2.0        -57.0  \n",
       "18786         NaN          1.0         -7.0  \n",
       "22588         NaN          2.0        -22.0  \n",
       "14653  Core staff          2.0        -22.0  "
      ]
     },
     "execution_count": 11,
     "metadata": {},
     "output_type": "execute_result"
    }
   ],
   "source": [
    "data.sample(5)"
   ]
  },
  {
   "cell_type": "markdown",
   "id": "4cc2d7b2",
   "metadata": {},
   "source": [
    "## 1. Metric\n",
    "\n",
    "> https://scikit-learn.org/stable/modules/classes.html#module-sklearn.metrics\n",
    "\n",
    "### 1-1. Metric\n",
    "\n",
    "모든 일에는 평가지표가 있습니다. \n",
    "흔히 업무에서는 KPI(key performance indicator)라고도 부릅니다.\n",
    "\n",
    "머신러닝 대회는 경쟁입니다. 좋은 등수를 차지하기 위해서는 평가지표부터 알아야 합니다.\n",
    "\n",
    "<div class=\"alert alert-block alert-success\">\n",
    "<b>Tips</b> 평가지표의 계산 방식은 꼭 필요하지만, 이에 따른 특성을 구체적으로 깊이 이해할 필요는 없습니다.\n",
    "    다만 일부 대회는 평가지표를 계산할 때, 여러 테크닉을 사용할 수 있으므로 대회마다 토론(discussion)을 참고하시길 바랍니다.\n",
    "</div>\n",
    "\n",
    "\n",
    "일반적으로 대회나 특정 task에서 사용하는 지표는 다음과 같습니다. \n",
    "\n",
    "- Classification\n",
    "    - accuracy\n",
    "    - F1 score\n",
    "        - mean-F1\n",
    "        - macro-F1\n",
    "        - micro-F1\n",
    "    - Log Loss (=Cross Entropy)\n",
    "    - AUC\n",
    "\n",
    "- regression\n",
    "    - MAE (mean absolute error)\n",
    "    - RMSE (root mean square error)\n"
   ]
  },
  {
   "cell_type": "markdown",
   "id": "22a007db",
   "metadata": {},
   "source": [
    "### 1-2. 분류 평가지표\n",
    "\n",
    "분류 대회는 일반적으로 다음과 같이 예측을 제출합니다.\n",
    "\n",
    "- 이진분류(binary classification) : positive일 확률 제출\n",
    "- 다양한 분류 : 각 범주 별 확률 제출\n",
    "\n",
    "그렇기에 이진분류를 예시로 사용하면 결과는 총 4가지로 분류됩니다.\n",
    "\n",
    "\n",
    "- **TP(True Positive)** : 예측 정확, 양성\n",
    "- **TN(True Negative)** : 예측 정확, 음성\n",
    "- **FP(False Positive)** : 예측 부정확, 양성\n",
    "- **FN(False Negative)** : 예측 부정확, 음성\n",
    "\n",
    "![](https://cdn.substack.com/image/fetch/f_auto,q_auto:good,fl_progressive:steep/https%3A%2F%2Fbucketeer-e05bbc84-baa3-437e-9518-adb32be77984.s3.amazonaws.com%2Fpublic%2Fimages%2Fd1478aeb-00ca-4f13-9f8e-fb20767b4583_3508x1773.jpeg)"
   ]
  },
  {
   "cell_type": "code",
   "execution_count": 15,
   "id": "a283964f",
   "metadata": {},
   "outputs": [
    {
     "name": "stdout",
     "output_type": "stream",
     "text": [
      "[[2 0]\n",
      " [3 1]]\n"
     ]
    }
   ],
   "source": [
    "from sklearn.metrics import confusion_matrix\n",
    "y_true = [1, 0, 1, 1, 0, 1]\n",
    "y_pred = [0, 0, 0, 1, 0, 0]\n",
    "result = confusion_matrix(y_true, y_pred)\n",
    "\n",
    "print(result)"
   ]
  },
  {
   "cell_type": "markdown",
   "id": "0aa25f3e",
   "metadata": {},
   "source": [
    "class가 많아지면 heatmap으로 보는 것이 가장 좋다."
   ]
  },
  {
   "cell_type": "code",
   "execution_count": 30,
   "id": "8d30e589",
   "metadata": {},
   "outputs": [
    {
     "data": {
      "image/png": "[encoded data removed]",
      "text/plain": [
       "<Figure size 400x400 with 1 Axes>"
      ]
     },
     "metadata": {},
     "output_type": "display_data"
    }
   ],
   "source": [
    "fig, ax = plt.subplots(1, 1, figsize=(4, 4), dpi=100)\n",
    "fig.set_facecolor('lightgray')\n",
    "sns.heatmap(result, \n",
    "            annot=True, \n",
    "            cmap='Blues',\n",
    "            square=True, \n",
    "            cbar=False,\n",
    "            ax=ax)\n",
    "\n",
    "ax.set_ylabel('true', fontweight='bold')\n",
    "ax.set_xlabel('pred', fontweight='bold')\n",
    "\n",
    "ax.invert_xaxis()\n",
    "ax.invert_yaxis()\n",
    "plt.show()"
   ]
  },
  {
   "cell_type": "markdown",
   "id": "8d5ba6a1",
   "metadata": {},
   "source": [
    "FP와 FN의 이유가 무엇일지 고민하는 시간이 반드시 필요하다.\n",
    "꼭 실제 샘플들을 살펴보고 모델에게 어떤 점이 부족한지 알아야 한다.\n",
    "\n",
    "결론적으로 여기서 얻을 수 있는 첫번째 metric은 **정확도(accuracy)** 이다.\n",
    "\n",
    "\n",
    "$$accuracy = \\frac{TP+TN}{TP+TN+FP+FN}$$\n",
    "\n",
    "`정답 / 전체`로 이해할 수 있다. 하지만 불균형 데이터의 경우는 이 내용이 쉽지 않다. \n",
    "\n",
    "이것을 방지하기 위한 metric은 **F1 Score** 다.\n",
    "\n",
    "$$F_1 = \\frac{2}{\\frac{1}{recall} + \\frac{1}{precision}}$$\n",
    "\n",
    "여기서 recall은 재현율, precision은 정밀도라 한다.\n",
    "\n",
    "$$precision = \\frac{tp}{tp+fp}$$\n",
    "$$recall = \\frac{tp}{tp+fn}$$\n",
    "\n",
    "여기서 recall 또는 precision이 더 중요한 경우\n",
    "\n",
    "$$F_{\\beta} = \\frac{2}{\\frac{\\beta^2}{recall} + \\frac{1}{precision}}$$\n",
    "\n",
    "<div class=\"alert alert-block alert-warning\">\n",
    "<b>Quiz</b> 정밀도와 재현율을 평가지표인 대회를 만들 수 있을까?\n",
    "</div>\n",
    "\n",
    "정답은 ..."
   ]
  },
  {
   "cell_type": "code",
   "execution_count": 31,
   "id": "cedc658e",
   "metadata": {},
   "outputs": [
    {
     "name": "stdout",
     "output_type": "stream",
     "text": [
      "0.4\n"
     ]
    }
   ],
   "source": [
    "from sklearn.metrics import f1_score\n",
    "y_true = [1, 0, 1, 1, 0, 1]\n",
    "y_pred = [0, 0, 0, 1, 0, 0]\n",
    "result = f1_score(y_true, y_pred)\n",
    "\n",
    "print(result)"
   ]
  },
  {
   "cell_type": "markdown",
   "id": "b38e6040",
   "metadata": {},
   "source": [
    "sklearn을 사용하지 않고 numpy로 `TP, TN, FP, FN`을 계산해봅시다. (15분)\n",
    "\n",
    "- 반복문을 적게 사용 (numpy 문법이 익숙하지 않다면 반복문 사용도 가능)\n",
    "- numpy만을 사용해서 실제 sklearn 결과가 같도록"
   ]
  },
  {
   "cell_type": "code",
   "execution_count": 33,
   "id": "b898faad",
   "metadata": {},
   "outputs": [],
   "source": [
    "y_true = [1, 0, 1, 1, 0, 1, 0, 1, 0, 0]\n",
    "y_pred = [0, 0, 0, 1, 0, 0, 1, 1, 1, 1]"
   ]
  },
  {
   "cell_type": "code",
   "execution_count": 47,
   "id": "optical-thickness",
   "metadata": {},
   "outputs": [
    {
     "name": "stdout",
     "output_type": "stream",
     "text": [
      "[[2 3]\n",
      " [3 2]]\n",
      "<class 'numpy.ndarray'>\n"
     ]
    }
   ],
   "source": [
    "# 목표 결과\n",
    "print(confusion_matrix(y_true, y_pred))\n",
    "print(type(confusion_matrix(y_true, y_pred)))"
   ]
  },
  {
   "cell_type": "code",
   "execution_count": 46,
   "id": "revised-compiler",
   "metadata": {},
   "outputs": [
    {
     "name": "stdout",
     "output_type": "stream",
     "text": [
      "[[2, 3], [3, 2]]\n"
     ]
    }
   ],
   "source": [
    "# 풀이 1 : 반복문\n",
    "result = [[0, 0], \n",
    "          [0, 0]]\n",
    "\n",
    "for t, p in zip(y_true, y_pred):\n",
    "    result[t][p] += 1\n",
    "    \n",
    "print(result)      "
   ]
  },
  {
   "cell_type": "code",
   "execution_count": 48,
   "id": "posted-conversation",
   "metadata": {},
   "outputs": [
    {
     "name": "stdout",
     "output_type": "stream",
     "text": [
      "[[2, 3], [3, 2]]\n"
     ]
    }
   ],
   "source": [
    "# from pprint import pprint \n",
    "\n",
    "# pprint(result)"
   ]
  },
  {
   "cell_type": "code",
   "execution_count": 49,
   "id": "closing-connectivity",
   "metadata": {},
   "outputs": [
    {
     "name": "stdout",
     "output_type": "stream",
     "text": [
      "[1 0 1 1 0 1 0 1 0 0]\n",
      "[0 0 0 1 0 0 1 1 1 1]\n"
     ]
    }
   ],
   "source": [
    "# 풀이 2 : 힌트\n",
    "y_true = np.array(y_true)\n",
    "y_pred = np.array(y_pred)\n",
    "\n",
    "print(y_true)\n",
    "print(y_pred)"
   ]
  },
  {
   "cell_type": "code",
   "execution_count": 56,
   "id": "painted-embassy",
   "metadata": {},
   "outputs": [
    {
     "name": "stdout",
     "output_type": "stream",
     "text": [
      "[ True False  True  True False  True False  True False False]\n",
      "[False False False  True False False  True  True  True  True]\n",
      "[False False False  True False False False  True False False]\n"
     ]
    }
   ],
   "source": [
    "print(y_true == 1)\n",
    "print(y_pred == 1)\n",
    "print((y_true == 1) & (y_pred == 1)) \n",
    "\n",
    "tp = ((y_true == 1) & (y_pred == 1)).sum()\n",
    "tn = ((y_true == 0) & (y_pred == 0)).sum()\n",
    "fn = ((y_true == 1) & (y_pred == 0)).sum()\n",
    "fp = ((y_true == 0) & (y_pred == 1)).sum()"
   ]
  },
  {
   "cell_type": "markdown",
   "id": "4d1558e0",
   "metadata": {},
   "source": [
    "`accuracy, recall, precision, F1 score`를 계산해봅시다. (10분)"
   ]
  },
  {
   "cell_type": "code",
   "execution_count": 80,
   "id": "1fc5ab06",
   "metadata": {},
   "outputs": [
    {
     "name": "stdout",
     "output_type": "stream",
     "text": [
      "0.4\n",
      "0.4\n",
      "0.4\n",
      "0.4\n"
     ]
    }
   ],
   "source": [
    "y_true = [1, 0, 1, 1, 0, 1, 0, 1, 0, 0]\n",
    "y_pred = [0, 0, 0, 1, 0, 0, 1, 1, 1, 1]\n",
    "\n",
    "precision = tp/(tp+fp)\n",
    "recall = tp/(tp+fn)\n",
    "\n",
    "f1 = 2/(1/recall+1/precision)\n",
    "\n",
    "acc = (tp+tn)/(tp+tn+fn+fp)\n",
    "\n",
    "print(precision)\n",
    "print(recall)\n",
    "print(f1)\n",
    "print(acc)"
   ]
  },
  {
   "cell_type": "markdown",
   "id": "44a6dc87",
   "metadata": {},
   "source": [
    "<div class=\"alert alert-block alert-success\">\n",
    "<b>Tips</b> Category가 많아지만 micro, macro, weighted 등 다양한 방법으로 F1 score를 사용하기도 합니다.\n",
    "</div>\n",
    "\n"
   ]
  },
  {
   "cell_type": "markdown",
   "id": "dce0c3e1",
   "metadata": {},
   "source": [
    "### 1-3. 대회 지표 Logloss\n",
    "\n",
    "대회에서는 Logloss(Cross Entropy)라는 지표를 사용합니다.\n",
    "\n",
    "수식을 사용하면 다음과 같습니다.\n",
    "\n",
    "\n",
    "\n",
    "i번째 데이터와 클래스 m일 확률을 사용하여 계산합니다."
   ]
  },
  {
   "cell_type": "code",
   "execution_count": 81,
   "id": "9e5c0bb1",
   "metadata": {},
   "outputs": [
    {
     "name": "stdout",
     "output_type": "stream",
     "text": [
      "0.9202278211161898\n"
     ]
    }
   ],
   "source": [
    "from sklearn.metrics import log_loss\n",
    "# [1, 0] : 0번째가 정답\n",
    "# [0, 1] : 1번째가 정답\n",
    "y_true_onehot = [[0, 1], \n",
    "                 [0, 1], \n",
    "                 [1, 0], \n",
    "                 [1, 0]]\n",
    "\n",
    "# [0이 정답일 확률, 1이 정답일 확률]\n",
    "y_pred = [[.1, .9], \n",
    "          [.9, .1], \n",
    "          [.8, .2], \n",
    "          [.35, .65]]\n",
    "\n",
    "print(log_loss(y_true_onehot, y_pred))"
   ]
  },
  {
   "cell_type": "markdown",
   "id": "f244c8bb",
   "metadata": {},
   "source": [
    "\n",
    "`logloss` 직접구현하기 (20분)\n",
    "\n",
    "- 반복문 사용해도 괜찮습니다.\n",
    "- -true_onehot * log(pred)의 총합의 평균으로 계산하면 됩니다.\n",
    "- numpy를 최대한 활용해보세요\n",
    "- log는 math 라이브러리를 사용하거나, np.log를 사용하시면 됩니다."
   ]
  },
  {
   "cell_type": "code",
   "execution_count": 82,
   "id": "b6395c9a",
   "metadata": {},
   "outputs": [],
   "source": [
    "y_true_onehot = [[0, 1], [0, 1], [1, 0], [1, 0]]\n",
    "y_pred = [[.1, .9], [.9, .1], [.8, .2], [.35, .65]]"
   ]
  },
  {
   "cell_type": "code",
   "execution_count": 83,
   "id": "laughing-february",
   "metadata": {},
   "outputs": [
    {
     "name": "stdout",
     "output_type": "stream",
     "text": [
      "0.9202278211161898\n"
     ]
    }
   ],
   "source": [
    "# 풀이 1 : 반복문\n",
    "N, M = 4, 2\n",
    "# N = 4\n",
    "# M = 2\n",
    "logloss = 0\n",
    "\n",
    "for i in range(N):\n",
    "    for m in range(M):\n",
    "        logloss += y_true_onehot[i][m] * np.log(y_pred[i][m])\n",
    "\n",
    "print(-logloss/N)"
   ]
  },
  {
   "cell_type": "code",
   "execution_count": 87,
   "id": "direct-newspaper",
   "metadata": {},
   "outputs": [
    {
     "data": {
      "text/plain": [
       "0.9202278211161898"
      ]
     },
     "execution_count": 87,
     "metadata": {},
     "output_type": "execute_result"
    }
   ],
   "source": [
    "y_true_onehot = np.array(y_true_onehot)\n",
    "y_pred = np.array(y_pred)\n",
    "\n",
    "-(y_true_onehot * np.log(y_pred)).sum() / len(y_true_onehot)"
   ]
  },
  {
   "cell_type": "markdown",
   "id": "e568dff4",
   "metadata": {},
   "source": [
    "### 1-4. 그 외 회귀 지표\n",
    "\n",
    "- MAE(Mean Absolute Error) : 절대값 에러 평균\n",
    "- RMSE(Root Mean Square Error) \n",
    "\n",
    "MAE는 각 값의 차의 절대값을 합하여 평균낸 것입니다."
   ]
  },
  {
   "cell_type": "code",
   "execution_count": 88,
   "id": "d5a20e43",
   "metadata": {},
   "outputs": [
    {
     "name": "stdout",
     "output_type": "stream",
     "text": [
      "0.5\n"
     ]
    }
   ],
   "source": [
    "from sklearn.metrics import mean_absolute_error\n",
    "y_true = [3, -0.5, 2, 7]\n",
    "y_pred = [2.5, 0.0, 2, 8]\n",
    "# 0.5, 0.5, 0, 1 \n",
    "# 2 / 4 = 0.5\n",
    "result = mean_absolute_error(y_true, y_pred)\n",
    "\n",
    "print(result)"
   ]
  },
  {
   "cell_type": "markdown",
   "id": "8546fe93",
   "metadata": {},
   "source": [
    "~1시 40분까지\n",
    "\n",
    "직접 MAE 계산해보기 (5분)\n",
    "\n",
    "- 반드시 numpy로 할 것"
   ]
  },
  {
   "cell_type": "code",
   "execution_count": 93,
   "id": "92f5125f",
   "metadata": {},
   "outputs": [
    {
     "name": "stdout",
     "output_type": "stream",
     "text": [
      "2.25\n"
     ]
    }
   ],
   "source": [
    "y_true = [3, -0.5, 2, 7]\n",
    "y_pred = [2.5, 0.0, 2, 15]\n",
    "\n",
    "y_true = np.array(y_true)\n",
    "y_pred = np.array(y_pred)\n",
    "\n",
    "print(np.abs(y_true-y_pred).mean())"
   ]
  },
  {
   "cell_type": "markdown",
   "id": "6b0191fe",
   "metadata": {},
   "source": [
    "RMSE는 각 값의 차를 제곱하여 합한 후에 root를 취한 값입니다."
   ]
  },
  {
   "cell_type": "code",
   "execution_count": 90,
   "id": "006006df",
   "metadata": {},
   "outputs": [
    {
     "data": {
      "text/plain": [
       "0.375"
      ]
     },
     "execution_count": 90,
     "metadata": {},
     "output_type": "execute_result"
    }
   ],
   "source": [
    "from sklearn.metrics import mean_squared_error\n",
    "y_true = [3, -0.5, 2, 7]\n",
    "y_pred = [2.5, 0.0, 2, 8]\n",
    "# 0.5 -> 0.25 \n",
    "# 0.5 -> 0.25\n",
    "# 0 -> 0\n",
    "# 1 -> 1\n",
    "# 1.5 / 4 => 0.375\n",
    "mean_squared_error(y_true, y_pred)"
   ]
  },
  {
   "cell_type": "markdown",
   "id": "a4012807",
   "metadata": {},
   "source": [
    "직접 RMSE 계산해보기 (5분)"
   ]
  },
  {
   "cell_type": "code",
   "execution_count": 92,
   "id": "e9d92d6f",
   "metadata": {},
   "outputs": [
    {
     "name": "stdout",
     "output_type": "stream",
     "text": [
      "16.125\n"
     ]
    }
   ],
   "source": [
    "y_true = [3, -0.5, 2, 7]\n",
    "y_pred = [2.5, 0.0, 2, 15]\n",
    "\n",
    "y_true = np.array(y_true)\n",
    "y_pred = np.array(y_pred)\n",
    "\n",
    "print(np.square(y_true-y_pred).mean())"
   ]
  },
  {
   "cell_type": "markdown",
   "id": "e3115992",
   "metadata": {},
   "source": [
    "## 2. Classification Algorithm\n",
    "\n",
    "### 2-1. 다양한 ML 분류 알고리즘\n",
    "\n",
    "경진대회에서는 비교적 적게 쓰이지만 꼭 알아야 하는 알고리즘입니다.\n",
    "\n",
    "- [K Nearest Neighbors](https://scikit-learn.org/stable/modules/generated/sklearn.neighbors.KNeighborsClassifier.html#sklearn.neighbors.KNeighborsClassifier)\n",
    "- Linear Regression\n",
    "- Logistic Regression\n",
    "- [Support Vector Machine](https://scikit-learn.org/stable/modules/generated/sklearn.svm.SVC.html#sklearn.svm.SVC)\n",
    "- [Decision Tree](https://scikit-learn.org/stable/modules/generated/sklearn.tree.DecisionTreeClassifier.html#sklearn.tree.DecisionTreeClassifier)\n",
    "- [Random Forest](https://scikit-learn.org/stable/modules/generated/sklearn.ensemble.RandomForestClassifier.html)\n",
    "\n",
    "기본 알고리즘을 알아야 하는 이유는 여러가지 입니다.\n",
    "\n",
    "- 현업에서는 프로토타입을 만들 때 사용할 수 있다.\n",
    "- 알고리즘이 직관적인 결과를 제공하여 설명할 수 있다.\n",
    "- 정제된 데이터에서는 기본 알고리즘도 좋은 효과를 낼 수 있다.\n",
    "- Baseline을 만들 때, 쉽게 사용할 수 있다.\n",
    "- 복잡한 알고리즘의 토대가 된다.\n",
    "\n",
    "**실제 경진대회에서 사용하는 알고리즘**\n",
    "\n",
    "정형데이터 대회에서는 다음 알고리즘이 기본적으로 사용됩니다.\n",
    "\n",
    "3일차에 진행할 예정이며 이미 배우신 분들은 미리 사용하셔도 좋습니다.\n",
    "\n",
    "- XGBoost\n",
    "- LGBM\n",
    "- Catboost\n",
    "- TabNet\n",
    "- DNN based Model (1d-cnn)\n",
    "\n",
    "비정형대회에서는 해당 task에 맞는 방법론들이 사용됩니다."
   ]
  },
  {
   "cell_type": "markdown",
   "id": "b249f808",
   "metadata": {},
   "source": [
    "### 2-2. 알고리즘을 사용하기에 앞서...\n",
    "\n",
    "해당 기본 알고리즘을 호출해봅시다."
   ]
  },
  {
   "cell_type": "code",
   "execution_count": 100,
   "id": "d65b7ff0",
   "metadata": {},
   "outputs": [],
   "source": [
    "from sklearn.neighbors import KNeighborsClassifier\n",
    "from sklearn.svm import SVC\n",
    "from sklearn.tree import DecisionTreeClassifier\n",
    "from sklearn.ensemble import RandomForestClassifier"
   ]
  },
  {
   "cell_type": "markdown",
   "id": "08c5a78e",
   "metadata": {},
   "source": [
    "알고리즘에서 사용하는 몇 가지 파라미터를 꼭 살펴봅시다."
   ]
  },
  {
   "cell_type": "code",
   "execution_count": 105,
   "id": "8ce0835a",
   "metadata": {},
   "outputs": [
    {
     "data": {
      "text/plain": [
       "KNeighborsClassifier(n_neighbors=3)"
      ]
     },
     "execution_count": 105,
     "metadata": {},
     "output_type": "execute_result"
    }
   ],
   "source": [
    "clf = KNeighborsClassifier(n_neighbors=3)\n",
    "X = np.array([[-1, -1], [-2, -1], [1, 1], [2, 1]])\n",
    "y = np.array(['a', 'a', 'b', 'b'])\n",
    "clf.fit(X,y)"
   ]
  },
  {
   "cell_type": "code",
   "execution_count": 106,
   "id": "reported-elite",
   "metadata": {},
   "outputs": [
    {
     "name": "stdout",
     "output_type": "stream",
     "text": [
      "['a' 'a' 'b' 'b']\n"
     ]
    }
   ],
   "source": [
    "print(clf.predict(X)) # 예측"
   ]
  },
  {
   "cell_type": "code",
   "execution_count": 107,
   "id": "clear-working",
   "metadata": {},
   "outputs": [
    {
     "name": "stdout",
     "output_type": "stream",
     "text": [
      "1.0\n"
     ]
    }
   ],
   "source": [
    "print(clf.score(X,y)) # 점수"
   ]
  },
  {
   "cell_type": "code",
   "execution_count": 108,
   "id": "dcaeb944",
   "metadata": {},
   "outputs": [
    {
     "name": "stdout",
     "output_type": "stream",
     "text": [
      "[[0.66666667 0.33333333]\n",
      " [0.66666667 0.33333333]\n",
      " [0.33333333 0.66666667]\n",
      " [0.33333333 0.66666667]]\n"
     ]
    }
   ],
   "source": [
    "print(clf.predict_proba(X))"
   ]
  },
  {
   "cell_type": "code",
   "execution_count": 109,
   "id": "4cb3e5a9",
   "metadata": {},
   "outputs": [
    {
     "name": "stdout",
     "output_type": "stream",
     "text": [
      "['a' 'b']\n"
     ]
    }
   ],
   "source": [
    "print(clf.classes_)"
   ]
  },
  {
   "cell_type": "markdown",
   "id": "a926bcfe",
   "metadata": {},
   "source": [
    "이렇게 간단하게 전처리를 합쳐서 파이프라인을 만들 수도있습니다."
   ]
  },
  {
   "cell_type": "code",
   "execution_count": 111,
   "id": "ad48725b",
   "metadata": {},
   "outputs": [
    {
     "data": {
      "text/plain": [
       "1.0"
      ]
     },
     "execution_count": 111,
     "metadata": {},
     "output_type": "execute_result"
    }
   ],
   "source": [
    "from sklearn.pipeline import make_pipeline\n",
    "from sklearn.preprocessing import StandardScaler\n",
    "\n",
    "\n",
    "X = np.array([[-1, -1], [-2, -1], [1, 1], [2, 1]])\n",
    "y = np.array([1, 1, 2, 2])\n",
    "\n",
    "clf = make_pipeline(StandardScaler(), \n",
    "                    SVC(gamma='auto', probability=True)\n",
    "                   )\n",
    "clf.fit(X, y)\n",
    "clf.score(X, y)"
   ]
  },
  {
   "cell_type": "markdown",
   "id": "f89b47c3",
   "metadata": {},
   "source": [
    "### 2-3. RandomForest로 결과만들기 (25분) 2:45까지\n",
    "\n",
    "- 범주형 변수는 모두 one-hot encoding으로 바꾸고\n",
    "- 변환된 범주형 변수는 모두 drop할것.\n",
    "- 수치형 변수는 그대로 유지\n",
    "- occyp_type의 경우는 fillna를 사용하여 string `'NULL'`로 변경\n",
    "- RandomForest 모델을 사용하여 제출 1회하기\n",
    "- **test에도 똑같은 변환을 해줘야 한다.**"
   ]
  },
  {
   "cell_type": "markdown",
   "id": "oriental-correlation",
   "metadata": {},
   "source": [
    "pd.get_dummies를 사용하면 pandas에서 onehot encoding을 쉽게할 수 있다."
   ]
  },
  {
   "cell_type": "code",
   "execution_count": 117,
   "id": "excessive-exposure",
   "metadata": {},
   "outputs": [],
   "source": [
    "# pd.get_dummies(data['gender'])\n",
    "# pd.get_dummies(data['reality'], prefix='reality', prefix_sep='-')"
   ]
  },
  {
   "cell_type": "code",
   "execution_count": 120,
   "id": "6654aa8c",
   "metadata": {},
   "outputs": [
    {
     "name": "stdout",
     "output_type": "stream",
     "text": [
      "(26457, 56)\n"
     ]
    }
   ],
   "source": [
    "data_sample = data.copy()\n",
    "\n",
    "\n",
    "ohe_cats = []\n",
    "for cat_col in cat_columns:\n",
    "    ohe_cats.append(pd.get_dummies(data[cat_col], prefix=cat_col, prefix_sep='-'))\n",
    "\n",
    "data_sample = data_sample.join(ohe_cats)\n",
    "data_sample.drop(cat_columns, axis=1, inplace=True)\n",
    "\n"
   ]
  },
  {
   "cell_type": "code",
   "execution_count": 121,
   "id": "dressed-cuisine",
   "metadata": {},
   "outputs": [
    {
     "data": {
      "text/plain": [
       "1.0"
      ]
     },
     "execution_count": 121,
     "metadata": {},
     "output_type": "execute_result"
    }
   ],
   "source": [
    "rf = RandomForestClassifier()\n",
    "rf.fit(data_sample, target)\n",
    "\n",
    "rf.score(data_sample, target)"
   ]
  },
  {
   "cell_type": "code",
   "execution_count": 123,
   "id": "difficult-field",
   "metadata": {},
   "outputs": [
    {
     "name": "stdout",
     "output_type": "stream",
     "text": [
      "(10000, 56)\n"
     ]
    }
   ],
   "source": [
    "test_sample = test_data.copy()\n",
    "\n",
    "\n",
    "ohe_cats = []\n",
    "for cat_col in cat_columns:\n",
    "    ohe_cats.append(pd.get_dummies(test_sample[cat_col], prefix=cat_col, prefix_sep='-'))\n",
    "\n",
    "test_sample = test_sample.join(ohe_cats)\n",
    "test_sample.drop(cat_columns, axis=1, inplace=True)\n",
    "\n",
    "print(test_sample.shape)"
   ]
  },
  {
   "cell_type": "code",
   "execution_count": 124,
   "id": "vocational-pattern",
   "metadata": {},
   "outputs": [],
   "source": [
    "result = rf.predict_proba(test_sample)"
   ]
  },
  {
   "cell_type": "code",
   "execution_count": 127,
   "id": "retained-pharmacology",
   "metadata": {},
   "outputs": [
    {
     "data": {
      "text/html": [
       "<div>\n",
       "<style scoped>\n",
       "    .dataframe tbody tr th:only-of-type {\n",
       "        vertical-align: middle;\n",
       "    }\n",
       "\n",
       "    .dataframe tbody tr th {\n",
       "        vertical-align: top;\n",
       "    }\n",
       "\n",
       "    .dataframe thead th {\n",
       "        text-align: right;\n",
       "    }\n",
       "</style>\n",
       "<table border=\"1\" class=\"dataframe\">\n",
       "  <thead>\n",
       "    <tr style=\"text-align: right;\">\n",
       "      <th></th>\n",
       "      <th>index</th>\n",
       "      <th>0</th>\n",
       "      <th>1</th>\n",
       "      <th>2</th>\n",
       "    </tr>\n",
       "  </thead>\n",
       "  <tbody>\n",
       "    <tr>\n",
       "      <th>0</th>\n",
       "      <td>26457</td>\n",
       "      <td>0.04</td>\n",
       "      <td>0.16</td>\n",
       "      <td>0.80</td>\n",
       "    </tr>\n",
       "    <tr>\n",
       "      <th>1</th>\n",
       "      <td>26458</td>\n",
       "      <td>0.34</td>\n",
       "      <td>0.18</td>\n",
       "      <td>0.48</td>\n",
       "    </tr>\n",
       "    <tr>\n",
       "      <th>2</th>\n",
       "      <td>26459</td>\n",
       "      <td>0.07</td>\n",
       "      <td>0.25</td>\n",
       "      <td>0.68</td>\n",
       "    </tr>\n",
       "    <tr>\n",
       "      <th>3</th>\n",
       "      <td>26460</td>\n",
       "      <td>0.15</td>\n",
       "      <td>0.14</td>\n",
       "      <td>0.71</td>\n",
       "    </tr>\n",
       "    <tr>\n",
       "      <th>4</th>\n",
       "      <td>26461</td>\n",
       "      <td>0.09</td>\n",
       "      <td>0.21</td>\n",
       "      <td>0.70</td>\n",
       "    </tr>\n",
       "  </tbody>\n",
       "</table>\n",
       "</div>"
      ],
      "text/plain": [
       "   index     0     1     2\n",
       "0  26457  0.04  0.16  0.80\n",
       "1  26458  0.34  0.18  0.48\n",
       "2  26459  0.07  0.25  0.68\n",
       "3  26460  0.15  0.14  0.71\n",
       "4  26461  0.09  0.21  0.70"
      ]
     },
     "execution_count": 127,
     "metadata": {},
     "output_type": "execute_result"
    }
   ],
   "source": [
    "sample_submission['0'] = result[:, 0]\n",
    "sample_submission['1'] = result[:, 1]\n",
    "sample_submission['2'] = result[:, 2]\n",
    "\n",
    "sample_submission.head()\n",
    "sample_submission.to_csv('sample_rf.csv', index=False)"
   ]
  },
  {
   "cell_type": "markdown",
   "id": "1aab7aa5",
   "metadata": {},
   "source": [
    "## 3. Validation\n",
    "\n",
    "### 3-0. Overfitting & Underfitting\n",
    "\n",
    "ML에서 발생할 수 있는 문제점의 대표적인 문제는 이것입니다.\n",
    "\n",
    "**Overfitting을 방지할 수 있는 방법**\n",
    "\n",
    "1. 데이터 관점에서 더 많은 데이터를 확보하면 된다. 더 다양한 유효한 특성을 공부할 것.\n",
    "    - 비정형 데이터에서는 data augmentation 등을 진행\n",
    "2. 모델의 복잡도를 낮춰준다.\n",
    "    - 신경망이라면 모델의 깊이를 낮춰줄 것\n",
    "    - 결정트리 기반이라면 depth를 줄일 것 + 가지치기\n",
    "3. 정규화를 사용한다.\n",
    "    - Ridge, Lasso 등 정규화 사용하는 모델로 변경해볼 것\n",
    "4. 앙상블 모델을 사용한다.\n",
    "    - 여러 모델의 결과를 평균\n",
    "    \n",
    "**Underfitting을 방지할 수 있는 방법**\n",
    "\n",
    "1. 새로운 특성 추가한다.\n",
    "2. 모델의 복잡도 증가시킨다.\n",
    "3. 정규화 계수를 줄인다.\n",
    "\n",
    "---\n",
    "\n",
    "이런 Overfitting과 Underfitting을 확인하기 위해서는 Leaderboard와 본인의 결과가 잘 비교되야 한다.\n",
    "\n",
    "그렇기에 검증은 필수적이다.\n",
    "\n",
    "### 3-1. 검증 (Validataion)\n",
    "\n",
    "- 모델을 만들면서 가장 중요한 것은 모델이 좋은지 나쁜지 평가해야 한다.\n",
    "- 이때 이미 학습에 이용한 데이터로 평가하려 해도 모델은 그 정답을 알고 있는 상황!!\n",
    "- 미지의 데이터에 대한 예측 능력을 평가할 수가 없다.\n",
    "- 학습데이터 중 일부를 사용하여 미지의 데이터로 남겨두고 이를 검증용으로 사용한다.\n",
    "- 모니터링 용도로 사용할 수 있다.\n",
    "\n",
    "큰 분류는 2가지이다.\n",
    "\n",
    "1. 일부 데이터를 검증용으로 나누는 홀드아웃 방법\n",
    "2. 전체 데이터를 효과적으로 사용하는 교차 검증 방법\n",
    "\n",
    "그리고 교차 검증 방법은 다음과 같은 순서로 이뤄진다.\n",
    "\n",
    "1. 학습 데이터를 여러 개로 분할한다. (이를 fold라고 부름)\n",
    "2. 그 중 하나를 검증 데이터, 나머지를 학습데이터로 삼아 학습 및 평가를 실시하고 검증 데이터에서 점수를 구한다.\n",
    "3. 분할한 횟수만큼 검증 데이터를 바꿔가며 2의 내용을 반복한다.\n",
    "4. 검증 데이터의 평균 점수로 모델의 좋고 나쁨을 평가한다.\n",
    "\n",
    "\n",
    "![](https://scikit-learn.org/stable/_images/grid_search_cross_validation.png)\n",
    "\n",
    "- [시각화로 보는 검증](https://scikit-learn.org/stable/auto_examples/model_selection/plot_cv_indices.html#sphx-glr-auto-examples-model-selection-plot-cv-indices-py)"
   ]
  },
  {
   "cell_type": "markdown",
   "id": "f2e95109",
   "metadata": {},
   "source": [
    "### 3-2. Holdout Set (Train Test Split)\n",
    "\n",
    "개인적으로 빠르게 해보며 성능을 확인할 수 있다는 장점이 있다.\n",
    "\n",
    "일반적으로 사용하는 비율은 ...\n",
    "\n",
    "- 7:3\n",
    "- 8:2\n",
    "- 9:1\n",
    "\n",
    "등이 있습니다."
   ]
  },
  {
   "cell_type": "code",
   "execution_count": 130,
   "id": "democratic-baghdad",
   "metadata": {},
   "outputs": [
    {
     "data": {
      "text/plain": [
       "array([[0., 1., 0.],\n",
       "       [0., 1., 0.],\n",
       "       [0., 0., 1.],\n",
       "       ...,\n",
       "       [0., 0., 1.],\n",
       "       [0., 0., 1.],\n",
       "       [0., 0., 1.]])"
      ]
     },
     "execution_count": 130,
     "metadata": {},
     "output_type": "execute_result"
    }
   ],
   "source": [
    "from sklearn.preprocessing import OneHotEncoder\n",
    "ohe = OneHotEncoder(sparse=False)\n",
    "target_ohe = ohe.fit_transform(target.values.reshape(-1, 1))\n",
    "ohe.categories_\n",
    "\n",
    "target_ohe"
   ]
  },
  {
   "cell_type": "code",
   "execution_count": 135,
   "id": "f4fa4a78",
   "metadata": {},
   "outputs": [
    {
     "name": "stdout",
     "output_type": "stream",
     "text": [
      "0.7545651773815915\n",
      "0.8039950409042865\n"
     ]
    }
   ],
   "source": [
    "from sklearn.model_selection import train_test_split\n",
    "\n",
    "y = target.values\n",
    "X = data_sample\n",
    "\n",
    "X_train, X_val, y_train, y_val = train_test_split(X, y, test_size=0.2, random_state=42)\n",
    "\n",
    "rf = RandomForestClassifier(n_estimators=1000, max_depth=10)\n",
    "rf.fit(X_train, y_train)\n",
    "\n",
    "pred = rf.predict_proba(X_train)\n",
    "print(log_loss(ohe.transform(y_train.reshape(-1, 1)), pred))\n",
    "\n",
    "pred = rf.predict_proba(X_val)\n",
    "print(log_loss(ohe.transform(y_val.reshape(-1, 1)), pred))"
   ]
  },
  {
   "cell_type": "markdown",
   "id": "27c63d29",
   "metadata": {},
   "source": [
    "### 3-3. K-Fold Cross Validation\n",
    "\n",
    "- K의 수가 증가하면 -> 훈련 시간이 증가 (5~10)\n",
    "- 비슷한 모델이 많은 것은 큰 의미 없음\n",
    "- 좋은 모델이 많은 게 중요\n",
    "\n",
    "k fold = 2 : 50 / 50\n",
    "k fold = 5 : 80 / 20\n",
    "k fold = 10 : 90 / 10\n",
    "\n",
    "훈련에 사용하는 데이터셋 12.5% => 실제 학습 시간 2배"
   ]
  },
  {
   "cell_type": "code",
   "execution_count": 142,
   "id": "c9636a9f",
   "metadata": {},
   "outputs": [
    {
     "name": "stdout",
     "output_type": "stream",
     "text": [
      "0 step\n",
      "1 step\n",
      "2 step\n",
      "3 step\n",
      "4 step\n",
      "[0.17114845265742792, 0.17152422850924523, 0.17117866403262902, 0.17027122108771653, 0.1693036865014079]\n",
      "0.17068525055768533\n",
      "[0.7890749239995245, 0.7967317968559043, 0.8103485540039757, 0.8111003796677482, 0.7975382726384247]\n",
      "0.8009587854331155\n"
     ]
    }
   ],
   "source": [
    "from sklearn.model_selection import KFold\n",
    "\n",
    "scores_train = []\n",
    "scores_val = [] \n",
    "kf = KFold(n_splits=5, shuffle=True, random_state=71)\n",
    "\n",
    "for ith, (tr_idx, va_idx) in enumerate(kf.split(X)):\n",
    "    print(f'{ith} step')\n",
    "    X_train, X_val = data_sample.iloc[tr_idx], data_sample.iloc[va_idx]\n",
    "    y_train, y_val = y[tr_idx], y[va_idx]\n",
    "    \n",
    "    rf = RandomForestClassifier()\n",
    "    rf.fit(X_train, y_train)\n",
    "    \n",
    "    pred = rf.predict_proba(X_train)\n",
    "    score_train = log_loss(ohe.transform(y_train.reshape(-1, 1)), pred)\n",
    "    \n",
    "    pred = rf.predict_proba(X_val)\n",
    "    score_val = log_loss(ohe.transform(y_val.reshape(-1, 1)), pred)\n",
    "\n",
    "    scores_train.append(score_train)\n",
    "    scores_val.append(score_val)\n",
    "\n",
    "print(scores_train)\n",
    "print(np.mean(scores_train))\n",
    "\n",
    "print(scores_val)\n",
    "print(np.mean(scores_val))"
   ]
  },
  {
   "cell_type": "markdown",
   "id": "e1c9bd03",
   "metadata": {},
   "source": [
    "### 3-4. Stratified K-Fold Cross Validation"
   ]
  },
  {
   "cell_type": "code",
   "execution_count": 154,
   "id": "bc97cf10",
   "metadata": {},
   "outputs": [
    {
     "name": "stdout",
     "output_type": "stream",
     "text": [
      "[0.7609263516000696, 0.7926505962802112, 0.7772834622102038, 0.7866935974233705, 0.7571084029045914]\n",
      "0.7749324820836894\n"
     ]
    }
   ],
   "source": [
    "from sklearn.model_selection import StratifiedKFold\n",
    "\n",
    "scores = [] \n",
    "skf = StratifiedKFold(n_splits=5, shuffle=True, random_state=71)\n",
    "\n",
    "for tr_idx, va_idx in skf.split(X, y):\n",
    "    X_train, X_val = data.iloc[tr_idx], data.iloc[va_idx]\n",
    "    y_train, y_val = y[tr_idx], y[va_idx]\n",
    "    rf = RandomForestClassifier()\n",
    "    rf.fit(X_train[num_columns], y_train)\n",
    "    pred = rf.predict_proba(X_val[num_columns])\n",
    "    score = log_loss(ohe.transform(y_val.reshape(-1, 1)), pred)\n",
    "    \n",
    "    scores.append(score)\n",
    "\n",
    "print(scores)\n",
    "print(np.mean(scores))"
   ]
  },
  {
   "cell_type": "markdown",
   "id": "ahead-slave",
   "metadata": {},
   "source": [
    "대회 제출을 위해서는 다음과 같이 만들어볼 수 있습니다."
   ]
  },
  {
   "cell_type": "code",
   "execution_count": 157,
   "id": "c141dc53",
   "metadata": {},
   "outputs": [
    {
     "name": "stdout",
     "output_type": "stream",
     "text": [
      "[0.7676294691566209, 0.7874592903911215, 0.767446562961343, 0.774295933941783, 0.7736900990205592]\n",
      "0.7741042710942855\n"
     ]
    }
   ],
   "source": [
    "from sklearn.model_selection import StratifiedKFold\n",
    "\n",
    "\n",
    "scores = [] \n",
    "results = []\n",
    "skf = StratifiedKFold(n_splits=5, shuffle=True, random_state=71)\n",
    "\n",
    "for tr_idx, va_idx in skf.split(X, y):\n",
    "    X_train, X_val = data_sample.iloc[tr_idx], data_sample.iloc[va_idx]\n",
    "    y_train, y_val = y[tr_idx], y[va_idx]\n",
    "    rf = RandomForestClassifier()\n",
    "    rf.fit(X_train, y_train)\n",
    "    pred = rf.predict_proba(X_val)\n",
    "    score = log_loss(ohe.transform(y_val.reshape(-1, 1)), pred)\n",
    "    scores.append(score)\n",
    "    \n",
    "    results.append(rf.predict_proba(test_sample))\n",
    "\n",
    "print(scores)\n",
    "print(np.mean(scores))"
   ]
  },
  {
   "cell_type": "code",
   "execution_count": 159,
   "id": "02c13fac",
   "metadata": {},
   "outputs": [
    {
     "name": "stdout",
     "output_type": "stream",
     "text": [
      "[[0.098 0.194 0.708]\n",
      " [0.33  0.158 0.512]\n",
      " [0.088 0.252 0.66 ]\n",
      " ...\n",
      " [0.06  0.138 0.802]\n",
      " [0.168 0.394 0.438]\n",
      " [0.146 0.288 0.566]]\n"
     ]
    }
   ],
   "source": [
    "result = np.array(results).mean(axis=0)\n",
    "print(result)\n",
    "\n",
    "sample_submission['0'] = result[:, 0]\n",
    "sample_submission['1'] = result[:, 1]\n",
    "sample_submission['2'] = result[:, 2]\n",
    "\n",
    "sample_submission.to_csv('cb5.csv', index=False)"
   ]
  },
  {
   "cell_type": "markdown",
   "id": "6b3d2476",
   "metadata": {},
   "source": [
    "### 3-5. LOOCV\n",
    "\n",
    "Leave One Out Cross Validation은 Leave-p-Out Cross Validation의 일종입니다.\n",
    "\n",
    "검증 데이터가 1개씩 사용하는 방법으로 데이터가 적을 때, 효과적인 방법입니다. \n",
    "\n",
    "p개씩 하는 LPOCV의 일종이기도 합니다.\n",
    "\n",
    "시간이 오래걸리므로 추천하지는 않습니다."
   ]
  },
  {
   "cell_type": "code",
   "execution_count": 160,
   "id": "a1b0d7ff",
   "metadata": {},
   "outputs": [],
   "source": [
    "from sklearn.model_selection import LeaveOneOut"
   ]
  },
  {
   "cell_type": "markdown",
   "id": "01d2b9ff",
   "metadata": {},
   "source": [
    "## 4. Feature Engineering\n",
    "\n",
    "### 4-1. 다양한 테크닉들\n",
    "\n",
    "모델보다 중요한 것은 중요한 feature를 찾는 것.\n",
    "결국엔 언제나 입력을 잘 만들어주는 것이 중요하다.\n",
    "\n",
    "- Feature Interaction (aka 사칙연산)\n",
    "- Dimension Reduction\n",
    "- Groupby Feature (statistics feature)\n",
    "- Frequency Encoding\n",
    "- Target Encoding\n",
    "- Natural Language Embedding\n",
    "- Split String\n",
    "- feature from missing value \n",
    "- Clipping"
   ]
  },
  {
   "cell_type": "markdown",
   "id": "ec8f82b0",
   "metadata": {},
   "source": [
    "### 4-2. Feature Interaction\n",
    "\n",
    "feature간의 다양한 연산을 통해 새로운 feature를 만들 수 있습니다.\n",
    "\n",
    "- 덧셈\n",
    "- 뺄셈\n",
    "- 곱셈\n",
    "- 나눗셈\n",
    "\n",
    "왜 이 연산들을 통해 새로운 feature를 만들면 좋은 feature를 만들 수 있을까요?"
   ]
  },
  {
   "cell_type": "markdown",
   "id": "a3cddfa7",
   "metadata": {},
   "source": [
    "다음과 같은 변수들을 만들어봅시다. (후에 제출용으로 만들 때는 test data에도 만들어야 합니다.) (10분)\n",
    "\n",
    "1. 고용되기 전까지 일수 (DAYS_BIRTH-DAYS_EMPLOYED)\n",
    "2. 나이\n",
    "3. 소득 / 가족수"
   ]
  },
  {
   "cell_type": "code",
   "execution_count": 162,
   "id": "63b54ab3",
   "metadata": {},
   "outputs": [],
   "source": [
    "data_sample['age'] = data_sample['DAYS_BIRTH'] / 365\n",
    "test_sample['age'] = test_sample['DAYS_BIRTH'] / 365"
   ]
  },
  {
   "cell_type": "code",
   "execution_count": 163,
   "id": "determined-organizer",
   "metadata": {},
   "outputs": [],
   "source": [
    "data_sample['first_hired'] = data_sample['DAYS_BIRTH'] - data_sample['DAYS_EMPLOYED']\n",
    "test_sample['first_hired'] = test_sample['DAYS_BIRTH'] - test_sample['DAYS_EMPLOYED']"
   ]
  },
  {
   "cell_type": "markdown",
   "id": "23e6db85",
   "metadata": {},
   "source": [
    "### 4-3. Dimension Reduction & Clustering\n",
    "\n",
    "Dimension Reduction은 차원을 줄이는 방법으로 다양한 방법이 존재합니다.\n",
    "\n",
    "차원을 줄이는 이유는 다양합니다.\n",
    "\n",
    "1. feature가 너무 많을 때, 효과적인 feature를 찾기 위해 (고차원->저차원)\n",
    "2. noise 제거 및 성능 향상\n",
    "2. 시각화를 통해 고차원 데이터 분포\n",
    "\n",
    "Dimension Reduction은 꾸준하게 연구되고 있으며 현재 가장 많이 사용하는 방법은 다음과 같습니다.\n",
    "\n",
    "- PCA\n",
    "\n",
    "주성분 분석이라는 방법입니다.\n",
    "\n",
    "- T-SNE / UMAP\n",
    "\n",
    "구체적인 방법을 설명하기는 비교적 어렵습니다. \n",
    "\n",
    "멀리있는 데이터는 멀리보네고, 가까이 있는 데이터는 가깝게 유지하는 방법을 사용하여 데이터의 분포를 저차원에서 줄입니다.\n",
    "\n",
    "\n",
    "#### Further Reading\n",
    "\n",
    "- [T-SNE 이론적 설명](https://lovit.github.io/nlp/representation/2018/09/28/tsne/)\n",
    "- [How to use t-sne Effectively](https://distill.pub/2016/misread-tsne/)"
   ]
  },
  {
   "cell_type": "code",
   "execution_count": 164,
   "id": "miniature-material",
   "metadata": {},
   "outputs": [],
   "source": [
    "# !pip install umap-learn"
   ]
  },
  {
   "cell_type": "code",
   "execution_count": 165,
   "id": "e56a1a00",
   "metadata": {},
   "outputs": [],
   "source": [
    "from sklearn.decomposition import PCA\n",
    "from sklearn.manifold import TSNE\n",
    "from umap import UMAP\n",
    "\n",
    "# pca = PCA(n_components=2)\n",
    "# tsne = TSNE(n_components=2,random_state=0)\n",
    "umap = UMAP(random_state=0)"
   ]
  },
  {
   "cell_type": "code",
   "execution_count": 166,
   "id": "encouraging-encounter",
   "metadata": {},
   "outputs": [],
   "source": [
    "data_sample_dr = umap.fit_transform(data_sample, target)"
   ]
  },
  {
   "cell_type": "code",
   "execution_count": 169,
   "id": "continent-steps",
   "metadata": {},
   "outputs": [
    {
     "data": {
      "image/png": "[encoded data removed]",
      "text/plain": [
       "<Figure size 1000x1000 with 1 Axes>"
      ]
     },
     "metadata": {
      "needs_background": "light"
     },
     "output_type": "display_data"
    }
   ],
   "source": [
    "fig, ax = plt.subplots(1, 1, figsize=(10, 10), dpi=100)\n",
    "\n",
    "for i in [0, 1, 2]:\n",
    "    ax.scatter(data_sample_dr[:,0][target==i], data_sample_dr[:,1][target==i], \n",
    "               alpha=0.3, label=i)\n",
    "\n",
    "ax.legend()\n",
    "plt.show()"
   ]
  },
  {
   "cell_type": "markdown",
   "id": "absent-separate",
   "metadata": {},
   "source": [
    "각각 pca, tsne, umap은 `scaler`나 `classifier`와 마찬가지로 `fit`과 `transform` 기능을 가지고 있습니다.\n",
    "\n",
    "train data의 numerical columns에 대해 pca의 결과, tsne의 결과, umap의 결과를 다른 파일에 저장하시오. (15분)"
   ]
  },
  {
   "cell_type": "markdown",
   "id": "81547f6f",
   "metadata": {},
   "source": [
    "### 4-4. Groupby Feature (Statistics)\n",
    "\n",
    "앞서 말한 방법의 심화입니다. Groupby를 사용한 다양한 통계값을 사용하여 새로운 feature를 만들어줄 수 있습니다."
   ]
  },
  {
   "cell_type": "code",
   "execution_count": 173,
   "id": "82ba7e78",
   "metadata": {
    "scrolled": true
   },
   "outputs": [
    {
     "data": {
      "text/plain": [
       "gender\n",
       "F    0.388314\n",
       "M    0.510160\n",
       "Name: child_num, dtype: float64"
      ]
     },
     "execution_count": 173,
     "metadata": {},
     "output_type": "execute_result"
    }
   ],
   "source": [
    "data.groupby(['gender'])['child_num'].mean()"
   ]
  },
  {
   "cell_type": "code",
   "execution_count": 175,
   "id": "dd44b007",
   "metadata": {},
   "outputs": [],
   "source": [
    "data_sample['child_mean'] = data.groupby(['gender'])['child_num'].transform(np.mean)"
   ]
  },
  {
   "cell_type": "markdown",
   "id": "processed-capture",
   "metadata": {},
   "source": [
    "<div class=\"alert alert-block alert-warning\">\n",
    "<b>Quiz</b> 평균을 쓰는 것이 정답일까?\n",
    "</div>\n"
   ]
  },
  {
   "cell_type": "markdown",
   "id": "56d00b0a",
   "metadata": {},
   "source": [
    "### 4-5. Frequency Encoding\n",
    "\n",
    "프리퀀시 인코딩은 각 레벨의 출현 횟수 혹은 출현 빈도로 범주형 변수를 대체하는 방법입니다.\n",
    "\n",
    "각 레벨의 출현빈도가 target과 관련성이 있을 때 유효합니다. 즉, 균등하다면 의미가 없습니다.\n",
    "\n",
    "다음과 같이 진행할 수 있습니다.\n",
    "\n",
    "``` py\n",
    "for c in cat_columns:\n",
    "    freq = train[c].value_counts()\n",
    "    train[c] = train[c].map(freq)\n",
    "    test[c] = test[c].map(freq)\n",
    "```\n",
    "\n",
    "해당 과정을 train data와 test data에 모두 적용해보시오 "
   ]
  },
  {
   "cell_type": "code",
   "execution_count": 176,
   "id": "historical-money",
   "metadata": {},
   "outputs": [
    {
     "data": {
      "text/plain": [
       "F    17697\n",
       "M     8760\n",
       "Name: gender, dtype: int64"
      ]
     },
     "execution_count": 176,
     "metadata": {},
     "output_type": "execute_result"
    }
   ],
   "source": [
    "data['gender'].value_counts()"
   ]
  },
  {
   "cell_type": "markdown",
   "id": "925ee665",
   "metadata": {},
   "source": [
    "### 4-6. Target Encoding\n",
    "\n",
    "target를 이용하여 범주형 변수를 수치형 변수로 변환하는 방법입니다.\n",
    "\n",
    "범주형 변수의 각 클래스별로 target의 평균값으로 치환하여 사용합니다.\n",
    "\n",
    "- target의 정보가 노출되기 때문에 KFold를 사용\n",
    "- noise를 더하여 누출을 방지\n",
    "- 불균형 방지를 위해 데이터 평균 및 가중치 추가\n",
    "\n",
    "고려할 부분이 상당히 많음."
   ]
  },
  {
   "cell_type": "code",
   "execution_count": 180,
   "id": "improved-montgomery",
   "metadata": {},
   "outputs": [
    {
     "data": {
      "text/plain": [
       "gender  car  reality\n",
       "F       N    N          1.543035\n",
       "             Y          1.506998\n",
       "        Y    N          1.492833\n",
       "             Y          1.534573\n",
       "M       N    N          1.506093\n",
       "             Y          1.503229\n",
       "        Y    N          1.542125\n",
       "             Y          1.525104\n",
       "Name: credit, dtype: float64"
      ]
     },
     "execution_count": 180,
     "metadata": {},
     "output_type": "execute_result"
    }
   ],
   "source": [
    "data = pd.read_csv(train_path)\n",
    "data.groupby(['gender', 'car', 'reality'])['credit'].mean()"
   ]
  },
  {
   "cell_type": "code",
   "execution_count": 181,
   "id": "2e1f500c",
   "metadata": {},
   "outputs": [
    {
     "name": "stdout",
     "output_type": "stream",
     "text": [
      "Requirement already satisfied: category_encoders in /usr/local/var/pyenv/versions/3.8.6/lib/python3.8/site-packages (2.2.2)\n",
      "Requirement already satisfied: statsmodels>=0.9.0 in /usr/local/var/pyenv/versions/3.8.6/lib/python3.8/site-packages (from category_encoders) (0.12.2)\n",
      "Requirement already satisfied: scikit-learn>=0.20.0 in /usr/local/var/pyenv/versions/3.8.6/lib/python3.8/site-packages (from category_encoders) (0.24.2)\n",
      "Requirement already satisfied: scipy>=1.0.0 in /usr/local/var/pyenv/versions/3.8.6/lib/python3.8/site-packages (from category_encoders) (1.6.2)\n",
      "Requirement already satisfied: pandas>=0.21.1 in /usr/local/var/pyenv/versions/3.8.6/lib/python3.8/site-packages (from category_encoders) (1.1.5)\n",
      "Requirement already satisfied: numpy>=1.14.0 in /usr/local/var/pyenv/versions/3.8.6/lib/python3.8/site-packages (from category_encoders) (1.19.5)\n",
      "Requirement already satisfied: patsy>=0.5.1 in /usr/local/var/pyenv/versions/3.8.6/lib/python3.8/site-packages (from category_encoders) (0.5.1)\n",
      "Requirement already satisfied: pytz>=2017.2 in /usr/local/var/pyenv/versions/3.8.6/lib/python3.8/site-packages (from pandas>=0.21.1->category_encoders) (2021.1)\n",
      "Requirement already satisfied: python-dateutil>=2.7.3 in /usr/local/var/pyenv/versions/3.8.6/lib/python3.8/site-packages (from pandas>=0.21.1->category_encoders) (2.8.1)\n",
      "Requirement already satisfied: six in /usr/local/var/pyenv/versions/3.8.6/lib/python3.8/site-packages (from patsy>=0.5.1->category_encoders) (1.15.0)\n",
      "Requirement already satisfied: joblib>=0.11 in /usr/local/var/pyenv/versions/3.8.6/lib/python3.8/site-packages (from scikit-learn>=0.20.0->category_encoders) (1.0.1)\n",
      "Requirement already satisfied: threadpoolctl>=2.0.0 in /usr/local/var/pyenv/versions/3.8.6/lib/python3.8/site-packages (from scikit-learn>=0.20.0->category_encoders) (2.2.0)\n"
     ]
    }
   ],
   "source": [
    "!pip install category_encoders"
   ]
  },
  {
   "cell_type": "code",
   "execution_count": 182,
   "id": "c5ba0ff7",
   "metadata": {},
   "outputs": [
    {
     "data": {
      "text/plain": [
       "TargetEncoder(cols=['gender'])"
      ]
     },
     "execution_count": 182,
     "metadata": {},
     "output_type": "execute_result"
    }
   ],
   "source": [
    "from category_encoders.target_encoder import TargetEncoder\n",
    "\n",
    "te = TargetEncoder() \n",
    "# 훈련데이터의 target의 통계치로 특징을 만들어줌\n",
    "# gender가 female = 1.518, male=1.521\n",
    "te.fit(data['gender'], target)"
   ]
  },
  {
   "cell_type": "code",
   "execution_count": 185,
   "id": "offshore-tradition",
   "metadata": {},
   "outputs": [
    {
     "data": {
      "text/html": [
       "<div>\n",
       "<style scoped>\n",
       "    .dataframe tbody tr th:only-of-type {\n",
       "        vertical-align: middle;\n",
       "    }\n",
       "\n",
       "    .dataframe tbody tr th {\n",
       "        vertical-align: top;\n",
       "    }\n",
       "\n",
       "    .dataframe thead th {\n",
       "        text-align: right;\n",
       "    }\n",
       "</style>\n",
       "<table border=\"1\" class=\"dataframe\">\n",
       "  <thead>\n",
       "    <tr style=\"text-align: right;\">\n",
       "      <th></th>\n",
       "      <th>gender</th>\n",
       "    </tr>\n",
       "  </thead>\n",
       "  <tbody>\n",
       "    <tr>\n",
       "      <th>0</th>\n",
       "      <td>1.521119</td>\n",
       "    </tr>\n",
       "    <tr>\n",
       "      <th>1</th>\n",
       "      <td>1.518788</td>\n",
       "    </tr>\n",
       "    <tr>\n",
       "      <th>2</th>\n",
       "      <td>1.518788</td>\n",
       "    </tr>\n",
       "    <tr>\n",
       "      <th>3</th>\n",
       "      <td>1.521119</td>\n",
       "    </tr>\n",
       "    <tr>\n",
       "      <th>4</th>\n",
       "      <td>1.518788</td>\n",
       "    </tr>\n",
       "    <tr>\n",
       "      <th>...</th>\n",
       "      <td>...</td>\n",
       "    </tr>\n",
       "    <tr>\n",
       "      <th>9995</th>\n",
       "      <td>1.518788</td>\n",
       "    </tr>\n",
       "    <tr>\n",
       "      <th>9996</th>\n",
       "      <td>1.521119</td>\n",
       "    </tr>\n",
       "    <tr>\n",
       "      <th>9997</th>\n",
       "      <td>1.518788</td>\n",
       "    </tr>\n",
       "    <tr>\n",
       "      <th>9998</th>\n",
       "      <td>1.518788</td>\n",
       "    </tr>\n",
       "    <tr>\n",
       "      <th>9999</th>\n",
       "      <td>1.518788</td>\n",
       "    </tr>\n",
       "  </tbody>\n",
       "</table>\n",
       "<p>10000 rows × 1 columns</p>\n",
       "</div>"
      ],
      "text/plain": [
       "        gender\n",
       "0     1.521119\n",
       "1     1.518788\n",
       "2     1.518788\n",
       "3     1.521119\n",
       "4     1.518788\n",
       "...        ...\n",
       "9995  1.518788\n",
       "9996  1.521119\n",
       "9997  1.518788\n",
       "9998  1.518788\n",
       "9999  1.518788\n",
       "\n",
       "[10000 rows x 1 columns]"
      ]
     },
     "execution_count": 185,
     "metadata": {},
     "output_type": "execute_result"
    }
   ],
   "source": [
    "te.transform(test_data['gender'])"
   ]
  },
  {
   "cell_type": "markdown",
   "id": "ff1ef6de",
   "metadata": {},
   "source": [
    "<div class=\"alert alert-block alert-warning\">\n",
    "<b>Quiz</b> 해당 target은 0, 1, 2이기에 평균이 의미가 없을 수 있다. 어떻게 하면 좋은 Feature를 만들 수 있을까?\n",
    "</div>\n"
   ]
  },
  {
   "cell_type": "markdown",
   "id": "92434df1",
   "metadata": {},
   "source": [
    "### 4-7. Split String Feature \n",
    "\n",
    "일부 hash값으로 구성된 string의 경우, string을 쪼개어 숫자부/문자부 등으로 구분하여 사용할 수 있습니다.\n",
    "\n",
    "<div class=\"alert alert-block alert-success\">\n",
    "<b>Tips</b> 2021-07-31의 경우, 2021과 07을 사용할 수 있다.\n",
    "</div>\n"
   ]
  },
  {
   "cell_type": "code",
   "execution_count": 184,
   "id": "precise-scott",
   "metadata": {},
   "outputs": [
    {
     "data": {
      "text/html": [
       "<div>\n",
       "<style scoped>\n",
       "    .dataframe tbody tr th:only-of-type {\n",
       "        vertical-align: middle;\n",
       "    }\n",
       "\n",
       "    .dataframe tbody tr th {\n",
       "        vertical-align: top;\n",
       "    }\n",
       "\n",
       "    .dataframe thead th {\n",
       "        text-align: right;\n",
       "    }\n",
       "</style>\n",
       "<table border=\"1\" class=\"dataframe\">\n",
       "  <thead>\n",
       "    <tr style=\"text-align: right;\">\n",
       "      <th></th>\n",
       "      <th>index</th>\n",
       "      <th>gender</th>\n",
       "      <th>car</th>\n",
       "      <th>reality</th>\n",
       "      <th>child_num</th>\n",
       "      <th>income_total</th>\n",
       "      <th>income_type</th>\n",
       "      <th>edu_type</th>\n",
       "      <th>family_type</th>\n",
       "      <th>house_type</th>\n",
       "      <th>DAYS_BIRTH</th>\n",
       "      <th>DAYS_EMPLOYED</th>\n",
       "      <th>FLAG_MOBIL</th>\n",
       "      <th>work_phone</th>\n",
       "      <th>phone</th>\n",
       "      <th>email</th>\n",
       "      <th>occyp_type</th>\n",
       "      <th>family_size</th>\n",
       "      <th>begin_month</th>\n",
       "      <th>credit</th>\n",
       "    </tr>\n",
       "  </thead>\n",
       "  <tbody>\n",
       "    <tr>\n",
       "      <th>0</th>\n",
       "      <td>0</td>\n",
       "      <td>F</td>\n",
       "      <td>N</td>\n",
       "      <td>N</td>\n",
       "      <td>0</td>\n",
       "      <td>202500.0</td>\n",
       "      <td>Commercial associate</td>\n",
       "      <td>Higher education</td>\n",
       "      <td>Married</td>\n",
       "      <td>Municipal apartment</td>\n",
       "      <td>-13899</td>\n",
       "      <td>-4709</td>\n",
       "      <td>1</td>\n",
       "      <td>0</td>\n",
       "      <td>0</td>\n",
       "      <td>0</td>\n",
       "      <td>NaN</td>\n",
       "      <td>2.0</td>\n",
       "      <td>-6.0</td>\n",
       "      <td>1.0</td>\n",
       "    </tr>\n",
       "    <tr>\n",
       "      <th>1</th>\n",
       "      <td>1</td>\n",
       "      <td>F</td>\n",
       "      <td>N</td>\n",
       "      <td>Y</td>\n",
       "      <td>1</td>\n",
       "      <td>247500.0</td>\n",
       "      <td>Commercial associate</td>\n",
       "      <td>Secondary / secondary special</td>\n",
       "      <td>Civil marriage</td>\n",
       "      <td>House / apartment</td>\n",
       "      <td>-11380</td>\n",
       "      <td>-1540</td>\n",
       "      <td>1</td>\n",
       "      <td>0</td>\n",
       "      <td>0</td>\n",
       "      <td>1</td>\n",
       "      <td>Laborers</td>\n",
       "      <td>3.0</td>\n",
       "      <td>-5.0</td>\n",
       "      <td>1.0</td>\n",
       "    </tr>\n",
       "    <tr>\n",
       "      <th>2</th>\n",
       "      <td>2</td>\n",
       "      <td>M</td>\n",
       "      <td>Y</td>\n",
       "      <td>Y</td>\n",
       "      <td>0</td>\n",
       "      <td>450000.0</td>\n",
       "      <td>Working</td>\n",
       "      <td>Higher education</td>\n",
       "      <td>Married</td>\n",
       "      <td>House / apartment</td>\n",
       "      <td>-19087</td>\n",
       "      <td>-4434</td>\n",
       "      <td>1</td>\n",
       "      <td>0</td>\n",
       "      <td>1</td>\n",
       "      <td>0</td>\n",
       "      <td>Managers</td>\n",
       "      <td>2.0</td>\n",
       "      <td>-22.0</td>\n",
       "      <td>2.0</td>\n",
       "    </tr>\n",
       "    <tr>\n",
       "      <th>3</th>\n",
       "      <td>3</td>\n",
       "      <td>F</td>\n",
       "      <td>N</td>\n",
       "      <td>Y</td>\n",
       "      <td>0</td>\n",
       "      <td>202500.0</td>\n",
       "      <td>Commercial associate</td>\n",
       "      <td>Secondary / secondary special</td>\n",
       "      <td>Married</td>\n",
       "      <td>House / apartment</td>\n",
       "      <td>-15088</td>\n",
       "      <td>-2092</td>\n",
       "      <td>1</td>\n",
       "      <td>0</td>\n",
       "      <td>1</td>\n",
       "      <td>0</td>\n",
       "      <td>Sales staff</td>\n",
       "      <td>2.0</td>\n",
       "      <td>-37.0</td>\n",
       "      <td>0.0</td>\n",
       "    </tr>\n",
       "    <tr>\n",
       "      <th>4</th>\n",
       "      <td>4</td>\n",
       "      <td>F</td>\n",
       "      <td>Y</td>\n",
       "      <td>Y</td>\n",
       "      <td>0</td>\n",
       "      <td>157500.0</td>\n",
       "      <td>State servant</td>\n",
       "      <td>Higher education</td>\n",
       "      <td>Married</td>\n",
       "      <td>House / apartment</td>\n",
       "      <td>-15037</td>\n",
       "      <td>-2105</td>\n",
       "      <td>1</td>\n",
       "      <td>0</td>\n",
       "      <td>0</td>\n",
       "      <td>0</td>\n",
       "      <td>Managers</td>\n",
       "      <td>2.0</td>\n",
       "      <td>-26.0</td>\n",
       "      <td>2.0</td>\n",
       "    </tr>\n",
       "  </tbody>\n",
       "</table>\n",
       "</div>"
      ],
      "text/plain": [
       "   index gender car reality  child_num  income_total           income_type  \\\n",
       "0      0      F   N       N          0      202500.0  Commercial associate   \n",
       "1      1      F   N       Y          1      247500.0  Commercial associate   \n",
       "2      2      M   Y       Y          0      450000.0               Working   \n",
       "3      3      F   N       Y          0      202500.0  Commercial associate   \n",
       "4      4      F   Y       Y          0      157500.0         State servant   \n",
       "\n",
       "                        edu_type     family_type           house_type  \\\n",
       "0               Higher education         Married  Municipal apartment   \n",
       "1  Secondary / secondary special  Civil marriage    House / apartment   \n",
       "2               Higher education         Married    House / apartment   \n",
       "3  Secondary / secondary special         Married    House / apartment   \n",
       "4               Higher education         Married    House / apartment   \n",
       "\n",
       "   DAYS_BIRTH  DAYS_EMPLOYED  FLAG_MOBIL  work_phone  phone  email  \\\n",
       "0      -13899          -4709           1           0      0      0   \n",
       "1      -11380          -1540           1           0      0      1   \n",
       "2      -19087          -4434           1           0      1      0   \n",
       "3      -15088          -2092           1           0      1      0   \n",
       "4      -15037          -2105           1           0      0      0   \n",
       "\n",
       "    occyp_type  family_size  begin_month  credit  \n",
       "0          NaN          2.0         -6.0     1.0  \n",
       "1     Laborers          3.0         -5.0     1.0  \n",
       "2     Managers          2.0        -22.0     2.0  \n",
       "3  Sales staff          2.0        -37.0     0.0  \n",
       "4     Managers          2.0        -26.0     2.0  "
      ]
     },
     "execution_count": 184,
     "metadata": {},
     "output_type": "execute_result"
    }
   ],
   "source": [
    "data['family_type_first'] = data['family_type'].apply(lambda x : x[0])"
   ]
  },
  {
   "cell_type": "markdown",
   "id": "972c12ef",
   "metadata": {},
   "source": [
    "### 4-8. Natural Language Embedding\n",
    "\n",
    "자연어가 포함되어 있는 경우에 이를 vector로 표현하는 것도 하나의 방식입니다.\n",
    "\n",
    "- Word2Vec\n",
    "- TF-IDF \n",
    "- FastText\n",
    "- Bert\n",
    "\n",
    "등의 자연어 처리 방법론이 있습니다.\n",
    "일반적으로 `설명` feature가 있어 해당 설명을 모델에 넣기위해 사용합니다.\n",
    "\n",
    "\n",
    "[한국-서울+도쿄](https://word2vec.kr/search/?query=%ED%95%9C%EA%B5%AD-%EC%84%9C%EC%9A%B8%2B%EB%8F%84%EC%BF%84) 처럼 연산을 할 수 있다.\n",
    "\n",
    "좀 더 좋은 퀄리티의 [구글 자료](http://projector.tensorflow.org/)을 살펴봅시다.\n",
    "\n",
    "#### Further Reading\n",
    "\n",
    "- https://wikidocs.net/book/2155"
   ]
  },
  {
   "cell_type": "markdown",
   "id": "endless-cause",
   "metadata": {},
   "source": [
    "### 4-9. Feature from Missing Value\n",
    "\n",
    "결측치가 있다면 결측치가 있음을 1로, 결측치가 없음은 0으로 추가할 수도 있습니다. \n",
    "\n",
    "Occyp의 빈부분을 결측치가 있는 경우 1, 없는 경우 0으로 만들어보시오. (10분)"
   ]
  },
  {
   "cell_type": "code",
   "execution_count": 189,
   "id": "greatest-ocean",
   "metadata": {},
   "outputs": [],
   "source": [
    "data['occyp_type_null'] = data['occyp_type'].apply(lambda x : 0 if x else 1)"
   ]
  },
  {
   "cell_type": "markdown",
   "id": "available-gilbert",
   "metadata": {},
   "source": [
    "### 4-10. Clipping\n",
    "\n",
    "Scaling이 완료되었거나 범위가 극단적인 경우는 양끝을 잘라줄 수도 있습니다.\n",
    "\n",
    "가족 수에 관련된 feature를 본인의 기준에 따라 N명 이상인 경우는 N명으로 바꾸시오. 그리고 스케일링하시오."
   ]
  },
  {
   "cell_type": "code",
   "execution_count": 191,
   "id": "proved-israel",
   "metadata": {},
   "outputs": [],
   "source": [
    "data['child_num'] = data['child_num'].apply(lambda x : x if x<7 else 7)"
   ]
  },
  {
   "cell_type": "markdown",
   "id": "c6f83625",
   "metadata": {},
   "source": [
    "## Further Reading\n",
    "\n",
    "- category encoding : https://www.kaggle.com/c/cat-in-the-dat/overview"
   ]
  },
  {
   "cell_type": "markdown",
   "id": "infinite-spouse",
   "metadata": {},
   "source": [
    "## 5. 오늘의 목표 (30분)\n",
    "\n",
    "1. 범주형 변수 인코딩\n",
    "2. 수치형 변수와 범주형 변수를 통한 변수 생성\n",
    "3. Stratified KFold + 본인이 ML에서 선택하고 싶은 모델로 모델 생성\n",
    "4. 모델의 결과를 평균 내고 제출"
   ]
  },
  {
   "cell_type": "code",
   "execution_count": null,
   "id": "harmful-istanbul",
   "metadata": {},
   "outputs": [],
   "source": []
  }
 ],
 "metadata": {
  "hide_input": false,
  "kernelspec": {
   "display_name": "Python 3",
   "language": "python",
   "name": "python3"
  },
  "language_info": {
   "codemirror_mode": {
    "name": "ipython",
    "version": 3
   },
   "file_extension": ".py",
   "mimetype": "text/x-python",
   "name": "python",
   "nbconvert_exporter": "python",
   "pygments_lexer": "ipython3",
   "version": "3.8.8"
  },
  "toc": {
   "base_numbering": 1,
   "nav_menu": {},
   "number_sections": true,
   "sideBar": true,
   "skip_h1_title": false,
   "title_cell": "Table of Contents",
   "title_sidebar": "Contents",
   "toc_cell": false,
   "toc_position": {},
   "toc_section_display": true,
   "toc_window_display": false
  },
  "varInspector": {
   "cols": {
    "lenName": 16,
    "lenType": 16,
    "lenVar": 40
   },
   "kernels_config": {
    "python": {
     "delete_cmd_postfix": "",
     "delete_cmd_prefix": "del ",
     "library": "var_list.py",
     "varRefreshCmd": "print(var_dic_list())"
    },
    "r": {
     "delete_cmd_postfix": ") ",
     "delete_cmd_prefix": "rm(",
     "library": "var_list.r",
     "varRefreshCmd": "cat(var_dic_list()) "
    }
   },
   "types_to_exclude": [
    "module",
    "function",
    "builtin_function_or_method",
    "instance",
    "_Feature"
   ],
   "window_display": false
  }
 },
 "nbformat": 4,
 "nbformat_minor": 5
}
